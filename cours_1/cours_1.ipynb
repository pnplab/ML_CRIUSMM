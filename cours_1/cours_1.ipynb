{
 "cells": [
  {
   "cell_type": "markdown",
   "metadata": {
    "slideshow": {
     "slide_type": "slide"
    }
   },
   "source": [
    "# COURS 1\n",
    "\n",
    "\n",
    "##  1. Quelques éléments différenciant les statistiques inférentielles et l'apprentissage machine. \n",
    "\n",
    "## 2. Quelques concepts fondamentaux de l'apprentissage machine\n"
   ]
  },
  {
   "cell_type": "markdown",
   "metadata": {},
   "source": [
    "\n",
    "##  1. Quelques éléments différenciant les statistiques inférentielles et l'apprentissage machine. \n",
    "\n",
    "<div style=\"text-align: center\">\n",
    "        <img src=\"./cours_1/images/points_importants.svg\" alt=\"Drawing\" style=\"\n",
    "    display: inline-block !important;\n",
    "    width: 2000px;\n",
    "    \" />\n",
    "</div>"
   ]
  },
  {
   "cell_type": "markdown",
   "metadata": {
    "slideshow": {
     "slide_type": "subslide"
    }
   },
   "source": [
    "## 1.1. Interprétabilité vs Prédictions\n",
    "\n",
    "<img src=\"./cours_1/images/points_importants_1.svg\" alt=\"Drawing\" style=\"width: 2000px;\"/>"
   ]
  },
  {
   "cell_type": "markdown",
   "metadata": {
    "slideshow": {
     "slide_type": "fragment"
    }
   },
   "source": [
    "Historiquement, les méthodes associées aux statistiques inférentielles et à l'apprentissage machine ont été développées avec en tête des objectifs différents.\n",
    "\n",
    "**Inférences statistiques**: comprendre et expliquer un phénomène.\n",
    "- On vise une avancée **théorique**\n",
    "\n",
    "**Apprentissage machine**: prédire le résultat de nouvelles\n",
    "- On vise une application **pratique**"
   ]
  },
  {
   "cell_type": "markdown",
   "metadata": {
    "slideshow": {
     "slide_type": "slide"
    }
   },
   "source": [
    "<b><div style=\"background-color:rgba(253, 174, 97, 1); text-align:center; vertical-align: middle; padding:0px 0;\">\n",
    "    1.1.1. Statistiques inférentielles: modèles interprétables\n",
    "</div></b>\n",
    "Quelques exemples..."
   ]
  },
  {
   "cell_type": "markdown",
   "metadata": {
    "slideshow": {
     "slide_type": "slide"
    }
   },
   "source": [
    "<b><div style=\"background-color:rgba(171, 221, 164, 1); text-align:center; vertical-align: middle; padding:0px 0;\">\n",
    "    1.1.2. Apprentissage machine: modèles prédictifs\n",
    "</div></b>\n",
    "\n",
    "Quelques exemples..."
   ]
  },
  {
   "cell_type": "markdown",
   "metadata": {
    "slideshow": {
     "slide_type": "slide"
    }
   },
   "source": [
    "## 1.2. Groupes vs Individus\n",
    "\n",
    "<img src=\"./cours_1/images/points_importants_2.svg\" alt=\"Drawing\" style=\"width: 2000px;\"/>"
   ]
  },
  {
   "cell_type": "markdown",
   "metadata": {
    "slideshow": {
     "slide_type": "slide"
    }
   },
   "source": [
    "<b><div style=\"background-color:rgba(253, 174, 97, 1); text-align:center; vertical-align: middle; padding:0px 0;\">\n",
    "    1.2.1. Statistiques inférentielles: généralisation sur des groupes\n",
    "</div></b>\n",
    "\n",
    "En statistiques inférentielles classiques, une analyse existe dans un univers bien précis... \n",
    "- L'univers où l'hypothèse nulle est vraie."
   ]
  },
  {
   "cell_type": "markdown",
   "metadata": {
    "slideshow": {
     "slide_type": "fragment"
    }
   },
   "source": [
    "Or, on ne voit jamais cet univers! On espère qu'il ressemble réellement à l'image qu'on s'en fait... \n",
    "- On se rassure en respectant plusieurs postulats et en essayant de gérer au mieux nos données manquantes/extrêmes/influentes...\n",
    "- Si tout se passe comme on l'espère, on pourra obtenir une conclusion valide, indiquant si l'on peut ou non rejeter l'hypothèse  selon laquelle notre échantillon provient bel et bien de l'univers de notre hypothèse nulle (communément appelé \"population\"). "
   ]
  },
  {
   "cell_type": "markdown",
   "metadata": {
    "slideshow": {
     "slide_type": "fragment"
    }
   },
   "source": [
    "<div style=\"background-color:rgba(244, 109, 67, .8); text-align:center; vertical-align: middle; padding:10px 0;\">\n",
    "    <b> \n",
    "        Notre conclusion en est donc immanquablement une sur des groupes d'individus.  \n",
    "    </b>\n",
    "</div>"
   ]
  },
  {
   "cell_type": "markdown",
   "metadata": {
    "slideshow": {
     "slide_type": "fragment"
    }
   },
   "source": [
    "Ex. 1: Est-ce que le **groupe** correspondant à notre échantillon diffère de la population correspondant à l'hypothèse nulle ?\n",
    "<br><br>Ex. 2: Est-ce que deux **groupes** correspondant à deux échantillons proviennent d'une même population ?\n",
    "<br><br>Ex. 3: Est-ce que la relation existant entre plusieurs variables dans notre **groupe** (i.e. dans notre échantillon) diffère de la relation existant entre ces même variables dans l'univers de notre hypothèse nulle?"
   ]
  },
  {
   "cell_type": "markdown",
   "metadata": {
    "slideshow": {
     "slide_type": "slide"
    }
   },
   "source": [
    "<b><div style=\"background-color:rgba(171, 221, 164, 1); text-align:center; vertical-align: middle; padding:0px 0;\">\n",
    "    1.2.2. Apprentissage machine: généralisation sur des individus\n",
    "</div></b>\n",
    "\n",
    "En statistiques inférentielles, l'objectif est de mieux comprendre un phénomène.\n",
    "- Le nerf de la guerre est le rejet de l'hypothèse nulle.\n",
    "\n",
    "\n",
    "<br>L'emphase est sur le développement de modèles interprétables.\n",
    "\n",
    "- On ne s'intéresse pas principalement à la capacité du modèle à prédire de nouvelles observations <br>(l'hypothèse nulle ne permettant de conclure que sur des groupes).\n",
    "- On veut essentiellement mieux comprendre l'importance de certaines variables sur des groupes d'individus dans un modèle explicatif."
   ]
  },
  {
   "cell_type": "markdown",
   "metadata": {
    "slideshow": {
     "slide_type": "fragment"
    }
   },
   "source": [
    "<div style=\"background-color:rgba(102, 194, 165, .8);  vertical-align: middle; padding:10px 0;\">\n",
    "    <b> \n",
    "        RÉSULTATS, RÉSULTATS, RÉSULTATS...!\n",
    "        <br><br>\n",
    "        En APPRENTISSAGE MACHINE, l'objectif est de prédire l'avenir.\n",
    "        <ul>\n",
    "            <li>Le nerf de la guerre est la capacité de **généralisation des apprentissages** à de nouveaux individus.</li>\n",
    "        </ul>\n",
    "        <br><br>\n",
    "        L'emphase est sur le développement de méthodes permettant de prédire de nouvelles observations.\n",
    "        <ul>\n",
    "            <li>On ne s'intéresse pas principalement au modèle permettant de faire la prédiction</li>\n",
    "            <li>On veut simplement que le modèle fasse les meilleures prédictions possibles!</li>\n",
    "        </ul>\n",
    "    </b>\n",
    "</div>"
   ]
  },
  {
   "cell_type": "markdown",
   "metadata": {
    "slideshow": {
     "slide_type": "slide"
    }
   },
   "source": [
    "## 1.3. Méthode déductive vs méthode inductive\n",
    "\n",
    "<img src=\"./cours_1/images/points_importants_3.svg\" alt=\"Drawing\" style=\"width: 2000px;\"/>"
   ]
  },
  {
   "cell_type": "markdown",
   "metadata": {
    "slideshow": {
     "slide_type": "slide"
    }
   },
   "source": [
    "<b><div style=\"background-color:rgba(253, 174, 97, 1); text-align:center; vertical-align: middle; padding:0px 0;\">\n",
    "    1.3.1. Statistiques inférentielles: une approche déductive\n",
    "</div></b>\n",
    "\n",
    "Cet univers où l'hypothèse nulle est vraie...\n",
    "\n",
    "<div style=\"text-align: center\">\n",
    "        <img src=\"./cours_1/images/h0_interval.svg\" alt=\"Drawing\" style=\"display: inline-block !important; width: 800px;\" />\n",
    "</div>"
   ]
  },
  {
   "cell_type": "markdown",
   "metadata": {
    "slideshow": {
     "slide_type": "subslide"
    }
   },
   "source": [
    "<b><div style=\"background-color:rgba(253, 174, 97, 1); text-align:center; vertical-align: middle; padding:0px 0;\">\n",
    "    1.3.1. Statistiques inférentielles: une approche déductive\n",
    "</div></b>\n",
    "\n",
    "Le modèle décrivant les données est défini **AVANT** la récolte des données.\n",
    "\n",
    "$Y = b_0 + \\epsilon$\n",
    "\n",
    "$Y = b_0 + b_1 X_1 + b_2 X_2 + \\epsilon$\n",
    "\n",
    "$Y = b_0 + b_1 X_1 + b_2 X_2 + b_3 X_1 X_2 + \\epsilon$\n",
    "\n",
    "$Y = b_0 + b_1 X_1^2 + \\epsilon$"
   ]
  },
  {
   "cell_type": "markdown",
   "metadata": {
    "slideshow": {
     "slide_type": "fragment"
    }
   },
   "source": [
    "Le modèle décrivant les données est essentiellement basé sur la documentation.\n",
    "- Le modèle est interprétable\n",
    "- Le modèle fait du sens pour le chercheur"
   ]
  },
  {
   "cell_type": "markdown",
   "metadata": {
    "slideshow": {
     "slide_type": "subslide"
    }
   },
   "source": [
    "<b><div style=\"background-color:rgba(253, 174, 97, 1); text-align:center; vertical-align: middle; padding:0px 0;\">\n",
    "    1.3.1. Statistiques inférentielles: une approche déductive\n",
    "</div></b>\n",
    "\n",
    "Les valeurs critiques sont établies selon un processus essentiellement **DÉDUCTIF**.\n",
    "\n",
    "Ex. de processus déductif: \n",
    "1. **Si** un être est humain, **Alors** il est mortel.\n",
    "2. Socrate est un être humain.\n",
    "3. Donc, Socrate est mortel."
   ]
  },
  {
   "cell_type": "markdown",
   "metadata": {
    "slideshow": {
     "slide_type": "subslide"
    }
   },
   "source": [
    "<b><div style=\"background-color:rgba(253, 174, 97, 1); text-align:center; vertical-align: middle; padding:0px 0;\">\n",
    "    1.3.1. Statistiques inférentielles: une approche déductive\n",
    "</div></b>\n",
    "\n",
    "Pour pouvoir utiliser un processus déductif, on doit d'abord connaître une loi générale.\n",
    "- Exemple de loi générale : **Si** un être est humain, **Alors** il est mortel."
   ]
  },
  {
   "cell_type": "markdown",
   "metadata": {
    "slideshow": {
     "slide_type": "fragment"
    }
   },
   "source": [
    "Ensuite, 4 cas peuvent survenir:\n",
    "1. Socrate est un être humain, Donc Socrate est mortel.\n",
    "2. Socrate n'est pas un être humain, auquel cas... on ne peut rien conclure.\n",
    "3. Socrate est mortel, auquel cas... on ne peut rien conclure.\n",
    "4. **Socrate n'est pas mortel, Donc Socrate n'est pas un être humain.**"
   ]
  },
  {
   "cell_type": "markdown",
   "metadata": {
    "slideshow": {
     "slide_type": "subslide"
    }
   },
   "source": [
    "<b><div style=\"background-color:rgba(253, 174, 97, 1); text-align:center; vertical-align: middle; padding:0px 0;\">\n",
    "    1.3.1. Statistiques inférentielles: une approche déductive\n",
    "</div></b>\n",
    "\n",
    "Dans le cadre d'un test d'hypothèse, la loi générale est la suivante (ex. test z):\n",
    "- **Si** un échantillon est tiré de la population Y, **Alors** dans 95 % des cas, son score z sur la distribution d'échantillonnage de la population Y se situera entre -1.96 et +1.96."
   ]
  },
  {
   "cell_type": "markdown",
   "metadata": {
    "slideshow": {
     "slide_type": "fragment"
    }
   },
   "source": [
    "Revoyons les quatre cas, mais dans le contexte du test d'hypothèse :\n",
    "\n",
    "<div style=\"text-align: center\">\n",
    "        <img src=\"./cours_1/images/deduction.svg\" alt=\"Drawing\" style=\"display: inline-block !important; width: 2000px;\" />\n",
    "</div>"
   ]
  },
  {
   "cell_type": "markdown",
   "metadata": {
    "slideshow": {
     "slide_type": "fragment"
    }
   },
   "source": [
    "<div style=\"background-color:rgba(213, 62, 79, 0.5); text-align:center; vertical-align: middle; padding:20px 0;\">\n",
    "    <b> \n",
    "        Le cas 4 correspond au rejet de l'hypothèse nulle!\n",
    "    </b>\n",
    "</div>"
   ]
  },
  {
   "cell_type": "markdown",
   "metadata": {
    "slideshow": {
     "slide_type": "subslide"
    }
   },
   "source": [
    "<b><div style=\"background-color:rgba(253, 174, 97, 1); text-align:center; vertical-align: middle; padding:0px 0;\">\n",
    "    1.3.1. Statistiques inférentielles: une approche déductive\n",
    "</div></b>\n",
    "\n",
    "Selon la loi générale, seulement 95 % des échantillons se situent dans l'intervalle entre -1.96 et +1.96.\n",
    "\n",
    "Ainsi, dans le cas 4, si $H_0$ est vraie, on a donc une probabilité inférieure à 0.05 de se tromper.\n",
    "  - C'est ce qu'on appelle l'erreur de type 1."
   ]
  },
  {
   "cell_type": "markdown",
   "metadata": {
    "slideshow": {
     "slide_type": "fragment"
    }
   },
   "source": [
    "<div style=\"text-align: center\">\n",
    "        <img src=\"./cours_1/images/h0_rejet.svg\" alt=\"Drawing\" style=\"display: inline-block !important; width: 800px;\" />\n",
    "</div>"
   ]
  },
  {
   "cell_type": "markdown",
   "metadata": {
    "slideshow": {
     "slide_type": "slide"
    }
   },
   "source": [
    "<b><div style=\"background-color:rgba(171, 221, 164, 1); text-align:center; vertical-align: middle; padding:0px 0;\">\n",
    "    1.3.2. Apprentissage machine: généralisation sur des individus\n",
    "</div></b>\n",
    "\n",
    "Ex. de processus inductif: \n",
    "1. Socrate, Platon et Aristote sont des êtres humains.\n",
    "2. Socrate est mortel, Platon est mortel, Aristote est mortel.\n",
    "3. Donc, tous les êtres humains sont mortels."
   ]
  },
  {
   "cell_type": "markdown",
   "metadata": {
    "slideshow": {
     "slide_type": "fragment"
    }
   },
   "source": [
    "On ne postule aucune loi générale décrivant l'univers.\n",
    "\n",
    "On émet une hypothèse correspondant à un modèle des données qui peut être: \n",
    "- Plus ou moins flexible.\n",
    "- Plus ou moins basé sur de la documentation disponible.\n",
    "\n",
    "On se base essentiellement sur les données pour construire une loi générale."
   ]
  },
  {
   "cell_type": "markdown",
   "metadata": {
    "slideshow": {
     "slide_type": "slide"
    }
   },
   "source": [
    "## 1.4. L'importance des postulats\n",
    "\n",
    "<img src=\"./cours_1/images/points_importants_4.svg\" alt=\"Drawing\" style=\"width: 2000px;\"/>"
   ]
  },
  {
   "cell_type": "markdown",
   "metadata": {
    "slideshow": {
     "slide_type": "slide"
    }
   },
   "source": [
    "<b><div style=\"background-color:rgba(253, 174, 97, 1); text-align:center; vertical-align: middle; padding:0px 0;\">\n",
    "    1.4.1. Statistiques inférentielles: postulats essentiels\n",
    "</div></b>\n",
    "\n",
    "*Rappelons que la méthode du test de signification de l'hypothèse nulle repose sur une loi générale.*\n",
    "\n",
    "Toutefois, on ne peut jamais vérifier directement que cette loi est correcte!\n",
    "- On ne peut jamais vérifier la distribution d'échantillonnage directement!\n",
    "- On ne peut donc jamais vérifier les valeurs critiques directement!"
   ]
  },
  {
   "cell_type": "markdown",
   "metadata": {
    "slideshow": {
     "slide_type": "fragment"
    }
   },
   "source": [
    "On peut néamoins postuler que la loi générale est respectée... \n",
    "- ...**si et seulement si... certains postulats sont respectés** \n",
    "- (ex. normalité, homoscédasticité, additivité, linéarité, colinéarité, etc.)"
   ]
  },
  {
   "cell_type": "markdown",
   "metadata": {
    "slideshow": {
     "slide_type": "fragment"
    }
   },
   "source": [
    "Or, les méthodes de vérification de ces postulats sont approximatives!\n",
    "- Ceci fragilise la validité de toute la méthode!\n",
    "- Ceci contribue au problème de reproductibilité des résultats qui frappe actuellement plusieurs domaines de recherche (dont la psychologie) !"
   ]
  },
  {
   "cell_type": "markdown",
   "metadata": {
    "slideshow": {
     "slide_type": "slide"
    }
   },
   "source": [
    "<b><div style=\"background-color:rgba(171, 221, 164, 1); text-align:center; vertical-align: middle; padding:0px 0;\">\n",
    "    1.4.2. Apprentissage machine: généralisation sur des individus\n",
    "</div></b>\n",
    "\n",
    "En apprentissage machine, on ne postule aucune loi générale a priori... \n",
    "\n",
    "...on n'a donc pas besoin de respecter quelque postulat que ce soit!"
   ]
  },
  {
   "cell_type": "markdown",
   "metadata": {
    "slideshow": {
     "slide_type": "slide"
    }
   },
   "source": [
    "## 1.5. Estimation de l'hypothèse alternative\n",
    "\n",
    "<img src=\"./cours_1/images/points_importants_5.svg\" alt=\"Drawing\" style=\"width: 2000px;\"/>\n",
    "\n",
    "<div style=\"background-color:rgba(94, 79, 162, .5); text-align:center; vertical-align: middle; padding:20px 0;\">\n",
    "    <b> \n",
    "        Le \"lieu de rencontre\" des statistiques classiques et de l'apprentissage machine!\n",
    "    </b>\n",
    "</div>"
   ]
  },
  {
   "cell_type": "markdown",
   "metadata": {
    "slideshow": {
     "slide_type": "slide"
    }
   },
   "source": [
    "<b><div style=\"background-color:rgba(253, 174, 97, 1); text-align:center; vertical-align: middle; padding:0px 0;\">\n",
    "    1.5.1. Statistiques inférentielles: minimiser le biais\n",
    "</div></b>\n",
    "\n",
    "*Prenons pour acquis que les postulats qui sous-tendent la loi générale sont respectés...*\n",
    "\n",
    "On doit maintenant évaluer la force du **signal** : \n",
    "- À quel point notre échantillon diffère de l'hypothèse nulle.\n",
    "\n",
    "Pour ce faire, on doit estimer les paramètres d'une **hypothèse alternative**."
   ]
  },
  {
   "cell_type": "markdown",
   "metadata": {
    "slideshow": {
     "slide_type": "subslide"
    }
   },
   "source": [
    "<b><div style=\"background-color:rgba(253, 174, 97, 1); text-align:center; vertical-align: middle; padding:0px 0;\">\n",
    "    1.5.1. Statistiques inférentielles: minimiser le biais\n",
    "</div></b>\n",
    "\n",
    "Par exemple, dans un test t, on pourrait avoir l'hypthèse nulle suivante: \n",
    "\n",
    "$$H_0: Y = b_0 = 0$$\n",
    "\n",
    "L'hypothèse alternative pourrait stipuler également que $Y = b_0$, mais la valeur du paramètre $b_0$ sera maintenant **estimée** à partir des données de l'échantillon."
   ]
  },
  {
   "cell_type": "markdown",
   "metadata": {
    "slideshow": {
     "slide_type": "fragment"
    }
   },
   "source": [
    "**Estimer** la valeur du paramètre $b_0$ signifie ici trouver la valeur du paramètre $b_0$ qui permette de minimiser l'erreur de prédiction des valeurs $Y$ à l'intérieur de l'échantillon.\n",
    "\n",
    "La notation utilisée pour signifier qu'un paramètre a été estimé consiste à lui faire porter un chapeau. Ici, on aurait: \n",
    "$$H_A: \\hat{Y}=\\hat{b}_0$$"
   ]
  },
  {
   "cell_type": "markdown",
   "metadata": {
    "slideshow": {
     "slide_type": "fragment"
    }
   },
   "source": [
    "Le signal correspond alors à la différence entre la valeur du paramètre estimé à partir de l'échantillon $\\hat{b}_0$ et la valeur de $b_0$ supposée par $H_0$ (i.e. 0): \n",
    "\n",
    "$$signal = \\hat{b}_0 - 0$$\n",
    "- Pour un même bruit dans les données, plus ce signal est grand, moins il était probable de l'obtenir si $H_0$ est vraie.\n",
    "- Pour un même bruit dans les données, plus ce signal est grand, plus il sera facile de rejeter $H_0$!"
   ]
  },
  {
   "cell_type": "markdown",
   "metadata": {
    "slideshow": {
     "slide_type": "subslide"
    }
   },
   "source": [
    "<b><div style=\"background-color:rgba(253, 174, 97, 1); text-align:center; vertical-align: middle; padding:0px 0;\">\n",
    "    1.5.1. Statistiques inférentielles: minimiser le biais\n",
    "</div></b>\n",
    "\n",
    "Pour estimer la valeur de $\\hat{b}_0$, on utilise une **fonction de coût**.\n",
    "\n",
    "Une **fonction de coût** est une mesure d'inexactitude du modèle quant à sa capacité à estimer les valeurs de la variable."
   ]
  },
  {
   "cell_type": "markdown",
   "metadata": {
    "slideshow": {
     "slide_type": "fragment"
    }
   },
   "source": [
    "Par exemple, dans un test t, où l'on estime la valeur de la constante $\\hat{b}_0$, on utilise généralement une fonction de coût appelée \"somme des carrés\" (SC):\n",
    "\n",
    "$$SC=\\sum_{i=1}^{N} (Y_i-\\hat{Y_i})^2$$"
   ]
  },
  {
   "cell_type": "markdown",
   "metadata": {
    "slideshow": {
     "slide_type": "fragment"
    }
   },
   "source": [
    "Dans le cadre d'un test t, comme $\\hat{Y}=\\hat{b}_0$, on a en fait: \n",
    "\n",
    "$$SC=\\sum_{i=1}^{N} (Y_i-{\\hat{b}_0}_i)^2$$"
   ]
  },
  {
   "cell_type": "markdown",
   "metadata": {
    "slideshow": {
     "slide_type": "fragment"
    }
   },
   "source": [
    "On doit alors trouver quelle valeur de $b_0$ permet d'obtenir la plus petite valeur de $SC$."
   ]
  },
  {
   "cell_type": "markdown",
   "metadata": {
    "slideshow": {
     "slide_type": "subslide"
    }
   },
   "source": [
    "<b><div style=\"background-color:rgba(253, 174, 97, 1); text-align:center; vertical-align: middle; padding:0px 0;\">\n",
    "    1.5.1. Statistiques inférentielles: minimiser le biais\n",
    "</div></b>\n",
    "\n",
    "Exemple pour le modèle $\\hat{Y}=\\hat{b}_0$:\n",
    "\n",
    "<div style=\"text-align: center\">\n",
    "        <img src=\"./cours_1/images/b0_cost_table.svg\" alt=\"Drawing\" style=\"display: inline-block !important; width: 2000px;\" />\n",
    "</div>"
   ]
  },
  {
   "cell_type": "markdown",
   "metadata": {
    "slideshow": {
     "slide_type": "fragment"
    }
   },
   "source": [
    "<div style=\"text-align: center\">\n",
    "        <img src=\"./cours_1/images/b0_cost_graph.svg\" alt=\"Drawing\" style=\"display: inline-block !important; width: 2000px;\" />\n",
    "</div>"
   ]
  },
  {
   "cell_type": "markdown",
   "metadata": {
    "slideshow": {
     "slide_type": "subslide"
    }
   },
   "source": [
    "<b><div style=\"background-color:rgba(253, 174, 97, 1); text-align:center; vertical-align: middle; padding:0px 0;\">\n",
    "    1.5.1. Statistiques inférentielles: minimiser le biais\n",
    "</div></b>\n",
    "\n",
    "<br>\n",
    "<div>\n",
    "    L'hypothèse nulle est alors: $H_0: Y = b_0 = 0$\n",
    "    <br>\n",
    "    <br>\n",
    "    L'hypothèse alternative estimée est alors: $H_A: Y = \\hat{b}_0 = 4$\n",
    "    <br>\n",
    "    <br>\n",
    "    Le signal est donc: $signal = {\\hat{b}_0}_{(H_A)} - {b_0}_{(H_0)} = 4 - 0 = 4$\n",
    "</div>"
   ]
  },
  {
   "cell_type": "markdown",
   "metadata": {
    "slideshow": {
     "slide_type": "fragment"
    }
   },
   "source": [
    "On sait que $\\bar{Y}=4$ ne correspond probablement pas à la moyenne de la population de laquelle elle a été tirée!\n",
    "\n",
    "Cependant, si les postulats sont respectés, alors on sait qu'en tirant aléatoirement une infinité d'échantillons de la même population, la moyenne des valeurs estimées $\\hat{b_0}$ seront égales à la valeur réelle du paramètre $b_0$ dans la population."
   ]
  },
  {
   "cell_type": "markdown",
   "metadata": {
    "slideshow": {
     "slide_type": "fragment"
    }
   },
   "source": [
    "<div style=\"background-color:rgba(213, 62, 79, 0.5); text-align:center; vertical-align: middle; padding:20px 0;\">\n",
    "    <b> \n",
    "        C'est ce qu'on nomme un estimateur non biaisé.\n",
    "    </b>\n",
    "</div>"
   ]
  },
  {
   "cell_type": "markdown",
   "metadata": {
    "slideshow": {
     "slide_type": "subslide"
    }
   },
   "source": [
    "<b><div style=\"background-color:rgba(253, 174, 97, 1); text-align:center; vertical-align: middle; padding:0px 0;\">\n",
    "    1.5.1. Statistiques inférentielles: minimiser le biais\n",
    "</div></b>\n",
    "\n",
    "Exemple d'un estimateur non biaisé:\n",
    "<br><br>\n",
    "<div style=\"text-align: center\">\n",
    "        <img src=\"./cours_1/images/bias.svg\" alt=\"Drawing\" style=\"display: inline-block !important; width: 2000px;\" />\n",
    "</div>"
   ]
  },
  {
   "cell_type": "markdown",
   "metadata": {
    "slideshow": {
     "slide_type": "fragment"
    }
   },
   "source": [
    "<div style=\"background-color:rgba(213, 62, 79, 0.5); text-align:center; vertical-align: middle; padding:20px 0;\">\n",
    "    <b> \n",
    "       En statistiques inférentielles, une grande emphase est mise sur l'importance\n",
    "       <br>d'obtenir des estimateurs NON BIAISÉS.\n",
    "    </b>\n",
    "</div>"
   ]
  },
  {
   "cell_type": "markdown",
   "metadata": {
    "slideshow": {
     "slide_type": "fragment"
    }
   },
   "source": [
    "Or, on observe que les différents modèles estimés par les différents échantillons potentiels sont relativement variables!\n",
    "- La **variance** correspond à la variabilité des valeurs des paramètres que l'on obtiendrait en tirant aléatoirement une infinité d'échantillons de la même population."
   ]
  },
  {
   "cell_type": "markdown",
   "metadata": {
    "slideshow": {
     "slide_type": "subslide"
    }
   },
   "source": [
    "<b><div style=\"background-color:rgba(253, 174, 97, 1); text-align:center; vertical-align: middle; padding:0px 0;\">\n",
    "    1.5.1. Statistiques inférentielles: minimiser le biais\n",
    "</div></b>\n",
    "\n",
    "Le degré de **fausseté** du modèle estimé dépend donc en fait de deux formes d'erreurs: \n",
    "- Le **biais**\n",
    "- La **variance**\n",
    "<br>\n",
    "<div style=\"text-align: center\">\n",
    "    <img src=\"./cours_1/images/bias-variance.svg\" alt=\"Drawing\" style=\"display: inline-block !important; width: 1800px;\"/>\n",
    " </div>"
   ]
  },
  {
   "cell_type": "markdown",
   "metadata": {
    "slideshow": {
     "slide_type": "subslide"
    }
   },
   "source": [
    "<b><div style=\"background-color:rgba(253, 174, 97, 1); text-align:center; vertical-align: middle; padding:0px 0;\">\n",
    "    1.5.1. Statistiques inférentielles: minimiser le biais\n",
    "</div></b>\n",
    "\n",
    "La somme du biais et de la variance correspond à l'**erreur de généralisation** du modèle.\n",
    "- Or, une **diminution du biais** implique généralement une **augmentation de la variance** du modèle estimé!\n",
    "<br><br>\n",
    "<div style=\"text-align: center\">\n",
    "    <img src=\"./cours_1/images/compromis_biais_variance.svg\" alt=\"Drawing\" style=\"display: inline-block !important; width: 900px;\"/>\n",
    " </div>"
   ]
  },
  {
   "cell_type": "markdown",
   "metadata": {
    "slideshow": {
     "slide_type": "fragment"
    }
   },
   "source": [
    "Ce compromis entre le biais et la variance n'est généralement pas considéré en statistiques inférentielles au moment d'estimer le modèle, **où le biais récolte toute l'attention**."
   ]
  },
  {
   "cell_type": "markdown",
   "metadata": {
    "slideshow": {
     "slide_type": "fragment"
    }
   },
   "source": [
    "<div style=\"background-color:rgba(213, 62, 79, 0.5); text-align:center; vertical-align: middle; padding:10px 0;\">\n",
    "    <b> \n",
    "        Ceci implique que le modèle obtenu risque d'être peu généralisable!\n",
    "    </b>\n",
    "</div>"
   ]
  },
  {
   "cell_type": "markdown",
   "metadata": {
    "slideshow": {
     "slide_type": "subslide"
    }
   },
   "source": [
    "<b><div style=\"background-color:rgba(253, 174, 97, 1); text-align:center; vertical-align: middle; padding:0px 0;\">\n",
    "    1.5.1. Statistiques inférentielles: minimiser le biais\n",
    "</div></b>\n",
    "\n",
    "<br>\n",
    "Le test de significativité de l'hypothèse nulle, lui, prend en considération la variance du modèle.\n",
    "<br>\n",
    "<br>\n",
    "En effet, le rejet de $H_0$ dépend non seulement du signal, mais aussi du bruit, puisque: <br> $$t = \\frac{signal}{bruit}$$"
   ]
  },
  {
   "cell_type": "markdown",
   "metadata": {
    "slideshow": {
     "slide_type": "fragment"
    }
   },
   "source": [
    "Le bruit correspond à la variabilité de la distribution d'échantillonnage. Or, il est estimé à partir de l'échantillon, puis corrigé en fonction de la taille de l'échantillon.\n",
    "<br>\n",
    "<br>\n",
    "Dans le cadre du test t, on a: $$bruit = \\frac{s}{\\sqrt{N}}$$"
   ]
  },
  {
   "cell_type": "markdown",
   "metadata": {
    "slideshow": {
     "slide_type": "subslide"
    }
   },
   "source": [
    "<b><div style=\"background-color:rgba(253, 174, 97, 1); text-align:center; vertical-align: middle; padding:0px 0;\">\n",
    "    1.5.1. Statistiques inférentielles: minimiser le biais\n",
    "</div></b>\n",
    "\n",
    "<br>\n",
    "On a donc: $t = \\frac{{\\hat{b}_0}_{(H_A)} - {b_0}_{(H_0)}}{\\frac{s}{\\sqrt{N}}}$.\n",
    "Notons l'impact de N: \n",
    "<br>\n",
    "<br>\n",
    "Dans une distribution d'échantillonnage...\n",
    "<br>\n",
    "1. Plus les échantillons sont grands, plus ils sont représentatifs de la population:\n",
    "<br>\n",
    "2. Plus ils sont représentatifs de la population, plus ils sont similaires entre eux.\n",
    "<br>\n",
    "3. Plus ils sont similaires entre eux, plus la variabilité de la distribution d'échantillonnage est faible."
   ]
  },
  {
   "cell_type": "markdown",
   "metadata": {
    "slideshow": {
     "slide_type": "fragment"
    }
   },
   "source": [
    "<div style=\"background-color:rgba(213, 62, 79, 0.5); text-align:center; vertical-align: middle; padding:10px 0;\">\n",
    "    <b> \n",
    "        Jusqu'ici, tout va bien! <br>On exprime simplement qu'un N plus élevé entraîne une variance du modèle plus faible! \n",
    "    </b>\n",
    "</div>"
   ]
  },
  {
   "cell_type": "markdown",
   "metadata": {
    "slideshow": {
     "slide_type": "fragment"
    }
   },
   "source": [
    "<div style=\"text-align: center\">\n",
    "    <img src=\"./cours_1/images/compromis_biais_variance_N.svg\" alt=\"Drawing\" style=\"display: inline-block !important; width: 1000px;\"/>\n",
    " </div>"
   ]
  },
  {
   "cell_type": "markdown",
   "metadata": {
    "slideshow": {
     "slide_type": "fragment"
    }
   },
   "source": [
    "<font>\n",
    "    4. Plus la variabilité de de la distribution d'échantillonnage est faible, plus le bruit dans le test est faible.\n",
    "    <br>\n",
    "    5. Plus le bruit dans le test est faible, plus la valeur du test est grande pour un même signal.\n",
    "    <br>\n",
    "    6. Plus la valeur du test est grande pour un même signal, plus il est façile de rejeter l'hypothèse nulle !\n",
    "</font>"
   ]
  },
  {
   "cell_type": "markdown",
   "metadata": {
    "slideshow": {
     "slide_type": "fragment"
    }
   },
   "source": [
    "<div style=\"background-color:rgba(213, 62, 79, 0.5); text-align:center; vertical-align: middle; padding:10px 0;\">\n",
    "    <b> \n",
    "        Ainsi, Plus l'échantillon est grand, plus il sera facile de rejeter l'hypothèse nulle pour un même signal! \n",
    "    </b>\n",
    "</div>"
   ]
  },
  {
   "cell_type": "markdown",
   "metadata": {
    "slideshow": {
     "slide_type": "subslide"
    }
   },
   "source": [
    "<b><div style=\"background-color:rgba(253, 174, 97, 1); text-align:center; vertical-align: middle; padding:0px 0;\">\n",
    "    1.5.1. Statistiques inférentielles: minimiser le biais\n",
    "</div></b>\n",
    "\n",
    "Ainsi, un N très élevé risque de rendre le test trop puissant... alors qu'un N très faible rendra le test trop peu puissant!\n",
    "\n",
    "C'est pourquoi on doit généralement rapporter non seulement la signification du test, mais également la taille du signal (communément appelée \"taille d'effet\")."
   ]
  },
  {
   "cell_type": "markdown",
   "metadata": {
    "slideshow": {
     "slide_type": "slide"
    }
   },
   "source": [
    "<b><div style=\"background-color:rgba(171, 221, 164, 1); text-align:center; vertical-align: middle; padding:0px 0;\">\n",
    "    1.5.2. Apprentissage machine: minimiser le biais ET la variance\n",
    "</div></b>\n",
    "\n",
    "En statistiques inférentielles, on utilise l'échantillon pour estimer les paramètres de l'hypothèse alternative.\n",
    "- On cherche alors à **minimiser** l'erreur de prédiction du modèle **dans l'échantillon**."
   ]
  },
  {
   "cell_type": "markdown",
   "metadata": {
    "slideshow": {
     "slide_type": "fragment"
    }
   },
   "source": [
    "En apprentissage machine, on utlise l'échantillon pour estimer la loi générale!\n",
    "- On cherche alors à **optimiser** l'erreur de prédiction du modèle dans l'échantillon.\n",
    "  - En apprentissage machine, on cherche à minimiser l'erreur de prédiction... dans un nouvel ensemble de données!\n",
    "  - Ce nouvel ensemble de données est généralement appelé \"ensemble de validation\"."
   ]
  },
  {
   "cell_type": "markdown",
   "metadata": {
    "slideshow": {
     "slide_type": "fragment"
    }
   },
   "source": [
    "  \n",
    "Ainsi, en apprentissage machine, on travaille avec (au minimum) deux sous-ensembles de données: \n",
    "1. Un ensemble d'entraînement.\n",
    "2. Un ensemble de test."
   ]
  },
  {
   "cell_type": "markdown",
   "metadata": {
    "slideshow": {
     "slide_type": "subslide"
    }
   },
   "source": [
    "<b><div style=\"background-color:rgba(171, 221, 164, 1); text-align:center; vertical-align: middle; padding:0px 0;\">\n",
    "    1.5.2. Apprentissage machine: minimiser le biais ET la variance\n",
    "</div></b>\n",
    "\n",
    "L'ensemble d'entraînement correspond aux données utilisées pour estimer les valeurs des paramètres du modèle.\n",
    "- Le modèle est appris à l'aide de l'ensemble d'entraînement.\n",
    "<br><br>\n",
    "\n",
    "L'ensemble de test correspond aux données utilisées pour estimer la capacité de généralisation du modèle.\n",
    "- La généralisabilité du modèle est évaluée à l'aide de l'ensemble de test.</li>"
   ]
  },
  {
   "cell_type": "markdown",
   "metadata": {
    "slideshow": {
     "slide_type": "fragment"
    }
   },
   "source": [
    "<br><br>En apprentissage machine, la complexité du modèle n'a pas le même impact dans l'ensemble d'entraînement que dans l'ensemble de validation.\n",
    "- À l'intérieur de l'ensemble d'entraînement, plus le modèle est complexe meilleure est la prédiction.\n",
    "- À l'intérieur de l'ensemble de test, la relation n'est pas si simple...: plus le modèle est complexe, plus on risque un problème de **surapprentissage**.\n",
    "  - Ceci reflète le compromis \"Biais - Variance\"."
   ]
  },
  {
   "cell_type": "markdown",
   "metadata": {
    "slideshow": {
     "slide_type": "subslide"
    }
   },
   "source": [
    "<b><div style=\"background-color:rgba(171, 221, 164, 1); text-align:center; vertical-align: middle; padding:0px 0;\">\n",
    "    1.5.2. Apprentissage machine: minimiser le biais ET la variance\n",
    "</div></b>\n",
    "\n",
    "Le défi en apprentissage machine est de trouver le bon **compromis** entre le biais et la variance.\n",
    "- Si l'on vise exclusivement à réduire la variance, le biais sera trop élevé et on sera en situation de **sous-apprentissage**.\n",
    "- Si l'on vise exclusivement à réduire le biais, la variance sera trop élevée et on sera en situation de **surapprentissage**.\n",
    "\n",
    "<br>\n",
    "<div style=\"text-align: center\">\n",
    "    <img src=\"./cours_1/images/compromis_biais_variance_fitting.svg\" alt=\"Drawing\" style=\"display: inline-block !important; width: 1000px;\"/>\n",
    " </div>"
   ]
  },
  {
   "cell_type": "markdown",
   "metadata": {
    "slideshow": {
     "slide_type": "subslide"
    }
   },
   "source": [
    "<b><div style=\"background-color:rgba(171, 221, 164, 1); text-align:center; vertical-align: middle; padding:0px 0;\">\n",
    "    1.5.2. Apprentissage machine: minimiser le biais ET la variance\n",
    "</div></b>\n",
    "\n",
    "La complexité du modèle est associée au nombre de paramètres estimés et à leur importance. Par exemple, pour augmenter la complexité du modèle $\\hat{Y}=\\hat{b}_0+\\hat{b}_1 X_1+\\hat{b}_2 X_2$, on peut:\n",
    "- Augmenter le nombre de prédicteurs.\n",
    "- Augmenter l'ordre d'un prédicteur (ex. $X^2$, $X^3$, $X^4$, ...).\n",
    "- Augmenter le nombre d'ordres d'un prédicteur utilisés.\n",
    "- Ajouter une interaction entre deux termes.\n",
    "- Etc.\n",
    "\n",
    "<br>\n",
    "<div style=\"text-align: center\">\n",
    "    <img src=\"./cours_1/images/compromis_biais_variance_fitting.svg\" alt=\"Drawing\" style=\"display: inline-block !important; width: 1000px;\"/>\n",
    " </div>"
   ]
  },
  {
   "cell_type": "markdown",
   "metadata": {
    "slideshow": {
     "slide_type": "subslide"
    }
   },
   "source": [
    "<b><div style=\"background-color:rgba(171, 221, 164, 1); text-align:center; vertical-align: middle; padding:0px 0;\">\n",
    "    1.5.2. Apprentissage machine: minimiser le biais ET la variance\n",
    "</div></b>\n",
    "\n",
    "Augmenter la complexité du modèle permet de réduire l'erreur de prédiction dans l'ensemble d'entraînement.\n",
    "- Un modèle trop complexe apprendra à prédire non seulement le signal, mais aussi le bruit dans l'ensemble d'entraînement.\n",
    "- On ne retrouvera évidemment pas le même bruit dans d'autres échantillons... on augmente ainsi la variance du modèle!\n",
    "\n",
    "<br>\n",
    "<div style=\"text-align: center\">\n",
    "    <img src=\"./cours_1/images/compromis_biais_variance_fitting.svg\" alt=\"Drawing\" style=\"display: inline-block !important; width: 1000px;\"/>\n",
    " </div>"
   ]
  },
  {
   "cell_type": "markdown",
   "metadata": {
    "slideshow": {
     "slide_type": "subslide"
    }
   },
   "source": [
    "<b><div style=\"background-color:rgba(171, 221, 164, 1); text-align:center; vertical-align: middle; padding:0px 0;\">\n",
    "    1.5.2. Apprentissage machine: minimiser le biais ET la variance\n",
    "</div></b>\n",
    "\n",
    "Toutefois, comme nous l'avons vu plutôt, augmenter N permet de réduire la variance du modèle!\n",
    "<ul>\n",
    "    <li>Ainsi, dire qu'un modèle est \"trop\" ou \"pas assez\" complexe est contextuel à la taille de l'ensemble d'entraînement.</li>\n",
    "\n",
    "<br>\n",
    "<div style=\"text-align: center\">\n",
    "    <img src=\"./cours_1/images/compromis_biais_variance_fitting_N.svg\" alt=\"Drawing\" style=\"display: inline-block !important; width: 3000px;\"/>\n",
    " </div>"
   ]
  },
  {
   "cell_type": "markdown",
   "metadata": {
    "slideshow": {
     "slide_type": "subslide"
    }
   },
   "source": [
    "<b><div style=\"background-color:rgba(171, 221, 164, 1); text-align:center; vertical-align: middle; padding:0px 0;\">\n",
    "    1.5.2. Apprentissage machine: minimiser le biais ET la variance\n",
    "</div></b>\n",
    "\n",
    "Faisons un exemple:"
   ]
  },
  {
   "cell_type": "code",
   "execution_count": 136,
   "metadata": {
    "slideshow": {
     "slide_type": "fragment"
    }
   },
   "outputs": [],
   "source": [
    "# -----------------------------------------------------------------------------\n",
    "# ÉTAPE 1 : importer les librairies utiles\n",
    "# -----------------------------------------------------------------------------\n",
    "import numpy as np\n",
    "import matplotlib.pyplot as plt\n",
    "\n",
    "# -----------------------------------------------------------------------------\n",
    "# ÉTAPE 2 : importer les fonctions utiles\n",
    "# -----------------------------------------------------------------------------\n",
    "from sklearn.pipeline import Pipeline\n",
    "from sklearn.preprocessing import PolynomialFeatures\n",
    "from sklearn.linear_model import LinearRegression\n",
    "from sklearn.model_selection import cross_val_score\n",
    "from sklearn.model_selection import train_test_split\n",
    "\n",
    "# -----------------------------------------------------------------------------\n",
    "# ÉTAPE 3 : importer et préparer le jeu de données \n",
    "# -----------------------------------------------------------------------------\n",
    "def true_fun(X):\n",
    "    return np.cos(1.5 * np.pi * X)\n",
    "\n",
    "np.random.seed(0)\n",
    "\n",
    "n_samples = 100\n",
    "degree = 9\n",
    "\n",
    "X = np.sort(np.random.rand(n_samples))\n",
    "y = true_fun(X) + np.random.randn(n_samples) * 0.1\n",
    "\n",
    "X_train, X_test, y_train, y_test = train_test_split(X, y)"
   ]
  },
  {
   "cell_type": "code",
   "execution_count": 137,
   "metadata": {
    "slideshow": {
     "slide_type": "subslide"
    }
   },
   "outputs": [],
   "source": [
    "# -----------------------------------------------------------------------------\n",
    "# ÉTAPE 4 : entraîner le modèle (ensemble \"Entraînement\")\n",
    "# -----------------------------------------------------------------------------\n",
    "polynomial_features = PolynomialFeatures(degree)\n",
    "model = LinearRegression()\n",
    "pipeline = Pipeline([(\"polynomial_features\", polynomial_features),\n",
    "                     (\"linear_regression\", linear_regression)])\n",
    "\n",
    "pipeline.fit(X_train[:, np.newaxis], y_train)\n",
    "\n",
    "scores_train = pipeline.score(X_train[:, np.newaxis], y_train)\n",
    "\n",
    "# -----------------------------------------------------------------------------\n",
    "# ÉTAPE 5 : vérifier la généralisabilité des résultats (ensemble \"Test\")\n",
    "# -----------------------------------------------------------------------------\n",
    "scores_test = pipeline.score(X_test[:, np.newaxis], y_test)"
   ]
  },
  {
   "cell_type": "code",
   "execution_count": 138,
   "metadata": {
    "slideshow": {
     "slide_type": "subslide"
    }
   },
   "outputs": [
    {
     "data": {
      "image/png": "[encoded data removed]",
      "text/plain": [
       "<Figure size 1152x576 with 2 Axes>"
      ]
     },
     "metadata": {
      "needs_background": "light"
     },
     "output_type": "display_data"
    }
   ],
   "source": [
    "plt.figure(figsize=(16, 8))\n",
    "\n",
    "plt.subplot(1, 2, 1)\n",
    "X = np.linspace(0, 1, 100)\n",
    "plt.plot(X, pipeline.predict(X[:, np.newaxis]), label=\"Model\")\n",
    "plt.plot(X, true_fun(X), label=\"True function\")\n",
    "plt.scatter(X_train, y_train, edgecolor='b', s=20, label=\"Samples\")\n",
    "plt.xlabel(\"x\")\n",
    "plt.ylabel(\"y\")\n",
    "plt.xlim((0, 1))\n",
    "plt.ylim((-2, 2))\n",
    "plt.legend(loc=\"best\")\n",
    "plt.title(\"Degree {}\\nMSE = {:.5f}\".format(degree, scores_train.mean()))\n",
    "\n",
    "\n",
    "plt.subplot(1, 2, 2)\n",
    "plt.plot(X, pipeline.predict(X[:, np.newaxis]), label=\"Model\")\n",
    "plt.plot(X, true_fun(X), label=\"True function\")\n",
    "plt.scatter(X_test, y_test, edgecolor='b', s=20, label=\"Samples\")\n",
    "plt.xlabel(\"x\")\n",
    "plt.ylabel(\"y\")\n",
    "plt.xlim((0, 1))\n",
    "plt.ylim((-2, 2))\n",
    "plt.legend(loc=\"best\")\n",
    "plt.title(\"Degree {}\\nMSE = {:.5f}\".format(degree, scores_test.mean()))\n",
    "\n",
    "plt.show()"
   ]
  },
  {
   "cell_type": "code",
   "execution_count": 139,
   "metadata": {
    "slideshow": {
     "slide_type": "skip"
    }
   },
   "outputs": [
    {
     "data": {
      "image/png": "[encoded data removed]",
      "text/plain": [
       "<Figure size 1080x216 with 5 Axes>"
      ]
     },
     "metadata": {},
     "output_type": "display_data"
    }
   ],
   "source": [
    "# -----------------------------------------------------------------------------\n",
    "# ÉTAPE 1 : importer les librairies utiles\n",
    "# -----------------------------------------------------------------------------\n",
    "\n",
    "import numpy as np\n",
    "import matplotlib.pyplot as plt\n",
    "\n",
    "# -----------------------------------------------------------------------------\n",
    "# ÉTAPE 2 : importer les fonctions utiles\n",
    "# -----------------------------------------------------------------------------\n",
    "\n",
    "from sklearn.pipeline import Pipeline\n",
    "from sklearn.preprocessing import PolynomialFeatures\n",
    "from sklearn.linear_model import LinearRegression\n",
    "from sklearn.model_selection import cross_val_score\n",
    "from sklearn.model_selection import train_test_split\n",
    "\n",
    "# -----------------------------------------------------------------------------\n",
    "# ÉTAPE 3 : importer et préparer le jeu de données \n",
    "# -----------------------------------------------------------------------------\n",
    "\n",
    "def true_fun(X):\n",
    "    return np.cos(1.5 * np.pi * X)\n",
    "\n",
    "np.random.seed(0)\n",
    "\n",
    "n_samples = 20\n",
    "degrees = [1, 2, 4, 8, 16]\n",
    "\n",
    "X = np.sort(np.random.rand(n_samples))\n",
    "y = true_fun(X) + np.random.randn(n_samples) * 0.1\n",
    "\n",
    "# Séparons aléatoirement nos données en deux sous-ensembles \"Entraînement\" et \"Test\"\n",
    "X_train, X_test, y_train, y_test = train_test_split(X, y)\n",
    "\n",
    "# -----------------------------------------------------------------------------\n",
    "# ÉTAPE 4 : entraîner le modèle (ensemble \"Entraînement\")\n",
    "# -----------------------------------------------------------------------------\n",
    "\n",
    "plt.figure(figsize=(15, 3))\n",
    "\n",
    "for i in range(len(degrees)):\n",
    "    \n",
    "    ax = plt.subplot(1, len(degrees), i + 1)\n",
    "    plt.setp(ax, xticks=(), yticks=())\n",
    "    \n",
    "    polynomial_features = PolynomialFeatures(degree=degrees[i])\n",
    "    \n",
    "    model = LinearRegression()\n",
    "    \n",
    "    pipeline = Pipeline([(\"polynomial_features\", polynomial_features),\n",
    "                         (\"linear_regression\", linear_regression)])\n",
    "    \n",
    "    pipeline.fit(X_train[:, np.newaxis], y_train)\n",
    "\n",
    "    scores_train = pipeline.score(X_train[:, np.newaxis], y_train)\n",
    "    # -----------------------------------------------------------------------------\n",
    "    # ÉTAPE 5 : vérifier la généralisabilité des résultats (ensemble \"Test\")\n",
    "    # -----------------------------------------------------------------------------\n",
    "    scores_test = pipeline.score(X_test[:, np.newaxis], y_test)\n",
    "\n",
    "    X = np.linspace(0, 1, 100)\n",
    "    plt.plot(X, pipeline.predict(X[:, np.newaxis]), label=\"Model\")\n",
    "    plt.plot(X, true_fun(X), label=\"True function\")\n",
    "    plt.scatter(X_test, y_test, edgecolor='b', s=20, label=\"Samples\")\n",
    "    plt.xlabel(\"x\")\n",
    "    plt.ylabel(\"y\")\n",
    "    plt.xlim((0, 1))\n",
    "    plt.ylim((-2, 2))\n",
    "    plt.legend(loc=\"best\")\n",
    "    plt.title(\"Degree {}\\nMSE = {:.2f})\".format(degrees[i], -scores.mean(), scores.std()))\n",
    "    \n",
    "plt.show()"
   ]
  },
  {
   "cell_type": "markdown",
   "metadata": {
    "slideshow": {
     "slide_type": "slide"
    }
   },
   "source": [
    "## 1.6. Conclusions Binaires vs Continues\n",
    "\n",
    "<img src=\"./cours_1/images/points_importants_6.svg\" alt=\"Drawing\" style=\"width: 2000px;\"/>"
   ]
  },
  {
   "cell_type": "markdown",
   "metadata": {
    "slideshow": {
     "slide_type": "slide"
    }
   },
   "source": [
    "<b><div style=\"background-color:rgba(253, 174, 97, 1); text-align:center; vertical-align: middle; padding:0px 0;\">\n",
    "    1.6.1. Statistiques inférentielles: conclusions binaires\n",
    "</div></b>\n",
    "\n",
    "La structure du test de significativité de l'hypothèse nulle est omniprésent en statistiques inférentielles.\n",
    "1. D'abord, on postule une loi générale décrivant l'univers correspondant à notre hypothèse nulle.\n",
    "2. Ensuite, on émet une hypothèse alternative correspondant à un modèle des données bien précis, que nous basons sur une étude détaillée de la documentation disponible.\n",
    "3. Ensuite, on estime les paramètres de notre hypothèse alternative en nous basant sur notre échantillon.\n",
    "4. Ensuite, on calcule quelle était la probabilité d'obtenir cet échantillon (i.e. ces estimations) si cet échantillon est bel et bien tiré de l'univers de l'hypothèse nulle.\n",
    "\n",
    "\n",
    "<b><div style=\"background-color:rgba(213, 62, 79, 0.5); text-align:left; vertical-align: middle; padding:10px 0;\">\n",
    "    <ul>\n",
    "        5\\. Enfin, si cette probabitité est inférieure à un certain seuil, on rejette l'hypothèse nulle.\n",
    "    </ul>\n",
    "</div></b>"
   ]
  },
  {
   "cell_type": "markdown",
   "metadata": {
    "slideshow": {
     "slide_type": "slide"
    }
   },
   "source": [
    "<b><div style=\"background-color:rgba(171, 221, 164, 1); text-align:center; vertical-align: middle; padding:0px 0;\">\n",
    "    1.6.2. Apprentissage machine: conclusion continue\n",
    "</div></b>\n",
    "\n",
    "*Décrire brièvement*"
   ]
  },
  {
   "cell_type": "markdown",
   "metadata": {
    "slideshow": {
     "slide_type": "slide"
    }
   },
   "source": [
    "\n",
    "##  2. Apprentissage machine: types de problèmes ciblés\n",
    "\n",
    "<br>\n",
    "<div style=\"text-align: center\">\n",
    "        <img src=\"./cours_1/images/AM_pts.svg\" alt=\"Drawing\" style=\"\n",
    "    display: inline-block !important;\n",
    "    width: 2000px;\n",
    "    \" />\n",
    "</div>"
   ]
  },
  {
   "cell_type": "markdown",
   "metadata": {
    "slideshow": {
     "slide_type": "subslide"
    }
   },
   "source": [
    "Rappelons que l'objectif principal de l'apprentissage machine est de prédire de nouvelles observations.\n",
    "\n",
    "Un ensemble de données correspond à un tableau de lignes et de colonnes.\n",
    "- Chaque colonne correspond à une variable.\n",
    "- Chaque ligne correspond à un sujet.\n",
    "\n",
    "<br>\n",
    "<div style=\"text-align: center\">\n",
    "        <img src=\"./cours_1/images/data_table.svg\" alt=\"Drawing\" style=\"\n",
    "    display: inline-block !important;\n",
    "    width: 1000px;\n",
    "    \" />\n",
    "</div>"
   ]
  },
  {
   "cell_type": "markdown",
   "metadata": {
    "slideshow": {
     "slide_type": "subslide"
    }
   },
   "source": [
    "<b><div style=\"background-color:rgba(102, 194, 165, .5); text-align:center; vertical-align: middle; padding:0px 0;\">\n",
    "    Apprentissage supervisé\n",
    "</div></b>\n",
    "\n",
    "Lors d'un **apprentissage** dit **supervisé** (*supervised learning*), une colonne contient les valeurs de la variable à prédire (généralement nommée $y$).\n",
    "<br>=> Les valeurs des de la variable à prédire sont appelées les **étiquettes** (*labels*).\n",
    "\n",
    "Durant l'apprentissage, on estime les valeurs des paramètres des coefficients en utilisant: \n",
    "<br>=> Les valeurs des prédicteurs (généralement nottés $x^{(j)}$) **ET** les valeurs de la variable prédite.\n",
    "\n",
    "L'apprentissage supervisé (\"supervised learning\") implique que l'ensemble de données inclut non seulement les valeurs de chacune des variables prédictives, mais aussi de la variable prédite.\n",
    "\n",
    "<div style=\"text-align: center\">\n",
    "        <img src=\"./cours_1/images/app_sup_1.svg\" alt=\"Drawing\" style=\"\n",
    "    display: inline-block !important;\n",
    "    width: 800px;\n",
    "    \" />\n",
    "</div>"
   ]
  },
  {
   "attachments": {},
   "cell_type": "markdown",
   "metadata": {
    "slideshow": {
     "slide_type": "subslide"
    }
   },
   "source": [
    "<b><div style=\"background-color:rgba(50, 136, 189, .5); text-align:center; vertical-align: middle; padding:0px 0;\">\n",
    "    Apprentissage non supervisé\n",
    "</div></b>\n",
    "\n",
    "Lors d'un **apprentissage** dit **non supervisé** (*unsupervised learning*), on a un ensemble de mesures pour chacun des sujets ($x^{(1)}, x^{(2)}, ...$), mais pas de \"variable à prédire\".\n",
    "\n",
    "<div style=\"text-align: center\">\n",
    "        <img src=\"./cours_1/images/app_non_sup_1.svg\" alt=\"Drawing\" style=\"\n",
    "    display: inline-block !important;\n",
    "    width: 800px;\n",
    "    \" />\n",
    "</div>"
   ]
  },
  {
   "cell_type": "markdown",
   "metadata": {
    "slideshow": {
     "slide_type": "slide"
    }
   },
   "source": [
    "\n",
    "##  2.1. Apprentissage supervisé: régression\n",
    "\n",
    "<br>\n",
    "<div style=\"text-align: center\">\n",
    "        <img src=\"./cours_1/images/AM_pt1_regr.svg\" alt=\"Drawing\" style=\"\n",
    "    display: inline-block !important;\n",
    "    width: 2000px;\n",
    "    \" />\n",
    "</div>"
   ]
  },
  {
   "cell_type": "markdown",
   "metadata": {
    "slideshow": {
     "slide_type": "subslide"
    }
   },
   "source": [
    "<b><div style=\"background-color:rgba(102, 194, 165, .5); text-align:center; vertical-align: middle; padding:0px 0;\">\n",
    "    2.1. Apprentissage supervisé: régression\n",
    "</div></b>\n",
    "\n",
    "Lorsque la variable à prédire ($y$) correspond à une variable quantitative, on fait face à un problème de régression. On doit alors prédire une valeur réelle en fonction des prédicteurs.\n",
    "\n",
    "Afin d'estimer les valeurs des paramètres du modèle, l'algorithme a besoin de...:\n",
    "1. Une **fonction de perte** (*loss function*)\n",
    "2. Une méthode permettant de minimiser la valeur de la fonction de perte."
   ]
  },
  {
   "cell_type": "markdown",
   "metadata": {
    "slideshow": {
     "slide_type": "fragment"
    }
   },
   "source": [
    "La fonction de perte la plus utilisée en régression est la **moyenne des erreurs au carré** (*mean squared error*).\n",
    "$$\\frac{1}{N} \\sum_{i=1}^{N} (f(\\textbf{x}_i)-y_i)^2$$"
   ]
  },
  {
   "cell_type": "markdown",
   "metadata": {
    "slideshow": {
     "slide_type": "fragment"
    }
   },
   "source": [
    "$f(\\textbf{x}_i)$ correspond à la valeur de prédite par le modèle. On peut donc réécrire la moyenne des erreurs au carré ainsi:\n",
    "$$\\frac{1}{N} \\sum_{i=1}^{N} (\\hat{y}_i-y_i)^2$$"
   ]
  },
  {
   "cell_type": "markdown",
   "metadata": {
    "slideshow": {
     "slide_type": "subslide"
    }
   },
   "source": [
    "<b><div style=\"background-color:rgba(102, 194, 165, .5); text-align:center; vertical-align: middle; padding:0px 0;\">\n",
    "    2.1. Apprentissage supervisé: régression\n",
    "</div></b>\n",
    "\n",
    "Considérons alors le modèle suivant:\n",
    "$$\\hat{y} = \\hat{b}_0 + \\hat{b}_1 X_1 + \\hat{b}_2 X_2 + \\hat{b}_3 X_3 + \\hat{b}_4 X_4 + \\hat{b}_5 X_5 + \\hat{b}_6 X_6 + \\hat{b}_7 X_7$$\n",
    "\n",
    "On doit alors utiliser une méthode afin de déterminer les valeurs estimées des paramètres $\\hat{b}_0, \\hat{b}_1, \\hat{b}_2, \\hat{b}_3, \\hat{b}_4, \\hat{b}_5, \\hat{b}_6$ et $\\hat{b}_7$ qui permettent de minimiser la valeur de la fonction de perte.\n",
    "\n",
    "Il y a alors deux types de méthodes:\n",
    "1. Les **méthodes analytiques**, qui permettent de trouver directement le minimum global d'une fonction en résolvant un systme d'équations et en assignant aux paramètres estimés les valeurs optimales.\n",
    "2. Les **méthodes d'approximation numériques**, qui permettent de s'approcher graduellement d'un minimum local, en modifiant les valeurs des paramètres estimés de manière itérative."
   ]
  },
  {
   "cell_type": "markdown",
   "metadata": {
    "slideshow": {
     "slide_type": "fragment"
    }
   },
   "source": [
    "Si solution peut être calculée par une méthode analytique et ce, dans un temps et avec une quantité de ressources computationnelles raisonnables, cette méthode sera généralement préférée."
   ]
  },
  {
   "cell_type": "markdown",
   "metadata": {
    "slideshow": {
     "slide_type": "subslide"
    }
   },
   "source": [
    "<b><div style=\"background-color:rgba(102, 194, 165, .5); text-align:center; vertical-align: middle; padding:0px 0;\">\n",
    "    2.1. Apprentissage supervisé: régression\n",
    "</div></b>\n",
    "\n",
    "Rappelons que l'objectif de l'apprentissage machine n'est pas de minimmiser la prédiction à l'intérieur d'un ensemble d'entraînement.\n",
    "<br>=> Il s'agit plutôt de minimiser l'erreur de généralisation, c'est-à-dire l'erreur de prédiction dans un nouvel ensemble de données.\n",
    "\n",
    "Pour ce faire, la fonction de perte qui sera réellement utilisée comporte généralement au minimum deux parties:\n",
    "<br>=> L'erreur de prédiction dans l'ensemble d'entraînement, qu'on appellera alors **fonction de coût** (*cost function*).\n",
    "<br>=> Un terme pénalisant la complexité du modèle.\n",
    "\n",
    "<div style=\"background-color:rgba(102, 194, 165, .8); text-align:center; vertical-align: middle; padding:0px 0;\">\n",
    "    <b> \n",
    "        Ceci permet de chercher l'équilibre biais-variance qui permette de mimiser l'erreur de généralisation!\n",
    "    </b>\n",
    "</div>"
   ]
  },
  {
   "cell_type": "markdown",
   "metadata": {
    "slideshow": {
     "slide_type": "fragment"
    }
   },
   "source": [
    "La fonction de perte à minimiser ressemblerait alors, par exemple, à ceci:\n",
    "$$C ||{\\hat{\\textbf{b}}}|| + \\frac{1}{N} \\sum_{i=1}^{N} (\\hat{y}_i-y_i)^2$$\n",
    "où $||\\hat{\\textbf{b}}|| = \\sum_{j=1}^{D} (\\hat{b}_j)^2$\n",
    "<br>où $D = $ nombre de ***paramètres** estimés\n",
    "<br>où $C$ est un **hyperparamètre** spécifié par le chercheur. &nbsp; &nbsp; &nbsp; &nbsp; Notons que:\n",
    "\n",
    "=> Un **paramètre** est estimé par l'algorithme d'apprentissage utilisé.\n",
    "<br>=> Un **hyperparamètre** est spécfié par le chercheur (ou estimé par un second alogrithme d'apprentissage)."
   ]
  },
  {
   "cell_type": "markdown",
   "metadata": {
    "slideshow": {
     "slide_type": "fragment"
    }
   },
   "source": [
    "<div style=\"background-color:rgba(102, 194, 165, .8); text-align:center; vertical-align: middle; padding:00px 0;\">\n",
    "    <b> \n",
    "        Une fois le modèle estimé, on l'évaluera avec un autre ensemble de données, soit l'ensemble de test.\n",
    "    </b>\n",
    "</div>"
   ]
  },
  {
   "cell_type": "markdown",
   "metadata": {
    "slideshow": {
     "slide_type": "slide"
    }
   },
   "source": [
    "\n",
    "##  2.2. Apprentissage supervisé: classification\n",
    "\n",
    "<br>\n",
    "<div style=\"text-align: center\">\n",
    "        <img src=\"./cours_1/images/AM_pt2_class.svg\" alt=\"Drawing\" style=\"\n",
    "    display: inline-block !important;\n",
    "    width: 2000px;\n",
    "    \" />\n",
    "</div>"
   ]
  },
  {
   "cell_type": "markdown",
   "metadata": {
    "slideshow": {
     "slide_type": "subslide"
    }
   },
   "source": [
    "<b><div style=\"background-color:rgba(102, 194, 165, .5); text-align:center; vertical-align: middle; padding:0px 0;\">\n",
    "    2.2. Apprentissage supervisé: classification\n",
    "</div></b>\n",
    "\n"
   ]
  },
  {
   "cell_type": "markdown",
   "metadata": {
    "slideshow": {
     "slide_type": "slide"
    }
   },
   "source": [
    "\n",
    "##  2.3. Apprentissage non supervisé: réduction de dimensions\n",
    "\n",
    "<br>\n",
    "<div style=\"text-align: center\">\n",
    "        <img src=\"./cours_1/images/AM_pt3_redu.svg\" alt=\"Drawing\" style=\"\n",
    "    display: inline-block !important;\n",
    "    width: 2000px;\n",
    "    \" />\n",
    "</div>"
   ]
  },
  {
   "cell_type": "markdown",
   "metadata": {
    "slideshow": {
     "slide_type": "subslide"
    }
   },
   "source": [
    "<b><div style=\"background-color:rgba(50, 136, 189, .5); text-align:center; vertical-align: middle; padding:0px 0;\">\n",
    "    2.3. Apprentissage non supervisé: réduction de dimensions\n",
    "</div></b>\n",
    "\n"
   ]
  },
  {
   "cell_type": "markdown",
   "metadata": {
    "slideshow": {
     "slide_type": "slide"
    }
   },
   "source": [
    "\n",
    "##  2.4. Apprentissage non supervisé: regroupement\n",
    "\n",
    "<br>\n",
    "<div style=\"text-align: center\">\n",
    "        <img src=\"./cours_1/images/AM_pt4_regr.svg\" alt=\"Drawing\" style=\"\n",
    "    display: inline-block !important;\n",
    "    width: 2000px;\n",
    "    \" />\n",
    "</div>"
   ]
  },
  {
   "cell_type": "markdown",
   "metadata": {
    "slideshow": {
     "slide_type": "subslide"
    }
   },
   "source": [
    "<b><div style=\"background-color:rgba(50, 136, 189, .5); text-align:center; vertical-align: middle; padding:0px 0;\">\n",
    "    2.4. Apprentissage non supervisé: regroupement\n",
    "</div></b>\n",
    "\n"
   ]
  },
  {
   "cell_type": "markdown",
   "metadata": {
    "slideshow": {
     "slide_type": "skip"
    }
   },
   "source": [
    "## 1.5. En résumé...\n",
    "\n",
    "A. Les statistiques inférentielles classiques représentent principalement un processus déductif.\n",
    "\n",
    "B. Le test est fondé sur une loi générale de distribution des échantillons.\n",
    "\n",
    "C. Cette loi n'est valide que si certains postulats sont respectés.\n",
    "\n",
    "D. La formulation du test consiste en un ratio \"signal sur bruit\".\n",
    "\n",
    "E. Le bruit correspond à l'erreur d'échantillonnage.\n",
    "\n",
    "F. Le signal correspond à la différence entre les valeurs des paramètres estimés à l'aide de l'échantillon et les valeurs supposées par l'hypothèse nulle.\n",
    "\n",
    "G. Plus N est grand, plus l'échantillon est représentatif et donc...\n",
    "* Plus le bruit est faible (plus le test est puissant).\n",
    "* Plus le signal est stable, généralisable et reproductible.\n",
    "* Plus le résultat du test est stable, généralisable et reproductible.\n",
    "\n",
    "## 1.6. Limites des statistiques inférentielles\n",
    "\n",
    "A. Il est généralement difficile de vérifier que les postulats sont bien respectés.\n",
    "* Ceci pose un problème de validité et donc de généralisabilité et de reproductibilité des résultats.\n",
    "\n",
    "B. Il est généralement difficile de bien gérer les données manquantes/extrêmes/influentes qui pourraient s'immiscer.\n",
    "* La gestion des données extrêmes pose un problème de représentativité et limite ainsi la généralisabilité et la reproductibilité des résultats.\n",
    "* La gestion des données influentes pose un problème de stabilité du modèle estimé à partir de l'échantillon et limite ainsi la généralisabilité et la reproductibilité des résultats.\n",
    "\n",
    "C. Le modèle des données utilisé pour l'hypothèse alternative est rigide.\n",
    "* Le modèle est déterminé par le chercheur selon sa compréhension de la documentation existante.\n",
    "* Ceci peu limiter l'espace d'exploration des modèles potentielles.\n",
    "\n",
    "**L'apprentissage machine vient pallier ces limites !**"
   ]
  },
  {
   "cell_type": "markdown",
   "metadata": {
    "slideshow": {
     "slide_type": "skip"
    }
   },
   "source": []
  },
  {
   "cell_type": "markdown",
   "metadata": {
    "slideshow": {
     "slide_type": "skip"
    }
   },
   "source": [
    "# 2. Apprentissage machine"
   ]
  },
  {
   "cell_type": "markdown",
   "metadata": {
    "slideshow": {
     "slide_type": "skip"
    }
   },
   "source": [
    "## 2.1. Inférence vs Prédiction.\n",
    "\n",
    "En statistiques inférentielles classiques, une analyse existe dans un univers bien précis... l'univers où l'hypothèse nulle est vraie.\n",
    "\n",
    "Or, on ne voit jamais cet univers ! On espère qu'il ressemble réellement à l'image qu'on s'en fait... On se rassure en respectant plusieurs postulats et en essayant de gérer au mieux nos données manquantes/extrêmes/influentes.\n",
    "\n",
    "Si tout se passe comme on l'espère, on pourra obtenir une conclusion valide, indiquant si l'on peut ou non rejeter l'hypothèse  selon laquelle notre échantillon provient bel et bien de l'univers de notre hypothèse nulle (communément appelé \"population\"). \n",
    "\n",
    "Notre conclusion en est donc immanquablement une sur des groupes d'individus.\n",
    "- Exemples :\n",
    "  - Est-ce que le **groupe** correspondant à notre échantillon diffère de la population correspondant à l'hypothèse nulle ?\n",
    "  - Est-ce que deux **groupes** correspondant à deux échantillons proviennent d'une même population ?\n",
    "  - Est-ce que la relation existant entre plusieurs variables dans notre **groupe** (i.e. dans notre échantillon) diffère de la relation existant entre ces même variables dans l'univers de notre hypothèse nulle?\n",
    "  - Etc.\n",
    "\n",
    "Au mieux, si nos postulats sont respectés et que notre modèle est stable et représentatif de sa population, alors nous obtiendrons des conclusions généralisables et donc reproductibles... mais toujours sur des **groupes** d'individus.  \n",
    "\n",
    "Au pire, si notre univers est biaisé, nos conclusions seront limitées à notre seul échantillon.\n",
    "\n",
    "Or, en psychologie, on vit présentement une crise de reproductibilité.\n",
    "- On estime que 80 % des études sont non reproductibles!\n",
    "\n",
    "Quand on pense au nombre de biais pouvant altérer la caractérisation qu'on se fait de l'univers correspondant à l'hypothèse nulle, dans lequel existe notre analyse quantitative inférentielle, on peut comprendre pourquoi!\n",
    "\n",
    "Comme nous le verrons au cours des prochaines semaines, l'approche appelée **Apprentissage Machine** n'est pas sans faille. Toutefois, elle présente deux avantages importants sur l'approche des statistiques inférentielles classiques :\n",
    "1. Elle n'existe pas dans un unique univers postulé au préalable et qui doive absolument tenir pour que les conclusions soient généralisables.\n",
    "2. La généralisabilité de ses conclusions va au-delà des groupes, son efficacité étant évaluée quant à ses prédictions au niveau individuel, sur de nouvelles données.\n",
    "\n",
    "Mettons les deux approches en opposition :\n",
    "- **Dans l'approche des statistiques inférentielles classiques :**\n",
    "  - D'abord, on postule une loi générale décrivant l'univers correspondant à notre hypothèse nulle.\n",
    "  - Ensuite, on émet une hypothèse alternative correspondant à un modèle des données bien précis, que nous basons sur une étude détaillée de la documentation disponible.\n",
    "  - Ensuite, on estime les paramètres de notre hypothèse alternative en nous basant sur notre échantillon.\n",
    "  - Ensuite, on calcule quelle était la probabilité d'obtenir cet échantillon (i.e. ces estimations) si cet échantillon est bel et bien tiré de l'univers de l'hypothèse nulle.\n",
    "  - Enfin, si cette probabitité est inférieure à un certain seuil, on rejette l'hypothèse nulle.\n",
    "  \n",
    "  \n",
    "- **Dans l'approche d'apprentissage machine :**\n",
    "  - *On ne postule aucune loi générale décrivant l'univers.*\n",
    "  - D'abord, on émet une hypothèse correspondant à un modèle des données qui peut être plus ou moins flexible et plus ou moins basé sur de la documentation disponible.\n",
    "  - Ensuite, on estime les paramètres de notre modèle en nous basant sur notre échantillon.\n",
    "  - Ensuite, on évalue la généralisabilité du modèle estimé en évaluant ses prédictions individuelles sur un nouvel ensemble de données.\n",
    "  \n",
    "Alors que les statistiques inférentielles classiques procèdent essentiellement par déduction...\n",
    "...l'apprentissage machine procède principalement pas induction!\n",
    "\n",
    "Bien entendu, un processus déductif est plus sûr qu'un processus inductif... mais les conclusions qu'on en tire ne sont généralisables que **SI ET SEULEMENT SI** la loi générale est connue et robuste, ce qui, en se penchant sur la crise de reproductibilité que l'on vit en se moment en psychologie, peut être remis en question.\n",
    "\n",
    "Néanmoins, devrait-on concevoir les deux approches comme étant parfaitement opposées? Pas tout à fait...\n",
    "- On peut noter un point d'ancrage, correspondant à un passage obligé pour les deux approches: l'estimation du modèle.\n",
    "- Il s'agit de l'étape à laquelle on estime les paramètres du modèle en minimisant l'erreur de prédiction dans l'échantillon.\n",
    "\n",
    "Dans le cadre des statistiques inférentielles classiques, ce modèle correspond à l'hypothèse alternative.\n",
    "- Sa forme est rigide, étant basée sur la documentation disponible et les hypothèses du chercheur.\n",
    "- On cherche alors réellement à minimiser l'erreur de prédiction du modèle dans l'échantillon.\n",
    "- Une fois le modèle estimé, on le comparera au modèle correspondant à l'hypothèse nulle.\n",
    "- On concluera alors que le modèle semble ou non provenir de l'univers de l'hypothèse nulle.\n",
    "- En d'autres termes, on concluera alors que *l'échantillon* semble ou non provenir de l'univers de l'hypothèse nulle.\n",
    "  - Il s'agit d'une conclusion binaire permettant de supporter ou non une hypothèse du chercheur.\n",
    "  - Il s'agit d'une conclusion qui permette généralement de mieux **compréhendre un phénomène**.\n",
    "  - Il s'agit d'une conclusion sur un groupe.\n",
    "\n",
    "Dans le cadre de l'apprentissage machine, ce modèle correspond à la forme de la loi générale que l'on cherche à induire.\n",
    "- Sa forme peut être plus ou moins flexible. \n",
    "  - Car l'objectif principal est de prédire le mieux possibles de nouvelles données futures.\n",
    "- On cherche alors réellement à **optimiser** (et non pas à la minimiser) l'erreur de prédiction du modèle dans l'échantillon.\n",
    "  - Car l'objectif principal est de prédire le mieux possibles de nouvelles données futures.\n",
    "- Une fois le modèle estimé, on l'utilisera pour prédire de nouvelles données.\n",
    "- On concluera alors quant à la validité de la loi générale induite par le modèle en nous basant sur la qualité des prédictions effectuées sur des nouvelles données.\n",
    "  - Il s'agit d'une conclusion sur la capacité d'une loi générale à **prédire** de nouvelles données individuelles.\n",
    "  - Il ne s'agit pas nécessairement d'une conclusion qui permette de mieux comprendre un phénomène."
   ]
  },
  {
   "cell_type": "markdown",
   "metadata": {
    "slideshow": {
     "slide_type": "skip"
    }
   },
   "source": [
    "## 2.3. Interprétabilité vs Prédiction\n"
   ]
  },
  {
   "cell_type": "markdown",
   "metadata": {
    "slideshow": {
     "slide_type": "skip"
    }
   },
   "source": [
    "## 2.4. Supervisé vs Non supervisé\n"
   ]
  },
  {
   "cell_type": "markdown",
   "metadata": {
    "slideshow": {
     "slide_type": "skip"
    }
   },
   "source": [
    "### 2.4.1. Supervisé : régression vs classification\n",
    "Parler de l'évaluation du modèle: MSE, matrices de confusion, etc..."
   ]
  },
  {
   "cell_type": "markdown",
   "metadata": {
    "slideshow": {
     "slide_type": "skip"
    }
   },
   "source": [
    "### 2.4.2. Non supervisé : modification des dimensions vs groupement des individus\n",
    "Parler de l'évaluation du modèle:"
   ]
  }
 ],
 "metadata": {
  "celltoolbar": "Slideshow",
  "kernelspec": {
   "display_name": "Python 3",
   "language": "python",
   "name": "python3"
  },
  "language_info": {
   "codemirror_mode": {
    "name": "ipython",
    "version": 3
   },
   "file_extension": ".py",
   "mimetype": "text/x-python",
   "name": "python",
   "nbconvert_exporter": "python",
   "pygments_lexer": "ipython3",
   "version": "3.7.4"
  }
 },
 "nbformat": 4,
 "nbformat_minor": 2
}
