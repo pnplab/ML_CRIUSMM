{
 "cells": [
  {
   "cell_type": "markdown",
   "metadata": {
    "slideshow": {
     "slide_type": "slide"
    }
   },
   "source": [
    "# COURS 1\n",
    "\n",
    "\n",
    "###  1. STATISTIQUES INFÉRENTIELLES vs APPRENTISSAGGE MACHINE\n",
    "\n",
    "### 2. APPRENTISSAGE SUPERVISÉ vs APPRENTISSAGE NON SUPERVISÉ\n"
   ]
  },
  {
   "cell_type": "markdown",
   "metadata": {
    "slideshow": {
     "slide_type": "slide"
    }
   },
   "source": [
    "\n",
    "###  1. STATISTIQUES INFÉRENTIELLES vs APPRENTISSAGE MACHINE. \n",
    "\n",
    "\n",
    "<img src=\"./img/SI_vs_AM.svg\" alt=\"Drawing\" style=\"width: 2000px;\"/>"
   ]
  },
  {
   "cell_type": "markdown",
   "metadata": {
    "slideshow": {
     "slide_type": "slide"
    }
   },
   "source": [
    "## 1.1. INTERPRÉTABILITÉ vs PRÉDICTION\n",
    "\n",
    "\n",
    "<img src=\"./img/SI_vs_AM_1.svg\" alt=\"Drawing\" style=\"width: 2000px;\"/>"
   ]
  },
  {
   "cell_type": "markdown",
   "metadata": {
    "slideshow": {
     "slide_type": "fragment"
    }
   },
   "source": [
    "<img src=\"./img/SI_vs_AM_1_txt.svg\" alt=\"Drawing\" style=\"width: 2000px;\"/>"
   ]
  },
  {
   "cell_type": "markdown",
   "metadata": {
    "slideshow": {
     "slide_type": "slide"
    }
   },
   "source": [
    "<img src=\"./img/SI_1_titre.svg\" alt=\"Drawing\" style=\"width: 2000px;\"/>"
   ]
  },
  {
   "cell_type": "markdown",
   "metadata": {
    "slideshow": {
     "slide_type": "subslide"
    }
   },
   "source": [
    "<img src=\"./img/SI_1_txt_1.svg\" style=\"width: 1000px; \" />"
   ]
  },
  {
   "cell_type": "markdown",
   "metadata": {
    "slideshow": {
     "slide_type": "subslide"
    }
   },
   "source": [
    "<img src=\"./img/SI_1_txt_2.svg\" style=\"width: 1000px; \" />"
   ]
  },
  {
   "cell_type": "markdown",
   "metadata": {
    "slideshow": {
     "slide_type": "slide"
    }
   },
   "source": [
    "<img src=\"./img/AM_1_titre.svg\" alt=\"Drawing\" style=\"width: 2000px;\"/>"
   ]
  },
  {
   "cell_type": "markdown",
   "metadata": {
    "slideshow": {
     "slide_type": "subslide"
    }
   },
   "source": [
    "<img src=\"./img/AM_1_txt_1.svg\" style=\"width: 1000px; \" />"
   ]
  },
  {
   "cell_type": "markdown",
   "metadata": {
    "slideshow": {
     "slide_type": "subslide"
    }
   },
   "source": [
    "<img src=\"./img/AM_1_txt_2.svg\" style=\"width: 1000px; \" />"
   ]
  },
  {
   "cell_type": "markdown",
   "metadata": {
    "slideshow": {
     "slide_type": "slide"
    }
   },
   "source": [
    "## 1.2. MÉTHODE DÉDUCTIVE vs MÉTHODE INDUCTIVE\n",
    "\n",
    "<img src=\"./img/SI_vs_AM_2.svg\" alt=\"Drawing\" style=\"width: 2000px;\"/>"
   ]
  },
  {
   "cell_type": "markdown",
   "metadata": {
    "slideshow": {
     "slide_type": "slide"
    }
   },
   "source": [
    "<img src=\"./img/SI_2_titre.svg\" alt=\"Drawing\" style=\"width: 2000px;\"/>"
   ]
  },
  {
   "cell_type": "markdown",
   "metadata": {
    "slideshow": {
     "slide_type": "subslide"
    }
   },
   "source": [
    "<img src=\"./img/SI_2_txt_1.svg\" style=\"width: 1000px; \" />"
   ]
  },
  {
   "cell_type": "markdown",
   "metadata": {
    "slideshow": {
     "slide_type": "subslide"
    }
   },
   "source": [
    "<img src=\"./img/SI_2_txt_2.svg\" style=\"width: 1000px; \" />"
   ]
  },
  {
   "cell_type": "markdown",
   "metadata": {
    "slideshow": {
     "slide_type": "subslide"
    }
   },
   "source": [
    "<img src=\"./img/SI_2_txt_3.svg\" style=\"width: 1000px; \" />"
   ]
  },
  {
   "cell_type": "markdown",
   "metadata": {
    "slideshow": {
     "slide_type": "subslide"
    }
   },
   "source": [
    "<img src=\"./img/SI_2_txt_4.svg\" style=\"width: 1000px; \" />"
   ]
  },
  {
   "cell_type": "markdown",
   "metadata": {
    "slideshow": {
     "slide_type": "slide"
    }
   },
   "source": [
    "<img src=\"./img/AM_2_titre.svg\" alt=\"Drawing\" style=\"width: 2000px;\"/>"
   ]
  },
  {
   "cell_type": "markdown",
   "metadata": {
    "slideshow": {
     "slide_type": "subslide"
    }
   },
   "source": [
    "<img src=\"./img/AM_2_txt_1.svg\" style=\"width: 1000px; \" />"
   ]
  },
  {
   "cell_type": "markdown",
   "metadata": {
    "slideshow": {
     "slide_type": "slide"
    }
   },
   "source": [
    "## 1.3. MINIMISATION DU BIAIS vs COMPROMIS BIAIS-VARIANCE\n",
    "\n",
    "\n",
    "<img src=\"./img/SI_vs_AM_3.svg\" alt=\"Drawing\" style=\"width: 2000px;\"/>"
   ]
  },
  {
   "cell_type": "markdown",
   "metadata": {
    "slideshow": {
     "slide_type": "fragment"
    }
   },
   "source": [
    "<img src=\"./img/SI_vs_AM_3_txt.svg\" alt=\"Drawing\" style=\"width: 2000px;\"/>"
   ]
  },
  {
   "cell_type": "markdown",
   "metadata": {
    "slideshow": {
     "slide_type": "slide"
    }
   },
   "source": [
    "<img src=\"./img/SI_3_titre.svg\" alt=\"Drawing\" style=\"width: 2000px;\"/>"
   ]
  },
  {
   "cell_type": "markdown",
   "metadata": {
    "slideshow": {
     "slide_type": "subslide"
    }
   },
   "source": [
    "<img src=\"./img/SI_3_txt_1.svg\" alt=\"Drawing\" style=\"width: 2000px;\"/>"
   ]
  },
  {
   "cell_type": "markdown",
   "metadata": {
    "slideshow": {
     "slide_type": "subslide"
    }
   },
   "source": [
    "<img src=\"./img/SI_3_txt_2.svg\" alt=\"Drawing\" style=\"width: 2000px;\"/>"
   ]
  },
  {
   "cell_type": "markdown",
   "metadata": {
    "slideshow": {
     "slide_type": "subslide"
    }
   },
   "source": [
    "<img src=\"./img/SI_3_txt_3.svg\" alt=\"Drawing\" style=\"width: 2000px;\"/>"
   ]
  },
  {
   "cell_type": "markdown",
   "metadata": {
    "slideshow": {
     "slide_type": "subslide"
    }
   },
   "source": [
    "<img src=\"./img/SI_3_txt_4.svg\" alt=\"Drawing\" style=\"width: 2000px;\"/>"
   ]
  },
  {
   "cell_type": "markdown",
   "metadata": {
    "slideshow": {
     "slide_type": "subslide"
    }
   },
   "source": [
    "<img src=\"./img/SI_3_txt_5.svg\" alt=\"Drawing\" style=\"width: 2000px;\"/>"
   ]
  },
  {
   "cell_type": "markdown",
   "metadata": {
    "slideshow": {
     "slide_type": "subslide"
    }
   },
   "source": [
    "<img src=\"./img/SI_3_txt_6.svg\" alt=\"Drawing\" style=\"width: 2000px;\"/>"
   ]
  },
  {
   "cell_type": "markdown",
   "metadata": {
    "slideshow": {
     "slide_type": "subslide"
    }
   },
   "source": [
    " <img src=\"./img/SI_3_txt_7.svg\" alt=\"Drawing\" style=\"width: 2000px;\"/>"
   ]
  },
  {
   "cell_type": "markdown",
   "metadata": {
    "slideshow": {
     "slide_type": "subslide"
    }
   },
   "source": [
    " <img src=\"./img/SI_3_txt_8.svg\" alt=\"Drawing\" style=\"width: 2000px;\"/>"
   ]
  },
  {
   "cell_type": "markdown",
   "metadata": {
    "slideshow": {
     "slide_type": "slide"
    }
   },
   "source": [
    "<img src=\"./img/AM_3_titre.svg\" alt=\"Drawing\" style=\"width: 2000px;\"/>"
   ]
  },
  {
   "cell_type": "markdown",
   "metadata": {
    "slideshow": {
     "slide_type": "slide"
    }
   },
   "source": [
    "<b><div style=\"background-color:rgba(171, 221, 164, 1); text-align:center; vertical-align: middle; padding:0px 0;\">\n",
    "    1.5.2. Apprentissage machine: minimiser le biais ET la variance\n",
    "</div></b>\n",
    "\n",
    "En statistiques inférentielles, on utilise l'échantillon pour estimer les paramètres de l'hypothèse alternative.\n",
    "- On cherche alors à **minimiser** l'erreur de prédiction du modèle **dans l'échantillon**."
   ]
  },
  {
   "cell_type": "markdown",
   "metadata": {
    "slideshow": {
     "slide_type": "fragment"
    }
   },
   "source": [
    "En apprentissage machine, on utlise l'échantillon pour estimer la loi générale!\n",
    "- On cherche alors à **optimiser** l'erreur de prédiction du modèle dans l'échantillon.\n",
    "  - En apprentissage machine, on cherche à minimiser l'erreur de prédiction... dans un nouvel ensemble de données!\n",
    "  - Ce nouvel ensemble de données est généralement appelé \"ensemble de validation\"."
   ]
  },
  {
   "cell_type": "markdown",
   "metadata": {
    "slideshow": {
     "slide_type": "fragment"
    }
   },
   "source": [
    "  \n",
    "Ainsi, en apprentissage machine, on travaille avec (au minimum) deux sous-ensembles de données: \n",
    "1. Un ensemble d'entraînement.\n",
    "2. Un ensemble de test."
   ]
  },
  {
   "cell_type": "markdown",
   "metadata": {
    "slideshow": {
     "slide_type": "subslide"
    }
   },
   "source": [
    "<b><div style=\"background-color:rgba(171, 221, 164, 1); text-align:center; vertical-align: middle; padding:0px 0;\">\n",
    "    1.5.2. Apprentissage machine: minimiser le biais ET la variance\n",
    "</div></b>\n",
    "\n",
    "L'ensemble d'entraînement correspond aux données utilisées pour estimer les valeurs des paramètres du modèle.\n",
    "- Le modèle est appris à l'aide de l'ensemble d'entraînement.\n",
    "<br><br>\n",
    "\n",
    "L'ensemble de test correspond aux données utilisées pour estimer la capacité de généralisation du modèle.\n",
    "- La généralisabilité du modèle est évaluée à l'aide de l'ensemble de test.</li>"
   ]
  },
  {
   "cell_type": "markdown",
   "metadata": {
    "slideshow": {
     "slide_type": "fragment"
    }
   },
   "source": [
    "<br><br>En apprentissage machine, la complexité du modèle n'a pas le même impact dans l'ensemble d'entraînement que dans l'ensemble de validation.\n",
    "- À l'intérieur de l'ensemble d'entraînement, plus le modèle est complexe meilleure est la prédiction.\n",
    "- À l'intérieur de l'ensemble de test, la relation n'est pas si simple...: plus le modèle est complexe, plus on risque un problème de **surapprentissage**.\n",
    "  - Ceci reflète le compromis \"Biais - Variance\"."
   ]
  },
  {
   "cell_type": "markdown",
   "metadata": {
    "slideshow": {
     "slide_type": "subslide"
    }
   },
   "source": [
    "<b><div style=\"background-color:rgba(171, 221, 164, 1); text-align:center; vertical-align: middle; padding:0px 0;\">\n",
    "    1.5.2. Apprentissage machine: minimiser le biais ET la variance\n",
    "</div></b>\n",
    "\n",
    "Le défi en apprentissage machine est de trouver le bon **compromis** entre le biais et la variance.\n",
    "- Si l'on vise exclusivement à réduire la variance, le biais sera trop élevé et on sera en situation de **sous-apprentissage**.\n",
    "- Si l'on vise exclusivement à réduire le biais, la variance sera trop élevée et on sera en situation de **surapprentissage**.\n",
    "\n",
    "<br>\n",
    "<div style=\"text-align: center\">\n",
    "    <img src=\"./cours_1/images/compromis_biais_variance_fitting.svg\" alt=\"Drawing\" style=\"display: inline-block !important; width: 1000px;\"/>\n",
    " </div>"
   ]
  },
  {
   "cell_type": "markdown",
   "metadata": {
    "slideshow": {
     "slide_type": "subslide"
    }
   },
   "source": [
    "<b><div style=\"background-color:rgba(171, 221, 164, 1); text-align:center; vertical-align: middle; padding:0px 0;\">\n",
    "    1.5.2. Apprentissage machine: minimiser le biais ET la variance\n",
    "</div></b>\n",
    "\n",
    "La complexité du modèle est associée au nombre de paramètres estimés et à leur importance. Par exemple, pour augmenter la complexité du modèle $\\hat{Y}=\\hat{b}_0+\\hat{b}_1 X_1+\\hat{b}_2 X_2$, on peut:\n",
    "- Augmenter le nombre de prédicteurs.\n",
    "- Augmenter l'ordre d'un prédicteur (ex. $X^2$, $X^3$, $X^4$, ...).\n",
    "- Augmenter le nombre d'ordres d'un prédicteur utilisés.\n",
    "- Ajouter une interaction entre deux termes.\n",
    "- Etc.\n",
    "\n",
    "<br>\n",
    "<div style=\"text-align: center\">\n",
    "    <img src=\"./cours_1/images/compromis_biais_variance_fitting.svg\" alt=\"Drawing\" style=\"display: inline-block !important; width: 1000px;\"/>\n",
    " </div>"
   ]
  },
  {
   "cell_type": "markdown",
   "metadata": {
    "slideshow": {
     "slide_type": "subslide"
    }
   },
   "source": [
    "<b><div style=\"background-color:rgba(171, 221, 164, 1); text-align:center; vertical-align: middle; padding:0px 0;\">\n",
    "    1.5.2. Apprentissage machine: minimiser le biais ET la variance\n",
    "</div></b>\n",
    "\n",
    "Augmenter la complexité du modèle permet de réduire l'erreur de prédiction dans l'ensemble d'entraînement.\n",
    "- Un modèle trop complexe apprendra à prédire non seulement le signal, mais aussi le bruit dans l'ensemble d'entraînement.\n",
    "- On ne retrouvera évidemment pas le même bruit dans d'autres échantillons... on augmente ainsi la variance du modèle!\n",
    "\n",
    "<br>\n",
    "<div style=\"text-align: center\">\n",
    "    <img src=\"./cours_1/images/compromis_biais_variance_fitting.svg\" alt=\"Drawing\" style=\"display: inline-block !important; width: 1000px;\"/>\n",
    " </div>"
   ]
  },
  {
   "cell_type": "markdown",
   "metadata": {
    "slideshow": {
     "slide_type": "subslide"
    }
   },
   "source": [
    "<b><div style=\"background-color:rgba(171, 221, 164, 1); text-align:center; vertical-align: middle; padding:0px 0;\">\n",
    "    1.5.2. Apprentissage machine: minimiser le biais ET la variance\n",
    "</div></b>\n",
    "\n",
    "Toutefois, comme nous l'avons vu plutôt, augmenter N permet de réduire la variance du modèle!\n",
    "<ul>\n",
    "    <li>Ainsi, dire qu'un modèle est \"trop\" ou \"pas assez\" complexe est contextuel à la taille de l'ensemble d'entraînement.</li>\n",
    "\n",
    "<br>\n",
    "<div style=\"text-align: center\">\n",
    "    <img src=\"./cours_1/images/compromis_biais_variance_fitting_N.svg\" alt=\"Drawing\" style=\"display: inline-block !important; width: 3000px;\"/>\n",
    " </div>"
   ]
  },
  {
   "cell_type": "markdown",
   "metadata": {
    "slideshow": {
     "slide_type": "subslide"
    }
   },
   "source": [
    "<b><div style=\"background-color:rgba(171, 221, 164, 1); text-align:center; vertical-align: middle; padding:0px 0;\">\n",
    "    1.5.2. Apprentissage machine: minimiser le biais ET la variance\n",
    "</div></b>\n",
    "\n",
    "Faisons un exemple:"
   ]
  },
  {
   "cell_type": "code",
   "execution_count": 23,
   "metadata": {
    "slideshow": {
     "slide_type": "fragment"
    }
   },
   "outputs": [],
   "source": [
    "# -----------------------------------------------------------------------------\n",
    "# ÉTAPE 1 : importer les librairies utiles\n",
    "# -----------------------------------------------------------------------------\n",
    "import numpy as np\n",
    "import matplotlib.pyplot as plt\n",
    "\n",
    "# -----------------------------------------------------------------------------\n",
    "# ÉTAPE 2 : importer les fonctions utiles\n",
    "# -----------------------------------------------------------------------------\n",
    "from sklearn.pipeline import Pipeline\n",
    "from sklearn.preprocessing import PolynomialFeatures\n",
    "from sklearn.linear_model import LinearRegression\n",
    "from sklearn.model_selection import cross_val_score\n",
    "from sklearn.model_selection import train_test_split\n",
    "\n",
    "# -----------------------------------------------------------------------------\n",
    "# ÉTAPE 3 : importer et préparer le jeu de données \n",
    "# -----------------------------------------------------------------------------\n",
    "def true_fun(X):\n",
    "    return np.cos(1.5 * np.pi * X)\n",
    "\n",
    "np.random.seed(0)\n",
    "\n",
    "n_samples = 100\n",
    "degree = 10\n",
    "\n",
    "X = np.sort(np.random.rand(n_samples))\n",
    "y = true_fun(X) + np.random.randn(n_samples) * 0.1\n",
    "\n",
    "X_train, X_test, y_train, y_test = train_test_split(X, y)"
   ]
  },
  {
   "cell_type": "code",
   "execution_count": 24,
   "metadata": {
    "slideshow": {
     "slide_type": "subslide"
    }
   },
   "outputs": [],
   "source": [
    "# -----------------------------------------------------------------------------\n",
    "# ÉTAPE 4 : entraîner le modèle (ensemble \"Entraînement\")\n",
    "# -----------------------------------------------------------------------------\n",
    "polynomial_features = PolynomialFeatures(degree)\n",
    "model = LinearRegression()\n",
    "pipeline = Pipeline([(\"polynomial_features\", polynomial_features),\n",
    "                     (\"linear_regression\", model)])\n",
    "\n",
    "pipeline.fit(X_train[:, np.newaxis], y_train)\n",
    "\n",
    "scores_train = pipeline.score(X_train[:, np.newaxis], y_train)\n",
    "\n",
    "# -----------------------------------------------------------------------------\n",
    "# ÉTAPE 5 : vérifier la généralisabilité des résultats (ensemble \"Test\")\n",
    "# -----------------------------------------------------------------------------\n",
    "scores_test = pipeline.score(X_test[:, np.newaxis], y_test)"
   ]
  },
  {
   "cell_type": "code",
   "execution_count": 1,
   "metadata": {
    "slideshow": {
     "slide_type": "subslide"
    }
   },
   "outputs": [
    {
     "ename": "NameError",
     "evalue": "name 'plt' is not defined",
     "output_type": "error",
     "traceback": [
      "\u001b[0;31m---------------------------------------------------------------------------\u001b[0m",
      "\u001b[0;31mNameError\u001b[0m                                 Traceback (most recent call last)",
      "\u001b[0;32m<ipython-input-1-5f72d638c6bb>\u001b[0m in \u001b[0;36m<module>\u001b[0;34m()\u001b[0m\n\u001b[0;32m----> 1\u001b[0;31m \u001b[0mplt\u001b[0m\u001b[0;34m.\u001b[0m\u001b[0mfigure\u001b[0m\u001b[0;34m(\u001b[0m\u001b[0mfigsize\u001b[0m\u001b[0;34m=\u001b[0m\u001b[0;34m(\u001b[0m\u001b[0;36m16\u001b[0m\u001b[0;34m,\u001b[0m \u001b[0;36m8\u001b[0m\u001b[0;34m)\u001b[0m\u001b[0;34m)\u001b[0m\u001b[0;34m\u001b[0m\u001b[0;34m\u001b[0m\u001b[0m\n\u001b[0m\u001b[1;32m      2\u001b[0m \u001b[0;34m\u001b[0m\u001b[0m\n\u001b[1;32m      3\u001b[0m \u001b[0mplt\u001b[0m\u001b[0;34m.\u001b[0m\u001b[0msubplot\u001b[0m\u001b[0;34m(\u001b[0m\u001b[0;36m1\u001b[0m\u001b[0;34m,\u001b[0m \u001b[0;36m2\u001b[0m\u001b[0;34m,\u001b[0m \u001b[0;36m1\u001b[0m\u001b[0;34m)\u001b[0m\u001b[0;34m\u001b[0m\u001b[0;34m\u001b[0m\u001b[0m\n\u001b[1;32m      4\u001b[0m \u001b[0mX\u001b[0m \u001b[0;34m=\u001b[0m \u001b[0mnp\u001b[0m\u001b[0;34m.\u001b[0m\u001b[0mlinspace\u001b[0m\u001b[0;34m(\u001b[0m\u001b[0;36m0\u001b[0m\u001b[0;34m,\u001b[0m \u001b[0;36m1\u001b[0m\u001b[0;34m,\u001b[0m \u001b[0;36m100\u001b[0m\u001b[0;34m)\u001b[0m\u001b[0;34m\u001b[0m\u001b[0;34m\u001b[0m\u001b[0m\n\u001b[1;32m      5\u001b[0m \u001b[0mplt\u001b[0m\u001b[0;34m.\u001b[0m\u001b[0mplot\u001b[0m\u001b[0;34m(\u001b[0m\u001b[0mX\u001b[0m\u001b[0;34m,\u001b[0m \u001b[0mpipeline\u001b[0m\u001b[0;34m.\u001b[0m\u001b[0mpredict\u001b[0m\u001b[0;34m(\u001b[0m\u001b[0mX\u001b[0m\u001b[0;34m[\u001b[0m\u001b[0;34m:\u001b[0m\u001b[0;34m,\u001b[0m \u001b[0mnp\u001b[0m\u001b[0;34m.\u001b[0m\u001b[0mnewaxis\u001b[0m\u001b[0;34m]\u001b[0m\u001b[0;34m)\u001b[0m\u001b[0;34m,\u001b[0m \u001b[0mlabel\u001b[0m\u001b[0;34m=\u001b[0m\u001b[0;34m\"Model\"\u001b[0m\u001b[0;34m)\u001b[0m\u001b[0;34m\u001b[0m\u001b[0;34m\u001b[0m\u001b[0m\n",
      "\u001b[0;31mNameError\u001b[0m: name 'plt' is not defined"
     ]
    }
   ],
   "source": [
    "plt.figure(figsize=(16, 8))\n",
    "\n",
    "plt.subplot(1, 2, 1)\n",
    "X = np.linspace(0, 1, 100)\n",
    "plt.plot(X, pipeline.predict(X[:, np.newaxis]), label=\"Model\")\n",
    "plt.plot(X, true_fun(X), label=\"True function\")\n",
    "plt.scatter(X_train, y_train, edgecolor='b', s=20, label=\"Samples\")\n",
    "plt.xlabel(\"x\")\n",
    "plt.ylabel(\"y\")\n",
    "plt.xlim((0, 1))\n",
    "plt.ylim((-2, 2))\n",
    "plt.legend(loc=\"best\")\n",
    "plt.title(\"Degree {}\\nMSE = {:.5f}\".format(degree, scores_train.mean()))\n",
    "\n",
    "\n",
    "plt.subplot(1, 2, 2)\n",
    "plt.plot(X, pipeline.predict(X[:, np.newaxis]), label=\"Model\")\n",
    "plt.plot(X, true_fun(X), label=\"True function\")\n",
    "plt.scatter(X_test, y_test, edgecolor='b', s=20, label=\"Samples\")\n",
    "plt.xlabel(\"x\")\n",
    "plt.ylabel(\"y\")\n",
    "plt.xlim((0, 1))\n",
    "plt.ylim((-2, 2))\n",
    "plt.legend(loc=\"best\")\n",
    "plt.title(\"Degree {}\\nMSE = {:.5f}\".format(degree, scores_test.mean()))\n",
    "\n",
    "plt.show()"
   ]
  },
  {
   "cell_type": "code",
   "execution_count": 31,
   "metadata": {
    "slideshow": {
     "slide_type": "skip"
    }
   },
   "outputs": [
    {
     "data": {
      "image/png": "[encoded data removed]",
      "text/plain": [
       "<Figure size 1080x216 with 5 Axes>"
      ]
     },
     "metadata": {},
     "output_type": "display_data"
    }
   ],
   "source": [
    "# -----------------------------------------------------------------------------\n",
    "# ÉTAPE 1 : importer les librairies utiles\n",
    "# -----------------------------------------------------------------------------\n",
    "\n",
    "import numpy as np\n",
    "import matplotlib.pyplot as plt\n",
    "\n",
    "# -----------------------------------------------------------------------------\n",
    "# ÉTAPE 2 : importer les fonctions utiles\n",
    "# -----------------------------------------------------------------------------\n",
    "\n",
    "from sklearn.pipeline import Pipeline\n",
    "from sklearn.preprocessing import PolynomialFeatures\n",
    "from sklearn.linear_model import LinearRegression\n",
    "from sklearn.model_selection import cross_val_score\n",
    "from sklearn.model_selection import train_test_split\n",
    "\n",
    "# -----------------------------------------------------------------------------\n",
    "# ÉTAPE 3 : importer et préparer le jeu de données \n",
    "# -----------------------------------------------------------------------------\n",
    "\n",
    "def true_fun(X):\n",
    "    return np.cos(1.5 * np.pi * X)\n",
    "\n",
    "np.random.seed(0)\n",
    "\n",
    "n_samples = 20\n",
    "degrees = [1, 2, 4, 8, 16]\n",
    "\n",
    "X = np.sort(np.random.rand(n_samples))\n",
    "y = true_fun(X) + np.random.randn(n_samples) * 0.1\n",
    "\n",
    "# Séparons aléatoirement nos données en deux sous-ensembles \"Entraînement\" et \"Test\"\n",
    "X_train, X_test, y_train, y_test = train_test_split(X, y)\n",
    "\n",
    "# -----------------------------------------------------------------------------\n",
    "# ÉTAPE 4 : entraîner le modèle (ensemble \"Entraînement\")\n",
    "# -----------------------------------------------------------------------------\n",
    "\n",
    "plt.figure(figsize=(15, 3))\n",
    "\n",
    "for i in range(len(degrees)):\n",
    "    \n",
    "    ax = plt.subplot(1, len(degrees), i + 1)\n",
    "    plt.setp(ax, xticks=(), yticks=())\n",
    "    \n",
    "    polynomial_features = PolynomialFeatures(degree=degrees[i])\n",
    "    \n",
    "    model = LinearRegression()\n",
    "    \n",
    "    pipeline = Pipeline([(\"polynomial_features\", polynomial_features),\n",
    "                         (\"linear_regression\", model)])\n",
    "    \n",
    "    pipeline.fit(X_train[:, np.newaxis], y_train)\n",
    "\n",
    "    scores_train = pipeline.score(X_train[:, np.newaxis], y_train)\n",
    "    # -----------------------------------------------------------------------------\n",
    "    # ÉTAPE 5 : vérifier la généralisabilité des résultats (ensemble \"Test\")\n",
    "    # -----------------------------------------------------------------------------\n",
    "    scores_test = pipeline.score(X_test[:, np.newaxis], y_test)\n",
    "\n",
    "    X = np.linspace(0, 1, 100)\n",
    "    plt.plot(X, pipeline.predict(X[:, np.newaxis]), label=\"Model\")\n",
    "    plt.plot(X, true_fun(X), label=\"True function\")\n",
    "    plt.scatter(X_test, y_test, edgecolor='b', s=20, label=\"Samples\")\n",
    "    plt.xlabel(\"x\")\n",
    "    plt.ylabel(\"y\")\n",
    "    plt.xlim((0, 1))\n",
    "    plt.ylim((-2, 2))\n",
    "    plt.legend(loc=\"best\")\n",
    "    plt.title(\"Degree {}\\nMSE = {:.2f})\".format(degrees[i], scores_train.mean()))\n",
    "    \n",
    "plt.show()"
   ]
  },
  {
   "cell_type": "markdown",
   "metadata": {
    "slideshow": {
     "slide_type": "slide"
    }
   },
   "source": [
    "\n",
    "##  2. Apprentissage machine: types de problèmes ciblés\n",
    "\n",
    "<br>\n",
    "<div style=\"text-align: center\">\n",
    "        <img src=\"./cours_1/images/AM_pts.svg\" alt=\"Drawing\" style=\"\n",
    "    display: inline-block !important;\n",
    "    width: 2000px;\n",
    "    \" />\n",
    "</div>"
   ]
  },
  {
   "cell_type": "markdown",
   "metadata": {
    "slideshow": {
     "slide_type": "subslide"
    }
   },
   "source": [
    "Rappelons que l'objectif principal de l'apprentissage machine est de prédire de nouvelles observations.\n",
    "\n",
    "Un ensemble de données correspond à un tableau de lignes et de colonnes.\n",
    "- Chaque colonne correspond à une variable.\n",
    "- Chaque ligne correspond à un sujet.\n",
    "\n",
    "<br>\n",
    "<div style=\"text-align: center\">\n",
    "        <img src=\"./cours_1/images/data_table.svg\" alt=\"Drawing\" style=\"\n",
    "    display: inline-block !important;\n",
    "    width: 1000px;\n",
    "    \" />\n",
    "</div>"
   ]
  },
  {
   "cell_type": "markdown",
   "metadata": {
    "slideshow": {
     "slide_type": "subslide"
    }
   },
   "source": [
    "<b><div style=\"background-color:rgba(102, 194, 165, .5); text-align:center; vertical-align: middle; padding:0px 0;\">\n",
    "    Apprentissage supervisé\n",
    "</div></b>\n",
    "\n",
    "Lors d'un **apprentissage** dit **supervisé** (*supervised learning*), une colonne contient les valeurs de la variable à prédire (généralement nommée $y$).\n",
    "<br>=> Les valeurs des de la variable à prédire sont appelées les **étiquettes** (*labels*).\n",
    "\n",
    "Durant l'apprentissage, on estime les valeurs des paramètres des coefficients en utilisant: \n",
    "<br>=> Les valeurs des prédicteurs (généralement nottés $x^{(j)}$) **ET** les valeurs de la variable prédite.\n",
    "\n",
    "L'apprentissage supervisé (\"supervised learning\") implique que l'ensemble de données inclut non seulement les valeurs de chacune des variables prédictives, mais aussi de la variable prédite.\n",
    "\n",
    "<div style=\"text-align: center\">\n",
    "        <img src=\"./cours_1/images/app_sup_1.svg\" alt=\"Drawing\" style=\"\n",
    "    display: inline-block !important;\n",
    "    width: 800px;\n",
    "    \" />\n",
    "</div>"
   ]
  },
  {
   "cell_type": "markdown",
   "metadata": {
    "slideshow": {
     "slide_type": "subslide"
    }
   },
   "source": [
    "<b><div style=\"background-color:rgba(50, 136, 189, .5); text-align:center; vertical-align: middle; padding:0px 0;\">\n",
    "    Apprentissage non supervisé\n",
    "</div></b>\n",
    "\n",
    "Lors d'un **apprentissage** dit **non supervisé** (*unsupervised learning*), on a un ensemble de mesures pour chacun des sujets ($x^{(1)}, x^{(2)}, ...$), mais pas de \"variable à prédire\".\n",
    "\n",
    "<div style=\"text-align: center\">\n",
    "        <img src=\"./cours_1/images/app_non_sup_1.svg\" alt=\"Drawing\" style=\"\n",
    "    display: inline-block !important;\n",
    "    width: 800px;\n",
    "    \" />\n",
    "</div>"
   ]
  },
  {
   "cell_type": "markdown",
   "metadata": {
    "slideshow": {
     "slide_type": "slide"
    }
   },
   "source": [
    "\n",
    "##  2.1. Apprentissage supervisé: régression\n",
    "\n",
    "<br>\n",
    "<div style=\"text-align: center\">\n",
    "        <img src=\"./cours_1/images/AM_pt1_regr.svg\" alt=\"Drawing\" style=\"\n",
    "    display: inline-block !important;\n",
    "    width: 2000px;\n",
    "    \" />\n",
    "</div>"
   ]
  },
  {
   "cell_type": "markdown",
   "metadata": {
    "slideshow": {
     "slide_type": "subslide"
    }
   },
   "source": [
    "<b><div style=\"background-color:rgba(102, 194, 165, .5); text-align:center; vertical-align: middle; padding:0px 0;\">\n",
    "    2.1. Apprentissage supervisé: régression\n",
    "</div></b>\n",
    "\n",
    "Lorsque la variable à prédire ($y$) correspond à une variable **quantitative**, on fait face à un problème de régression. On doit alors prédire une valeur **réelle** en fonction des prédicteurs.\n",
    "\n",
    "Afin d'estimer les valeurs des paramètres du modèle, l'algorithme a besoin de...:\n",
    "1. Une **fonction de perte** (*loss function*)\n",
    "2. Une méthode permettant de minimiser la valeur de la fonction de perte."
   ]
  },
  {
   "cell_type": "markdown",
   "metadata": {
    "slideshow": {
     "slide_type": "fragment"
    }
   },
   "source": [
    "La fonction de perte la plus utilisée en régression est la **moyenne des erreurs au carré** (*mean squared error*).\n",
    "$$\\frac{1}{N} \\sum_{i=1}^{N} (f(\\textbf{x}_i)-y_i)^2$$"
   ]
  },
  {
   "cell_type": "markdown",
   "metadata": {
    "slideshow": {
     "slide_type": "fragment"
    }
   },
   "source": [
    "$f(\\textbf{x}_i)$ correspond à la valeur de prédite par le modèle. On peut donc réécrire la moyenne des erreurs au carré ainsi:\n",
    "$$\\frac{1}{N} \\sum_{i=1}^{N} (\\hat{y}_i-y_i)^2$$"
   ]
  },
  {
   "cell_type": "markdown",
   "metadata": {
    "slideshow": {
     "slide_type": "subslide"
    }
   },
   "source": [
    "<b><div style=\"background-color:rgba(102, 194, 165, .5); text-align:center; vertical-align: middle; padding:0px 0;\">\n",
    "    2.1. Apprentissage supervisé: régression\n",
    "</div></b>\n",
    "\n",
    "Considérons alors le modèle suivant:\n",
    "$$\\hat{y} = \\hat{b}_0 + \\hat{b}_1 X_1 + \\hat{b}_2 X_2 + \\hat{b}_3 X_3 + \\hat{b}_4 X_4 + \\hat{b}_5 X_5 + \\hat{b}_6 X_6 + \\hat{b}_7 X_7$$\n",
    "\n",
    "On doit alors utiliser une méthode afin de déterminer les valeurs estimées des paramètres $\\hat{b}_0, \\hat{b}_1, \\hat{b}_2, \\hat{b}_3, \\hat{b}_4, \\hat{b}_5, \\hat{b}_6$ et $\\hat{b}_7$ qui permettent de minimiser la valeur de la fonction de perte.\n",
    "\n",
    "Il y a alors deux types de méthodes:\n",
    "1. Les **méthodes analytiques**, qui permettent de trouver directement le minimum global d'une fonction en résolvant un systme d'équations et en assignant aux paramètres estimés les valeurs optimales.\n",
    "2. Les **méthodes d'approximation numériques**, qui permettent de s'approcher graduellement d'un minimum local, en modifiant les valeurs des paramètres estimés de manière itérative."
   ]
  },
  {
   "cell_type": "markdown",
   "metadata": {
    "slideshow": {
     "slide_type": "fragment"
    }
   },
   "source": [
    "Si solution peut être calculée par une méthode analytique et ce, dans un temps et avec une quantité de ressources computationnelles raisonnables, cette méthode sera généralement préférée."
   ]
  },
  {
   "cell_type": "markdown",
   "metadata": {
    "slideshow": {
     "slide_type": "subslide"
    }
   },
   "source": [
    "<b><div style=\"background-color:rgba(102, 194, 165, .5); text-align:center; vertical-align: middle; padding:0px 0;\">\n",
    "    2.1. Apprentissage supervisé: régression\n",
    "</div></b>\n",
    "\n",
    "Rappelons que l'objectif de l'apprentissage machine n'est pas de minimmiser la prédiction à l'intérieur d'un ensemble d'entraînement.\n",
    "<br>=> Il s'agit plutôt de minimiser l'erreur de généralisation, c'est-à-dire l'erreur de prédiction dans un nouvel ensemble de données.\n",
    "\n",
    "Pour ce faire, la fonction de perte qui sera réellement utilisée comporte généralement au minimum deux parties:\n",
    "<br>=> L'erreur de prédiction dans l'ensemble d'entraînement, qu'on appellera alors **fonction de coût** (*cost function*).\n",
    "<br>=> Un terme pénalisant la complexité du modèle.\n",
    "\n",
    "<div style=\"background-color:rgba(102, 194, 165, .8); text-align:center; vertical-align: middle; padding:0px 0;\">\n",
    "    <b> \n",
    "        Ceci permet de chercher l'équilibre biais-variance qui permette de mimiser l'erreur de généralisation!\n",
    "    </b>\n",
    "</div>"
   ]
  },
  {
   "cell_type": "markdown",
   "metadata": {
    "slideshow": {
     "slide_type": "fragment"
    }
   },
   "source": [
    "La fonction de perte à minimiser ressemblerait alors, par exemple, à ceci:\n",
    "$$C ||{\\hat{\\textbf{b}}}|| + \\frac{1}{N} \\sum_{i=1}^{N} (\\hat{y}_i-y_i)^2$$\n",
    "où $||\\hat{\\textbf{b}}|| = \\sum_{j=1}^{D} (\\hat{b}_j)^2$\n",
    "<br>où $D = $ nombre de ***paramètres** estimés\n",
    "<br>où $C$ est un **hyperparamètre** spécifié par le chercheur. &nbsp; &nbsp; &nbsp; &nbsp; Notons que:\n",
    "\n",
    "=> Un **paramètre** est estimé par l'algorithme d'apprentissage utilisé.\n",
    "<br>=> Un **hyperparamètre** est spécfié par le chercheur (ou estimé par un second alogrithme d'apprentissage)."
   ]
  },
  {
   "cell_type": "markdown",
   "metadata": {
    "slideshow": {
     "slide_type": "fragment"
    }
   },
   "source": [
    "<div style=\"background-color:rgba(102, 194, 165, .8); text-align:center; vertical-align: middle; padding:00px 0;\">\n",
    "    <b> \n",
    "        Une fois le modèle estimé, on l'évaluera avec un autre ensemble de données, soit l'ensemble de test.\n",
    "    </b>\n",
    "</div>"
   ]
  },
  {
   "cell_type": "markdown",
   "metadata": {
    "slideshow": {
     "slide_type": "slide"
    }
   },
   "source": [
    "\n",
    "##  2.2. Apprentissage supervisé: classification\n",
    "\n",
    "<br>\n",
    "<div style=\"text-align: center\">\n",
    "        <img src=\"./cours_1/images/AM_pt2_class.svg\" alt=\"Drawing\" style=\"\n",
    "    display: inline-block !important;\n",
    "    width: 2000px;\n",
    "    \" />\n",
    "</div>"
   ]
  },
  {
   "cell_type": "markdown",
   "metadata": {
    "slideshow": {
     "slide_type": "subslide"
    }
   },
   "source": [
    "<b><div style=\"background-color:rgba(102, 194, 165, .5); text-align:center; vertical-align: middle; padding:0px 0;\">\n",
    "    2.2. Apprentissage supervisé: classification\n",
    "</div></b>\n",
    "\n",
    "Lorsque la variable à prédire ($y$) correspond à une variable **quantitative**, on fait face à un problème de classification. On doit alors prédire à quelle **catégorie** appartient l'individu en fonction des prédicteurs.\n",
    "\n",
    "Afin d'estimer les valeurs des paramètres du modèle, l'algorithme a besoin de...:\n",
    "1. Une **fonction de perte** (*loss function*)\n",
    "2. Une méthode permettant de minimiser la valeur de la fonction de perte.\n",
    "\n",
    "Comme pour l'apprentissage dans le cadre d'une régression!"
   ]
  },
  {
   "cell_type": "markdown",
   "metadata": {
    "slideshow": {
     "slide_type": "fragment"
    }
   },
   "source": [
    "Toutefois, ici, la forme de la fonction de perte est plus variable que pour la régression. Néanmoins, elle découle généralement de la **matrice de confusion**:\n",
    "\n",
    "Exemple: on cherche à prédire "
   ]
  },
  {
   "cell_type": "markdown",
   "metadata": {
    "slideshow": {
     "slide_type": "fragment"
    }
   },
   "source": [
    "$f(\\textbf{x}_i)$ correspond à la valeur de prédite par le modèle. On peut donc réécrire la moyenne des erreurs au carré ainsi:\n",
    "$$\\frac{1}{N} \\sum_{i=1}^{N} (\\hat{y}_i-y_i)^2$$"
   ]
  },
  {
   "cell_type": "markdown",
   "metadata": {
    "slideshow": {
     "slide_type": "slide"
    }
   },
   "source": [
    "\n",
    "##  2.3. Apprentissage non supervisé: réduction de dimensions\n",
    "\n",
    "<br>\n",
    "<div style=\"text-align: center\">\n",
    "        <img src=\"./cours_1/images/AM_pt3_redu.svg\" alt=\"Drawing\" style=\"\n",
    "    display: inline-block !important;\n",
    "    width: 2000px;\n",
    "    \" />\n",
    "</div>"
   ]
  },
  {
   "cell_type": "markdown",
   "metadata": {
    "slideshow": {
     "slide_type": "subslide"
    }
   },
   "source": [
    "<b><div style=\"background-color:rgba(50, 136, 189, .5); text-align:center; vertical-align: middle; padding:0px 0;\">\n",
    "    2.3. Apprentissage non supervisé: réduction de dimensions\n",
    "</div></b>\n",
    "\n"
   ]
  },
  {
   "cell_type": "markdown",
   "metadata": {
    "slideshow": {
     "slide_type": "slide"
    }
   },
   "source": [
    "\n",
    "##  2.4. Apprentissage non supervisé: regroupement\n",
    "\n",
    "<br>\n",
    "<div style=\"text-align: center\">\n",
    "        <img src=\"./cours_1/images/AM_pt4_regr.svg\" alt=\"Drawing\" style=\"\n",
    "    display: inline-block !important;\n",
    "    width: 2000px;\n",
    "    \" />\n",
    "</div>"
   ]
  },
  {
   "cell_type": "markdown",
   "metadata": {
    "slideshow": {
     "slide_type": "subslide"
    }
   },
   "source": [
    "<b><div style=\"background-color:rgba(50, 136, 189, .5); text-align:center; vertical-align: middle; padding:0px 0;\">\n",
    "    2.4. Apprentissage non supervisé: regroupement\n",
    "</div></b>\n",
    "\n"
   ]
  },
  {
   "cell_type": "markdown",
   "metadata": {
    "slideshow": {
     "slide_type": "skip"
    }
   },
   "source": [
    "## 1.5. En résumé...\n",
    "\n",
    "A. Les statistiques inférentielles classiques représentent principalement un processus déductif.\n",
    "\n",
    "B. Le test est fondé sur une loi générale de distribution des échantillons.\n",
    "\n",
    "C. Cette loi n'est valide que si certains postulats sont respectés.\n",
    "\n",
    "D. La formulation du test consiste en un ratio \"signal sur bruit\".\n",
    "\n",
    "E. Le bruit correspond à l'erreur d'échantillonnage.\n",
    "\n",
    "F. Le signal correspond à la différence entre les valeurs des paramètres estimés à l'aide de l'échantillon et les valeurs supposées par l'hypothèse nulle.\n",
    "\n",
    "G. Plus N est grand, plus l'échantillon est représentatif et donc...\n",
    "* Plus le bruit est faible (plus le test est puissant).\n",
    "* Plus le signal est stable, généralisable et reproductible.\n",
    "* Plus le résultat du test est stable, généralisable et reproductible.\n",
    "\n",
    "## 1.6. Limites des statistiques inférentielles\n",
    "\n",
    "A. Il est généralement difficile de vérifier que les postulats sont bien respectés.\n",
    "* Ceci pose un problème de validité et donc de généralisabilité et de reproductibilité des résultats.\n",
    "\n",
    "B. Il est généralement difficile de bien gérer les données manquantes/extrêmes/influentes qui pourraient s'immiscer.\n",
    "* La gestion des données extrêmes pose un problème de représentativité et limite ainsi la généralisabilité et la reproductibilité des résultats.\n",
    "* La gestion des données influentes pose un problème de stabilité du modèle estimé à partir de l'échantillon et limite ainsi la généralisabilité et la reproductibilité des résultats.\n",
    "\n",
    "C. Le modèle des données utilisé pour l'hypothèse alternative est rigide.\n",
    "* Le modèle est déterminé par le chercheur selon sa compréhension de la documentation existante.\n",
    "* Ceci peu limiter l'espace d'exploration des modèles potentielles.\n",
    "\n",
    "**L'apprentissage machine vient pallier ces limites !**"
   ]
  },
  {
   "cell_type": "markdown",
   "metadata": {
    "slideshow": {
     "slide_type": "skip"
    }
   },
   "source": [
    "## 2.1. Inférence vs Prédiction.\n",
    "\n",
    "En statistiques inférentielles classiques, une analyse existe dans un univers bien précis... l'univers où l'hypothèse nulle est vraie.\n",
    "\n",
    "Or, on ne voit jamais cet univers ! On espère qu'il ressemble réellement à l'image qu'on s'en fait... On se rassure en respectant plusieurs postulats et en essayant de gérer au mieux nos données manquantes/extrêmes/influentes.\n",
    "\n",
    "Si tout se passe comme on l'espère, on pourra obtenir une conclusion valide, indiquant si l'on peut ou non rejeter l'hypothèse  selon laquelle notre échantillon provient bel et bien de l'univers de notre hypothèse nulle (communément appelé \"population\"). \n",
    "\n",
    "Notre conclusion en est donc immanquablement une sur des groupes d'individus.\n",
    "- Exemples :\n",
    "  - Est-ce que le **groupe** correspondant à notre échantillon diffère de la population correspondant à l'hypothèse nulle ?\n",
    "  - Est-ce que deux **groupes** correspondant à deux échantillons proviennent d'une même population ?\n",
    "  - Est-ce que la relation existant entre plusieurs variables dans notre **groupe** (i.e. dans notre échantillon) diffère de la relation existant entre ces même variables dans l'univers de notre hypothèse nulle?\n",
    "  - Etc.\n",
    "\n",
    "Au mieux, si nos postulats sont respectés et que notre modèle est stable et représentatif de sa population, alors nous obtiendrons des conclusions généralisables et donc reproductibles... mais toujours sur des **groupes** d'individus.  \n",
    "\n",
    "Au pire, si notre univers est biaisé, nos conclusions seront limitées à notre seul échantillon.\n",
    "\n",
    "Or, en psychologie, on vit présentement une crise de reproductibilité.\n",
    "- On estime que 80 % des études sont non reproductibles!\n",
    "\n",
    "Quand on pense au nombre de biais pouvant altérer la caractérisation qu'on se fait de l'univers correspondant à l'hypothèse nulle, dans lequel existe notre analyse quantitative inférentielle, on peut comprendre pourquoi!\n",
    "\n",
    "Comme nous le verrons au cours des prochaines semaines, l'approche appelée **Apprentissage Machine** n'est pas sans faille. Toutefois, elle présente deux avantages importants sur l'approche des statistiques inférentielles classiques :\n",
    "1. Elle n'existe pas dans un unique univers postulé au préalable et qui doive absolument tenir pour que les conclusions soient généralisables.\n",
    "2. La généralisabilité de ses conclusions va au-delà des groupes, son efficacité étant évaluée quant à ses prédictions au niveau individuel, sur de nouvelles données.\n",
    "\n",
    "Mettons les deux approches en opposition :\n",
    "- **Dans l'approche des statistiques inférentielles classiques :**\n",
    "  - D'abord, on postule une loi générale décrivant l'univers correspondant à notre hypothèse nulle.\n",
    "  - Ensuite, on émet une hypothèse alternative correspondant à un modèle des données bien précis, que nous basons sur une étude détaillée de la documentation disponible.\n",
    "  - Ensuite, on estime les paramètres de notre hypothèse alternative en nous basant sur notre échantillon.\n",
    "  - Ensuite, on calcule quelle était la probabilité d'obtenir cet échantillon (i.e. ces estimations) si cet échantillon est bel et bien tiré de l'univers de l'hypothèse nulle.\n",
    "  - Enfin, si cette probabitité est inférieure à un certain seuil, on rejette l'hypothèse nulle.\n",
    "  \n",
    "  \n",
    "- **Dans l'approche d'apprentissage machine :**\n",
    "  - *On ne postule aucune loi générale décrivant l'univers.*\n",
    "  - D'abord, on émet une hypothèse correspondant à un modèle des données qui peut être plus ou moins flexible et plus ou moins basé sur de la documentation disponible.\n",
    "  - Ensuite, on estime les paramètres de notre modèle en nous basant sur notre échantillon.\n",
    "  - Ensuite, on évalue la généralisabilité du modèle estimé en évaluant ses prédictions individuelles sur un nouvel ensemble de données.\n",
    "  \n",
    "Alors que les statistiques inférentielles classiques procèdent essentiellement par déduction...\n",
    "...l'apprentissage machine procède principalement pas induction!\n",
    "\n",
    "Bien entendu, un processus déductif est plus sûr qu'un processus inductif... mais les conclusions qu'on en tire ne sont généralisables que **SI ET SEULEMENT SI** la loi générale est connue et robuste, ce qui, en se penchant sur la crise de reproductibilité que l'on vit en se moment en psychologie, peut être remis en question.\n",
    "\n",
    "Néanmoins, devrait-on concevoir les deux approches comme étant parfaitement opposées? Pas tout à fait...\n",
    "- On peut noter un point d'ancrage, correspondant à un passage obligé pour les deux approches: l'estimation du modèle.\n",
    "- Il s'agit de l'étape à laquelle on estime les paramètres du modèle en minimisant l'erreur de prédiction dans l'échantillon.\n",
    "\n",
    "Dans le cadre des statistiques inférentielles classiques, ce modèle correspond à l'hypothèse alternative.\n",
    "- Sa forme est rigide, étant basée sur la documentation disponible et les hypothèses du chercheur.\n",
    "- On cherche alors réellement à minimiser l'erreur de prédiction du modèle dans l'échantillon.\n",
    "- Une fois le modèle estimé, on le comparera au modèle correspondant à l'hypothèse nulle.\n",
    "- On concluera alors que le modèle semble ou non provenir de l'univers de l'hypothèse nulle.\n",
    "- En d'autres termes, on concluera alors que *l'échantillon* semble ou non provenir de l'univers de l'hypothèse nulle.\n",
    "  - Il s'agit d'une conclusion binaire permettant de supporter ou non une hypothèse du chercheur.\n",
    "  - Il s'agit d'une conclusion qui permette généralement de mieux **compréhendre un phénomène**.\n",
    "  - Il s'agit d'une conclusion sur un groupe.\n",
    "\n",
    "Dans le cadre de l'apprentissage machine, ce modèle correspond à la forme de la loi générale que l'on cherche à induire.\n",
    "- Sa forme peut être plus ou moins flexible. \n",
    "  - Car l'objectif principal est de prédire le mieux possibles de nouvelles données futures.\n",
    "- On cherche alors réellement à **optimiser** (et non pas à la minimiser) l'erreur de prédiction du modèle dans l'échantillon.\n",
    "  - Car l'objectif principal est de prédire le mieux possibles de nouvelles données futures.\n",
    "- Une fois le modèle estimé, on l'utilisera pour prédire de nouvelles données.\n",
    "- On concluera alors quant à la validité de la loi générale induite par le modèle en nous basant sur la qualité des prédictions effectuées sur des nouvelles données.\n",
    "  - Il s'agit d'une conclusion sur la capacité d'une loi générale à **prédire** de nouvelles données individuelles.\n",
    "  - Il ne s'agit pas nécessairement d'une conclusion qui permette de mieux comprendre un phénomène."
   ]
  }
 ],
 "metadata": {
  "celltoolbar": "Slideshow",
  "kernelspec": {
   "display_name": "Python 3",
   "language": "python",
   "name": "python3"
  },
  "language_info": {
   "codemirror_mode": {
    "name": "ipython",
    "version": 3
   },
   "file_extension": ".py",
   "mimetype": "text/x-python",
   "name": "python",
   "nbconvert_exporter": "python",
   "pygments_lexer": "ipython3",
   "version": "3.7.4"
  }
 },
 "nbformat": 4,
 "nbformat_minor": 2
}
