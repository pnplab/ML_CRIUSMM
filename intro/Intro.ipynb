{
 "cells": [
  {
   "cell_type": "markdown",
   "metadata": {
    "slideshow": {
     "slide_type": "slide"
    }
   },
   "source": [
    "<h1 style=\"text-align: center\">Formation en <span style=\"color: #3288bd\">APPRENTISSAGE MACHINE </span> au CRIUSMM</h1><br/>\n",
    "\n",
    "<div style=\"text-align: center;\"><img src=\"img/ML_brain.svg\" style=\"width: 20%; display: inline-block\" /></div>\n",
    "\n",
    "\n",
    "<h3 style=\"text-align: center\">Automne 2019</h3>\n",
    "<h3 style=\"text-align: center\">Etienne Dumesnil & Pierre Orban (pierre.p.orban@gmail.com)</h3>"
   ]
  },
  {
   "cell_type": "markdown",
   "metadata": {
    "slideshow": {
     "slide_type": "subslide"
    }
   },
   "source": [
    "<h2 style=\"text-align: center\">Organisation</h2>\n",
    "\n",
    "<h3>Lieu et horaire</h3>\n",
    "\n",
    "- Centre d’enseignement Dr Frederic Grunberg, Pavillon Bédard 3e étage.\n",
    "- Les lundis de 13h à 16h\n",
    "\n",
    "<h3>Cours théoriques et démonstrations</h3>\n",
    "\n",
    "- 21 octobre 2019: BE-322-09 salle polyvalente\n",
    "- 28 octobre 2019: BE-322-09 salle polyvalente\n",
    "- 4 novembre 2019: BE-322-09 salle polyvalente\n",
    "- 11 novembre 2019: BE-320-16\n",
    "- 18 novembre 2019: BE-322-09 salle polyvalente\n",
    "\n",
    "<h3>Travaux pratiques</h3>\n",
    "\n",
    "- 2 décembre 2019: BE-322-09 salle polyvalente\n",
    "- 16 décembre 2019: BE-320-16"
   ]
  },
  {
   "cell_type": "markdown",
   "metadata": {
    "cell_style": "split",
    "slideshow": {
     "slide_type": "slide"
    }
   },
   "source": [
    "<h1 style=\"text-align: center\">Le pratico-pratique d'abord: Doit-on coder?</h1><br/>\n",
    "\n",
    "- <div>Toutes les démonstrations reposeront sur <span style=\"font-style:italic\">SciKit Learn</span>  (https://scikit-learn.org/), une bibliothèque <span style=\"font-style:italic\">Python</span> dédiée à l'apprentissage machine.</div><br/>\n",
    "\n",
    "<div style=\"text-align: center;\">\n",
    "    <img src=\"img/scikitlearn.svg\" style=\"width: 80%; display: inline-block\" />\n",
    "</div>"
   ]
  },
  {
   "cell_type": "markdown",
   "metadata": {
    "cell_style": "split",
    "slideshow": {
     "slide_type": "fragment"
    }
   },
   "source": [
    "- Tout le matériel est contenu dans des \"calepins\" <span style=\"font-style:italic\">Jupyter</span> (https://jupyter.org).\n",
    "\n",
    "<div></div><br/>\n",
    "\n",
    "<div style=\"text-align: center;\">\n",
    "    <img src=\"img/jupyter.svg\" style=\"width: 80%; display: inline-block\" />\n",
    "</div>"
   ]
  },
  {
   "cell_type": "markdown",
   "metadata": {
    "cell_style": "split",
    "slideshow": {
     "slide_type": "subslide"
    }
   },
   "source": [
    "- Les \"calepins\" <span style=\"font-style:italic\">Jupyter</span> se trouvent dans un \"répo\" <span style=\"font-style:italic\">Github</span>, **connectez vous**:\n",
    "\n",
    "<div style=\"text-align: center;\">https://github.com/pnplab/ML_CRIUSMM</div><br/>\n",
    "\n",
    "<div style=\"text-align: center;\">\n",
    "    <img src=\"img/github.svg\" style=\"width: 60%; display: inline-block\"/></div>"
   ]
  },
  {
   "cell_type": "markdown",
   "metadata": {
    "cell_style": "split",
    "slideshow": {
     "slide_type": "fragment"
    }
   },
   "source": [
    "- Les \"calepins\" <span style=\"font-style:italic\">Jupyter</span> peuvent être exécutés de manière dynamique et fluide sur <span style=\"font-style:italic\">Binder</span>, **démarrez le**:\n",
    "\n",
    "<div style=\"text-align: center;\">\n",
    "    <img src=\"img/binder.svg\" style=\"width: 70%; display: inline-block\"/></div>"
   ]
  },
  {
   "cell_type": "markdown",
   "metadata": {
    "slideshow": {
     "slide_type": "slide"
    }
   },
   "source": [
    "<h1 style=\"text-align: center\">Quelles données pour les démonstrations?</h1><br/>\n",
    "\n",
    "<div style=\"text-align: center;\">\n",
    "    <img src=\"img/signature.svg\" style=\"width: 30%; display: inline-block\" />\n",
    "</div>\n",
    "\n",
    "- Toutes les démonstrations seront faites en utilisant des données **simulées** à partir de la banque de données *Signature*.\n",
    "<div></div><br/>\n",
    "    \n",
    "- Les données simulées (/data/sim_data_signature.csv) comprennent 222 variables démographiques et cliniques (P) pour 543 patients psychiatriques et 90 contrôles (N).<div></div><br/>\n",
    "\n",
    "<div style=\"text-align: center;\">\n",
    "    <img src=\"img/data_sign.svg\" style=\"width: 40%; display: inline-block\" />\n",
    "</div>"
   ]
  },
  {
   "cell_type": "markdown",
   "metadata": {
    "slideshow": {
     "slide_type": "slide"
    }
   },
   "source": [
    "<h1 style=\"text-align: center\">Apprentissage machine: le buzz!</h1><br/>\n",
    "\n",
    "- Intelligence artificielle, apprentissage machine (automatique ou statistique) et apprentissage profond (réseaux de neurones profonds) ne sont **pas** des synonymes.\n",
    "<div></div><br/>\n",
    "\n",
    "- Boom de l'intelligence artificielle dû aux performances de l'apprentissage profond (prix Turing 2018 pour Bengio, Hinton et LeCun), permises par l'explosion des gros jeux de données (*Big data*) et de la puissance computationnelle (GPU).\n",
    "<div></div><br/>\n",
    "\n",
    "- Cependant, la pertinence ne l'apprentissage machine n'est **pas** unique à des données massives!\n",
    "\n",
    "\n",
    "<div style=\"text-align: center;\">\n",
    "    <img src=\"img/ai_ml_dl.svg\" style=\"width: 35%; display: inline-block\" />\n",
    "</div>"
   ]
  },
  {
   "cell_type": "markdown",
   "metadata": {
    "cell_style": "center",
    "slideshow": {
     "slide_type": "subslide"
    }
   },
   "source": [
    "<h2 style=\"text-align: center\">Le son de l'apprentissage machine (intelligence artificielle) quand il ne s'agit que d'une régression linéaire</h2>\n",
    "<div><br/></div>\n",
    "\n",
    "<div style=\"text-align: center;\">\n",
    "    <video src=\"img/fun.mp4\" type=\"video/mp4\" controls style=\"width: 80%; display: inline-block\" />\n",
    "</div>"
   ]
  },
  {
   "cell_type": "markdown",
   "metadata": {
    "cell_style": "split",
    "slideshow": {
     "slide_type": "subslide"
    }
   },
   "source": [
    "<h1 style=\"text-align: center\">Glorification?</h1>\n",
    "\n",
    "<div style=\"text-align: center;\">\n",
    "    <img src=\"img/AI_marketing.svg\" style=\"width: 70%; display: inline-block\" />\n",
    "</div>"
   ]
  },
  {
   "cell_type": "markdown",
   "metadata": {
    "cell_style": "split",
    "slideshow": {
     "slide_type": "fragment"
    }
   },
   "source": [
    "- Oui et non. L'apprentissage machine partage des techniques avec les statistiques classiques inférentielles.\n",
    "<div></div><br/>\n",
    "\n",
    "- Mais l'usage de ces techniques et, surtout, leur finalité diffèrent de façon fondamentale.\n",
    "\n",
    "<div style=\"text-align: center;\">\n",
    "    <img src=\"img/cultures.svg\" style=\"width: 100%; display: inline-block\" />\n",
    "</div>\n",
    "\n"
   ]
  },
  {
   "cell_type": "markdown",
   "metadata": {
    "slideshow": {
     "slide_type": "subslide"
    }
   },
   "source": [
    "<h1 style=\"text-align: center\">Importance de l'apprentissage machine pour la psychiatrie</h1>\n",
    "\n",
    "- Prédiction au niveau individuelle: psychiatrie de précision.\n",
    "<div></div><br/>\n",
    "\n",
    "<div style=\"text-align: center;\">\n",
    "    <img src=\"img/psychiatry.svg\" style=\"width: 100%; display: inline-block\" />\n",
    "</div>"
   ]
  },
  {
   "cell_type": "markdown",
   "metadata": {
    "slideshow": {
     "slide_type": "slide"
    }
   },
   "source": [
    "<h1 style=\"text-align: center\">Plan de cours</h1>\n",
    "\n",
    "<h3>Cours théoriques et démonstrations</h3>\n",
    "\n",
    "- **_Cours 1:_** La base\n",
    "    - Stats inférentielles vs apprentissage machine\n",
    "    - Apprentissage machine supervisé vs non supervisé\n",
    "<div></div><br/>\n",
    "\n",
    "- **_Cours 2:_** Concepts fondamentaux et modèles linéaires\n",
    "    - (cross)validation\n",
    "    - régularisation\n",
    "    - modèles linéaires (supervisé et non supervisé)\n",
    "<div></div><br/>\n",
    "\n",
    "- **_Cours 3:_** AM supervisé - modèles non linéaires\n",
    "<div></div><br/>\n",
    "\n",
    "- **_Cours 4:_** AM non supervisé\n",
    "<div></div><br/>\n",
    "\n",
    "- **_Cours 5:_** Réseaux de neurones (profonds)"
   ]
  },
  {
   "cell_type": "markdown",
   "metadata": {
    "slideshow": {
     "slide_type": "subslide"
    }
   },
   "source": [
    "<h1 style=\"text-align: center\">Références</h1>\n",
    "\n",
    "Une liste de ressources est proposée dans le ReadMe du \"répo\" *Github*: \n",
    "https://github.com/pnplab/ML_CRIUSMM/blob/master/README.md \n",
    "\n",
    "- **_Livres_**\n",
    "<div></div><br/>\n",
    "<div style=\"text-align: center;\">\n",
    "    <img src=\"img/livres.svg\" style=\"width: 100%; display: inline-block\" />\n",
    "</div>\n",
    "<div></div><br/>"
   ]
  },
  {
   "cell_type": "code",
   "execution_count": null,
   "metadata": {},
   "outputs": [],
   "source": []
  }
 ],
 "metadata": {
  "celltoolbar": "Slideshow",
  "kernelspec": {
   "display_name": "Python 3",
   "language": "python",
   "name": "python3"
  },
  "language_info": {
   "codemirror_mode": {
    "name": "ipython",
    "version": 3
   },
   "file_extension": ".py",
   "mimetype": "text/x-python",
   "name": "python",
   "nbconvert_exporter": "python",
   "pygments_lexer": "ipython3",
   "version": "3.7.3"
  }
 },
 "nbformat": 4,
 "nbformat_minor": 2
}
