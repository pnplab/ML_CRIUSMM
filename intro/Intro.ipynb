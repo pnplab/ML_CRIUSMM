{
 "cells": [
  {
   "cell_type": "markdown",
   "metadata": {
    "slideshow": {
     "slide_type": "slide"
    }
   },
   "source": [
    "<h1 style=\"text-align: center\">Formation en <span style=\"color: #66c2a5\">APPRENTISSAGE MACHINE </span> au CRIUSMM</h1>\n",
    "\n",
    "\n",
    "<div style=\"text-align: center;\">\n",
    "    <img src=\"img/MLvsStat.svg\" style=\"width: 50%; display: inline-block\" />\n",
    "</div>"
   ]
  },
  {
   "cell_type": "markdown",
   "metadata": {
    "slideshow": {
     "slide_type": "fragment"
    }
   },
   "source": [
    "<h1>Plan de cours</h1>\n",
    "\n",
    "<h1>Plan de cours</h1>\n",
    "<h1>Plan de cours</h1>\n",
    "<h1>Plan de cours</h1>\n",
    "<h1>Plan de cours</h1>"
   ]
  },
  {
   "cell_type": "markdown",
   "metadata": {
    "slideshow": {
     "slide_type": "slide"
    }
   },
   "source": [
    "<h1 style=\"text-align: center\">Le bruit de l'intelligence artificielle quand il s'agit d'une régression linéaire</h1>\n",
    "<br/>\n",
    "\n",
    "<div style=\"text-align: center;\">\n",
    "    <video src=\"img/fun.mp4\" type=\"video/mp4\" controls style=\"width: 80%; display: inline-block\" />\n",
    "</div>"
   ]
  },
  {
   "cell_type": "markdown",
   "metadata": {
    "slideshow": {
     "slide_type": "subslide"
    }
   },
   "source": [
    "<div style=\"text-align: center;\">\n",
    "    <img src=\"img/AI_marketing.svg\" style=\"width: 50%; display: inline-block\" />\n",
    "</div>"
   ]
  },
  {
   "cell_type": "markdown",
   "metadata": {
    "slideshow": {
     "slide_type": "slide"
    }
   },
   "source": [
    "<h1 style=\"color: #3288bd\">SCIKIT LEARN</h1>\n",
    "\n",
    "<div style=\"text-align: center;\">\n",
    "    <img src=\"img/scikitlearn.svg\" style=\"width: 50%; display: inline-block\" />\n",
    "</div>"
   ]
  },
  {
   "cell_type": "markdown",
   "metadata": {
    "slideshow": {
     "slide_type": "slide"
    }
   },
   "source": [
    "<div style=\"text-align: center;\">\n",
    "    <img src=\"img/fig_philosophy.svg\" style=\"width: 50%; display: inline-block\" />\n",
    "</div>"
   ]
  },
  {
   "cell_type": "code",
   "execution_count": 2,
   "metadata": {
    "slideshow": {
     "slide_type": "slide"
    }
   },
   "outputs": [
    {
     "ename": "SyntaxError",
     "evalue": "invalid syntax (<ipython-input-2-72bee2d0d20f>, line 3)",
     "output_type": "error",
     "traceback": [
      "\u001b[0;36m  File \u001b[0;32m\"<ipython-input-2-72bee2d0d20f>\"\u001b[0;36m, line \u001b[0;32m3\u001b[0m\n\u001b[0;31m    <h1 style=\"color: #3288bd\">TITRE</h1>\u001b[0m\n\u001b[0m    ^\u001b[0m\n\u001b[0;31mSyntaxError\u001b[0m\u001b[0;31m:\u001b[0m invalid syntax\n"
     ]
    }
   ],
   "source": [
    "## Title\n",
    "\n",
    "<h1 style=\"color: #3288bd\">TITRE</h1>\n",
    "\n",
    "<h2 style=\"color: #3288bd; font-weight:bold\">TITRE</h2>\n",
    "\n",
    "<h2 style=\"color: #3288bd; font-style:italic\">TITRE</h2>\n",
    "\n",
    "<h1 style=\"font-style:italic; background-color: #3288bd; display: inline-block\">bla bla bla ola ndbguobef esgoigbs gisges srgosise sgsiogs</h1>\n",
    "\n",
    "text<br/>\n",
    "text2\n",
    "\n",
    "- test\n",
    "- test2\n",
    "\n",
    "\n",
    "* test\n",
    "* test2\n",
    "\n",
    "\n",
    "1. test\n",
    "2. test2\n",
    "\n",
    "\n",
    "a) test<br/>\n",
    "b) test2\n",
    "\n",
    "<div style=\"text-align: center\">text centrer</div>\n",
    "\n",
    "<h1 style=\"text-align: center\">text centrer</h1>\n",
    "\n",
    "mon <span style=\"color: #3288bd; font-style:italic\">long</span> texte"
   ]
  },
  {
   "cell_type": "code",
   "execution_count": null,
   "metadata": {},
   "outputs": [],
   "source": []
  }
 ],
 "metadata": {
  "celltoolbar": "Slideshow",
  "kernelspec": {
   "display_name": "Python 3",
   "language": "python",
   "name": "python3"
  },
  "language_info": {
   "codemirror_mode": {
    "name": "ipython",
    "version": 3
   },
   "file_extension": ".py",
   "mimetype": "text/x-python",
   "name": "python",
   "nbconvert_exporter": "python",
   "pygments_lexer": "ipython3",
   "version": "3.7.3"
  }
 },
 "nbformat": 4,
 "nbformat_minor": 2
}
