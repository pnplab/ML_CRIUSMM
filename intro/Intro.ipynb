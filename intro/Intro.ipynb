{
 "cells": [
  {
   "cell_type": "markdown",
   "metadata": {
    "slideshow": {
     "slide_type": "slide"
    }
   },
   "source": [
    "## Title\n",
    "\n",
    "<h1 style=\"color: #3288bd\">TITRE</h2>\n",
    "\n",
    "<h2 style=\"color: #3288bd; font-weight:bold\">TITRE</h2>\n",
    "\n",
    "<h2 style=\"color: #3288bd; font-style:italic\">TITRE</h2>\n",
    "\n",
    "<h1 style=\"font-style:italic; background-color: #3288bd; display: inline-block\">bla bla bla ola ndbguobef esgoigbs gisges srgosise sgsiogs</h1>\n",
    "\n",
    "text<br/>\n",
    "text2\n",
    "\n",
    "- test\n",
    "- test2\n",
    "\n",
    "\n",
    "* test\n",
    "* test2\n",
    "\n",
    "\n",
    "1. test\n",
    "2. test2\n",
    "\n",
    "\n",
    "a) test<br/>\n",
    "b) test2\n",
    "\n",
    "<div style=\"text-align: center\">text centrer</div>\n",
    "\n",
    "<h1 style=\"text-align: center\">text centrer</h1>\n",
    "\n",
    "mon <span style=\"color: #3288bd; font-style:italic\">long</span> texte"
   ]
  },
  {
   "cell_type": "markdown",
   "metadata": {
    "slideshow": {
     "slide_type": "slide"
    }
   },
   "source": [
    "<div style=\"text-align: center;\">\n",
    "    <img src=\"img/fig_philosophy.svg\" style=\"width: 50%; display: inline-block\" />\n",
    "</div>"
   ]
  },
  {
   "cell_type": "markdown",
   "metadata": {
    "slideshow": {
     "slide_type": "slide"
    }
   },
   "source": [
    "<div style=\"text-align: center;\">\n",
    "    <video src=\"img/fun.mp4\" type=\"video/mp4\" controls style=\"width: 50%; display: inline-block\" />\n",
    "</div>"
   ]
  },
  {
   "cell_type": "code",
   "execution_count": null,
   "metadata": {
    "slideshow": {
     "slide_type": "slide"
    }
   },
   "outputs": [],
   "source": []
  },
  {
   "cell_type": "code",
   "execution_count": 9,
   "metadata": {
    "slideshow": {
     "slide_type": "slide"
    }
   },
   "outputs": [
    {
     "name": "stdout",
     "output_type": "stream",
     "text": [
      "2\n"
     ]
    }
   ],
   "source": [
    "a = 2\n",
    "print(a)"
   ]
  },
  {
   "cell_type": "code",
   "execution_count": null,
   "metadata": {},
   "outputs": [],
   "source": []
  }
 ],
 "metadata": {
  "celltoolbar": "Slideshow",
  "kernelspec": {
   "display_name": "Python 3",
   "language": "python",
   "name": "python3"
  },
  "language_info": {
   "codemirror_mode": {
    "name": "ipython",
    "version": 3
   },
   "file_extension": ".py",
   "mimetype": "text/x-python",
   "name": "python",
   "nbconvert_exporter": "python",
   "pygments_lexer": "ipython3",
   "version": "3.7.3"
  }
 },
 "nbformat": 4,
 "nbformat_minor": 2
}
