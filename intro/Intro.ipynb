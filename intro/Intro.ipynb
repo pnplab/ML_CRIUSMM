{
 "cells": [
  {
   "cell_type": "markdown",
   "metadata": {
    "slideshow": {
     "slide_type": "slide"
    }
   },
   "source": [
    "<h1 style=\"text-align: center\">Formation en <span style=\"color: #3288bd\">APPRENTISSAGE MACHINE </span> au CRIUSMM</h1><br/>\n",
    "\n",
    "<div style=\"text-align: center;\"><img src=\"img/ML_brain.svg\" style=\"width: 20%; display: inline-block\" /></div>\n",
    "\n",
    "\n",
    "<h3 style=\"text-align: center\">Automne 2019</h3>\n",
    "<h3 style=\"text-align: center\">Etienne Dumesnil & Pierre Orban (pierre.p.orban@gmail.com)</h3>"
   ]
  },
  {
   "cell_type": "markdown",
   "metadata": {
    "slideshow": {
     "slide_type": "subslide"
    }
   },
   "source": [
    "<h2 style=\"text-align: center\">Organisation</h2>\n",
    "\n",
    "<h3>Lieu et horaire</h3>\n",
    "\n",
    "- Centre d’enseignement Dr Frederic Grunberg, Pavillon Bédard 3e étage.\n",
    "- Les lundis de 13h à 16h\n",
    "\n",
    "<h3>Cours théoriques et démonstrations</h3>\n",
    "\n",
    "- 21 octobre 2019: BE-322-09 salle polyvalente\n",
    "- 28 octobre 2019: BE-322-09 salle polyvalente\n",
    "- 4 novembre 2019: BE-322-09 salle polyvalente\n",
    "- 11 novembre 2019: BE-320-16\n",
    "- 18 novembre 2019: BE-322-09 salle polyvalente\n",
    "\n",
    "<h3>Travaux pratiques</h3>\n",
    "\n",
    "- 2 décembre 2019: BE-322-09 salle polyvalente\n",
    "- 16 décembre 2019: BE-320-16"
   ]
  },
  {
   "cell_type": "markdown",
   "metadata": {
    "cell_style": "split",
    "slideshow": {
     "slide_type": "slide"
    }
   },
   "source": [
    "<h1 style=\"text-align: center\">Le pratico-pratique d'abord: Doit-on coder?</h1><br/>\n",
    "\n",
    "- <div>Toutes les démonstrations reposeront sur <span style=\"font-style:italic\">SciKit Learn</span>  (https://scikit-learn.org/), une bibliothèque <span style=\"font-style:italic\">Python</span> dédiée à l'apprentissage machine.</div><br/>\n",
    "\n",
    "<div style=\"text-align: center;\">\n",
    "    <img src=\"img/scikitlearn.svg\" style=\"width: 80%; display: inline-block\" />\n",
    "</div>"
   ]
  },
  {
   "cell_type": "markdown",
   "metadata": {
    "cell_style": "split",
    "slideshow": {
     "slide_type": "fragment"
    }
   },
   "source": [
    "- Tout le matériel est contenu dans des \"calepins\" <span style=\"font-style:italic\">Jupyter</span> (https://jupyter.org).\n",
    "\n",
    "<div style=\"text-align: center;\">\n",
    "    <img src=\"img/jupyter.svg\" style=\"width: 80%; display: inline-block\" />\n",
    "</div>"
   ]
  },
  {
   "cell_type": "markdown",
   "metadata": {
    "cell_style": "split",
    "slideshow": {
     "slide_type": "subslide"
    }
   },
   "source": [
    "- Les \"calepins\" <span style=\"font-style:italic\">Jupyter</span> se trouvent dans un \"répo\" <span style=\"font-style:italic\">Github</span>, **connectez vous**:\n",
    "\n",
    "<div style=\"text-align: center;\">https://github.com/pnplab/ML_CRIUSMM</div><br/>\n",
    "\n",
    "<div style=\"text-align: center;\">\n",
    "    <img src=\"img/github.svg\" style=\"width: 60%; display: inline-block\"/></div>"
   ]
  },
  {
   "cell_type": "markdown",
   "metadata": {
    "cell_style": "split",
    "slideshow": {
     "slide_type": "fragment"
    }
   },
   "source": [
    "- Les \"calepins\" <span style=\"font-style:italic\">Jupyter</span> peuvent être exécutés de manière dynamique et fluide sur <span style=\"font-style:italic\">Binder</span>, **démarrez le**:\n",
    "\n",
    "<div style=\"text-align: center;\">\n",
    "    <img src=\"img/binder.svg\" style=\"width: 70%; display: inline-block\"/></div>"
   ]
  },
  {
   "cell_type": "markdown",
   "metadata": {
    "slideshow": {
     "slide_type": "subslide"
    }
   },
   "source": [
    "<h1 style=\"text-align: center\">Quelles données pour les démonstrations?</h1><br/>\n",
    "\n",
    "<div style=\"text-align: center;\">\n",
    "    <img src=\"img/signature.svg\" style=\"width: 30%; display: inline-block\" />\n",
    "</div>\n",
    "\n",
    "- <div>Toutes les démonstrations reposeront sur <span style=\"font-style:italic\">SciKit Learn</span>  (https://scikit-learn.org/), une bibliothèque <span style=\"font-style:italic\">Python</span> dédiée à l'apprentissage machine.</div><br/>\n",
    "\n",
    "<div style=\"text-align: center;\">\n",
    "    <img src=\"img/data_sign.svg\" style=\"width: 60%; display: inline-block\" />\n",
    "</div>"
   ]
  },
  {
   "cell_type": "markdown",
   "metadata": {},
   "source": []
  },
  {
   "cell_type": "markdown",
   "metadata": {},
   "source": []
  },
  {
   "cell_type": "markdown",
   "metadata": {},
   "source": []
  },
  {
   "cell_type": "markdown",
   "metadata": {
    "cell_style": "center",
    "slideshow": {
     "slide_type": "slide"
    }
   },
   "source": [
    "<h1 style=\"text-align: center\">Le bruit de l'intelligence artificielle quand il s'agit d'une régression linéaire</h1>\n",
    "<br/>\n",
    "\n",
    "<div style=\"text-align: center;\">\n",
    "    <video src=\"img/fun.mp4\" type=\"video/mp4\" controls style=\"width: 80%; display: inline-block\" />\n",
    "</div>"
   ]
  },
  {
   "cell_type": "markdown",
   "metadata": {
    "cell_style": "split",
    "slideshow": {
     "slide_type": "subslide"
    }
   },
   "source": [
    "<div style=\"text-align: center;\">\n",
    "    <img src=\"img/AI_marketing.svg\" style=\"width: 50%; display: inline-block\" />\n",
    "</div>"
   ]
  },
  {
   "cell_type": "markdown",
   "metadata": {
    "cell_style": "split",
    "slideshow": {
     "slide_type": "fragment"
    }
   },
   "source": [
    "# TEST"
   ]
  },
  {
   "cell_type": "markdown",
   "metadata": {
    "slideshow": {
     "slide_type": "slide"
    }
   },
   "source": [
    "<h1 style=\"color: #3288bd\">SCIKIT LEARN</h1>\n",
    "\n",
    "<div style=\"text-align: center;\">\n",
    "    <img src=\"img/scikitlearn.svg\" style=\"width: 50%; display: inline-block\" />\n",
    "</div>"
   ]
  },
  {
   "cell_type": "markdown",
   "metadata": {
    "slideshow": {
     "slide_type": "slide"
    }
   },
   "source": [
    "<div style=\"text-align: center;\">\n",
    "    <img src=\"img/fig_philosophy.svg\" style=\"width: 50%; display: inline-block\" />\n",
    "</div>"
   ]
  },
  {
   "cell_type": "markdown",
   "metadata": {
    "slideshow": {
     "slide_type": "slide"
    }
   },
   "source": [
    "## Title\n",
    "\n",
    "<h1 style=\"color: #3288bd\">TITRE</h1>\n",
    "\n",
    "<h2 style=\"color: #3288bd; font-weight:bold\">TITRE</h2>\n",
    "\n",
    "<h2 style=\"color: #3288bd; font-style:italic\">TITRE</h2>\n",
    "\n",
    "<h1 style=\"font-style:italic; background-color: #3288bd; display: inline-block\">bla bla bla ola ndbguobef esgoigbs gisges srgosise sgsiogs</h1>\n",
    "\n",
    "text<br/>\n",
    "text2\n",
    "\n",
    "- test\n",
    "- test2\n",
    "\n",
    "\n",
    "* test\n",
    "* test2\n",
    "\n",
    "\n",
    "1. test\n",
    "2. test2\n",
    "\n",
    "\n",
    "a) test<br/>\n",
    "b) test2\n",
    "\n",
    "<div style=\"text-align: center; font-weight:bold\">text centrer</div>\n",
    "\n",
    "<div style=\"text-align: center;\">text centrer</div>\n",
    "\n",
    "<h1 style=\"text-align: center\">text centrer</h1>\n",
    "\n",
    "mon <span style=\"color: #3288bd; font-style:italic\">long</span> texte\n",
    "\n",
    "<span style=\"color: #3288bd; font-style:italic\">long</span> texte\n",
    "\n",
    "<span style=\"color: #000000; font-style:italic\">long</span> texte"
   ]
  },
  {
   "cell_type": "code",
   "execution_count": null,
   "metadata": {},
   "outputs": [],
   "source": []
  }
 ],
 "metadata": {
  "celltoolbar": "Slideshow",
  "kernelspec": {
   "display_name": "Python 3",
   "language": "python",
   "name": "python3"
  },
  "language_info": {
   "codemirror_mode": {
    "name": "ipython",
    "version": 3
   },
   "file_extension": ".py",
   "mimetype": "text/x-python",
   "name": "python",
   "nbconvert_exporter": "python",
   "pygments_lexer": "ipython3",
   "version": "3.7.3"
  }
 },
 "nbformat": 4,
 "nbformat_minor": 2
}
