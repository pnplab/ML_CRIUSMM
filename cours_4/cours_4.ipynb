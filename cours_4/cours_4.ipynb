{
 "cells": [
  {
   "attachments": {},
   "cell_type": "markdown",
   "metadata": {},
   "source": [
    "<img src=\"./img/Cours_4.svg\" alt=\"Drawing\" style=\"width: 2000px;\"/>"
   ]
  },
  {
   "cell_type": "markdown",
   "metadata": {},
   "source": [
    "<img src=\"./img/RD_0.svg\" alt=\"Drawing\" style=\"width: 2000px;\"/>"
   ]
  },
  {
   "cell_type": "markdown",
   "metadata": {},
   "source": [
    "<img src=\"./img/CP_1.svg\" alt=\"Drawing\" style=\"width: 2000px;\"/>"
   ]
  },
  {
   "cell_type": "markdown",
   "metadata": {},
   "source": [
    "<img src=\"./img/CP_2.svg\" alt=\"Drawing\" style=\"width: 2000px;\"/>"
   ]
  },
  {
   "cell_type": "markdown",
   "metadata": {},
   "source": [
    "<img src=\"./img/CP_3.svg\" alt=\"Drawing\" style=\"width: 2000px;\"/>"
   ]
  },
  {
   "cell_type": "markdown",
   "metadata": {},
   "source": [
    "<img src=\"./img/CP_4.svg\" alt=\"Drawing\" style=\"width: 2000px;\"/>"
   ]
  },
  {
   "cell_type": "markdown",
   "metadata": {},
   "source": [
    "<img src=\"./img/CP_5.svg\" alt=\"Drawing\" style=\"width: 2000px;\"/>"
   ]
  },
  {
   "cell_type": "markdown",
   "metadata": {},
   "source": [
    "<img src=\"./img/CP_6.svg\" alt=\"Drawing\" style=\"width: 2000px;\"/>"
   ]
  },
  {
   "cell_type": "code",
   "execution_count": 13,
   "metadata": {},
   "outputs": [
    {
     "name": "stdout",
     "output_type": "stream",
     "text": [
      "[[ 0.39574818  0.3945421   0.37080699  0.36274023  0.41804713  0.48185334\n",
      "  -0.01296216 -0.10349606 -0.02856772]\n",
      " [ 0.11896473 -0.21140391 -0.17233691  0.47948685  0.17722279 -0.18074764\n",
      "  -0.4239444   0.53030629  0.39562216]\n",
      " [-0.28888439 -0.49144704  0.45352983  0.18375997  0.47070147 -0.28792853\n",
      "   0.10514871 -0.06775774 -0.33979187]\n",
      " [ 0.41040125 -0.29425983  0.35502148 -0.07449665 -0.16041664 -0.13716952\n",
      "   0.49532311 -0.0466895   0.56684926]\n",
      " [ 0.18213185  0.06040829  0.28992918 -0.02484804 -0.19012211 -0.36626827\n",
      "  -0.64053051 -0.53875877  0.08754003]\n",
      " [ 0.72584952 -0.16087898 -0.32966928 -0.16690757  0.17162611 -0.24998661\n",
      "   0.03591941  0.04895436 -0.46377246]\n",
      " [ 0.06740373  0.30325898  0.47364968  0.07942285 -0.45332816 -0.23853478\n",
      "   0.02950116  0.53902899 -0.34497956]\n",
      " [-0.09018008  0.47610817  0.06262436 -0.47641641  0.5228959  -0.40462131\n",
      "   0.02549505  0.17995696  0.25322148]\n",
      " [-0.06813317  0.35122596 -0.28295938  0.58089437 -0.04479774 -0.46493691\n",
      "   0.38808766 -0.29274303 -0.00319895]]\n",
      "[1.89590937 1.7129289  1.12627959 1.03239634 0.86869074 0.71187512\n",
      " 0.62032981 0.58761092 0.46823797]\n"
     ]
    },
    {
     "data": {
      "image/png": "[encoded data removed]",
      "text/plain": [
       "<Figure size 432x288 with 1 Axes>"
      ]
     },
     "metadata": {
      "needs_background": "light"
     },
     "output_type": "display_data"
    }
   ],
   "source": [
    "import warnings\n",
    "warnings.filterwarnings(\"ignore\")\n",
    "warnings.filterwarnings(action='ignore',category=DeprecationWarning)\n",
    "warnings.filterwarnings(action='ignore',category=FutureWarning)\n",
    "\n",
    "# -----------------------------------------------------------------------------\n",
    "# ÉTAPE 1 : importer les librairies utiles\n",
    "# -----------------------------------------------------------------------------\n",
    "\n",
    "%matplotlib inline\n",
    "\n",
    "# Importer les librairies utiles pour l'analyse\n",
    "import pandas as pd\n",
    "import numpy as np\n",
    "import matplotlib.pyplot as plt\n",
    "\n",
    "# Importer les fonctions de prétraitement\n",
    "from sklearn.preprocessing import StandardScaler\n",
    "\n",
    "# Importer une fonction de réduction de dimension\n",
    "from sklearn.decomposition import PCA\n",
    "\n",
    "# Importons un ensemble de données\n",
    "data = pd.read_csv('../data/sim_data_signature_small.csv')\n",
    "data = data.dropna()\n",
    "\n",
    "\n",
    "features_cols = ['PSQ_SS', 'PHQ9TT', 'CEVQOTT', 'DAST10TT', 'AUDITTT', 'STAIYTT', 'AGE', 'SEXE', 'SES']\n",
    "X = data.loc[:, features_cols]\n",
    "scaler = StandardScaler()\n",
    "X = scaler.fit_transform(X)\n",
    "\n",
    "\n",
    "pca = PCA(n_components=9)\n",
    "principalComponents = pca.fit_transform(X)\n",
    "principalDataframe = pd.DataFrame(data = principalComponents, columns = ['PC1', 'PC2', 'PC3', 'PC4', 'PC5', 'PC6', 'PC7', 'PC8', 'PC9'])\n",
    "\n",
    "print(pca.components_)\n",
    "\n",
    "percent_variance = np.round(pca.explained_variance_ratio_* 100, decimals =2)\n",
    "pc_columns = ['PC1', 'PC2', 'PC3', 'PC4', 'PC5', 'PC6', 'PC7', 'PC8', 'PC9']\n",
    "plt.bar(x= range(1,10), height=percent_variance, tick_label=pc_columns)\n",
    "plt.ylabel('Percentate of Variance Explained')\n",
    "plt.xlabel('Principal Component')\n",
    "plt.title('PCA Scree Plot')\n",
    "plt.show()"
   ]
  },
  {
   "cell_type": "code",
   "execution_count": 16,
   "metadata": {},
   "outputs": [
    {
     "name": "stdout",
     "output_type": "stream",
     "text": [
      "[[ 0.4160049   0.40157549  0.37052104  0.34288613  0.3982602   0.47357832\n",
      "  -0.00200953 -0.15008579 -0.07350454]\n",
      " [ 0.16392705 -0.18996206 -0.17285272  0.48566306  0.21482287 -0.15702644\n",
      "  -0.41079925  0.50047778  0.42574109]\n",
      " [-0.18136021 -0.52419498  0.50740419  0.17492953  0.43058637 -0.35864437\n",
      "   0.12056848 -0.1231562  -0.24603686]\n",
      " [ 0.47999393 -0.2272894   0.22657916 -0.09959024 -0.21036975 -0.0871388\n",
      "   0.52008702 -0.06727954  0.57430252]\n",
      " [ 0.12198265  0.08929438  0.28841061 -0.05259101 -0.26116254 -0.29167905\n",
      "  -0.64682468 -0.53089493  0.19412912]\n",
      " [ 0.60624668 -0.0482913  -0.45698882 -0.26065466  0.35404963 -0.33756302\n",
      "  -0.03232662 -0.15050394 -0.30059424]\n",
      " [ 0.19186098  0.40437337  0.4009799  -0.08675075 -0.23925558 -0.4312224\n",
      "   0.02982297  0.55109985 -0.2890753 ]\n",
      " [-0.3115797   0.41607686  0.0486349  -0.40123374  0.55296104 -0.21568499\n",
      "   0.053354    0.01404869  0.45947181]\n",
      " [-0.14309018  0.35953775 -0.26242956  0.60565755 -0.09494073 -0.42819281\n",
      "   0.35078403 -0.31447256  0.01619274]]\n"
     ]
    },
    {
     "data": {
      "image/png": "[encoded data removed]",
      "text/plain": [
       "<Figure size 432x288 with 1 Axes>"
      ]
     },
     "metadata": {
      "needs_background": "light"
     },
     "output_type": "display_data"
    }
   ],
   "source": [
    "import warnings\n",
    "warnings.filterwarnings(\"ignore\")\n",
    "warnings.filterwarnings(action='ignore',category=DeprecationWarning)\n",
    "warnings.filterwarnings(action='ignore',category=FutureWarning)\n",
    "\n",
    "# -----------------------------------------------------------------------------\n",
    "# ÉTAPE 1 : importer les librairies utiles\n",
    "# -----------------------------------------------------------------------------\n",
    "\n",
    "# Importer les librairies utiles pour l'analyse\n",
    "import pandas as pd\n",
    "import numpy as np\n",
    "\n",
    "\n",
    "# -----------------------------------------------------------------------------\n",
    "# ÉTAPE 2 : importer les fonctions utiles\n",
    "# -----------------------------------------------------------------------------\n",
    "\n",
    "# Importer les fonctions de prétraitement\n",
    "from sklearn.preprocessing import StandardScaler\n",
    "\n",
    "# Importer une fonction de sélection de données\n",
    "from sklearn.feature_selection import VarianceThreshold\n",
    "\n",
    "# Importer une fonction de réduction de dimension\n",
    "from sklearn.decomposition import PCA\n",
    "\n",
    "# Importer une fonction qui nous permette de construire aléatoirement les ensembles \"Entraînement\" et \"Test\"\n",
    "from sklearn.model_selection import train_test_split\n",
    "\n",
    "# Importer le modèle de régression logistique de sklearn\n",
    "from sklearn import tree\n",
    "from sklearn.tree import DecisionTreeClassifier\n",
    "\n",
    "# Importer la fonction de validation croisée\n",
    "from sklearn.model_selection import StratifiedKFold, GridSearchCV\n",
    "\n",
    "# Importer la fonction permettant d'afficher le rapport de classification\n",
    "from sklearn.metrics import roc_auc_score\n",
    "\n",
    "np.random.seed(42)\n",
    "\n",
    "# -----------------------------------------------------------------------------\n",
    "# ÉTAPE 3 : importer et préparer le jeu de données \n",
    "# -----------------------------------------------------------------------------\n",
    "\n",
    "# Importons un ensemble de données\n",
    "data = pd.read_csv('../data/sim_data_signature_small.csv')\n",
    "data = data.dropna()\n",
    "\n",
    "# Noms des colonnes correspondant aux caractéristiques et à la cible\n",
    "features_cols = ['PSQ_SS', 'PHQ9TT', 'CEVQOTT', 'DAST10TT', 'AUDITTT', 'STAIYTT', 'AGE', 'SEXE', 'SES']\n",
    "target_col = 'WHODASTTB'\n",
    "\n",
    "# Données importées (X: caractéristiques, y: cible)\n",
    "X = data.loc[:, features_cols]\n",
    "y = data['WHODASTTB']\n",
    "\n",
    "# Séparation en données d'entraînement et en données de test\n",
    "X_train, X_test, y_train, y_test = train_test_split(X, y, test_size = 0.2)\n",
    "\n",
    "# Standatdisation des entrées\n",
    "scaler = StandardScaler()\n",
    "X_train = scaler.fit_transform(X_train)\n",
    "X_test = scaler.fit_transform(X_test)\n",
    "\n",
    "pca = PCA(n_components=9)\n",
    "pca.fit(X_train)\n",
    "X_train_pca = pca.transform(X_train)\n",
    "X_test_pca = pca.transform(X_test)\n",
    "\n",
    "#principalDataframe = pd.DataFrame(data = X_train_pca, columns = ['PC1', 'PC2', 'PC3', 'PC4', 'PC5', 'PC6', 'PC7', 'PC8', 'PC9'])\n",
    "\n",
    "print(pca.components_)\n",
    "\n",
    "percent_variance = np.round(pca.explained_variance_ratio_* 100, decimals =2)\n",
    "pc_columns = ['PC1', 'PC2', 'PC3', 'PC4', 'PC5', 'PC6', 'PC7', 'PC8', 'PC9']\n",
    "plt.bar(x= range(1,10), height=percent_variance, tick_label=pc_columns)\n",
    "plt.ylabel('Percentate of Variance Explained')\n",
    "plt.xlabel('Principal Component')\n",
    "plt.title('PCA Scree Plot')\n",
    "plt.show()"
   ]
  },
  {
   "cell_type": "code",
   "execution_count": 28,
   "metadata": {},
   "outputs": [
    {
     "data": {
      "image/png": "[encoded data removed]",
      "text/plain": [
       "<Figure size 432x288 with 1 Axes>"
      ]
     },
     "metadata": {
      "needs_background": "light"
     },
     "output_type": "display_data"
    }
   ],
   "source": [
    "import warnings\n",
    "warnings.filterwarnings(\"ignore\")\n",
    "warnings.filterwarnings(action='ignore',category=DeprecationWarning)\n",
    "warnings.filterwarnings(action='ignore',category=FutureWarning)\n",
    "\n",
    "# -----------------------------------------------------------------------------\n",
    "# ÉTAPE 1 : importer les librairies utiles\n",
    "# -----------------------------------------------------------------------------\n",
    "\n",
    "# Importer les librairies utiles pour l'analyse\n",
    "import pandas as pd\n",
    "import numpy as np\n",
    "\n",
    "\n",
    "# -----------------------------------------------------------------------------\n",
    "# ÉTAPE 2 : importer les fonctions utiles\n",
    "# -----------------------------------------------------------------------------\n",
    "\n",
    "# Importer les fonctions de prétraitement\n",
    "from sklearn.preprocessing import StandardScaler\n",
    "\n",
    "# Importer une fonction de sélection de données\n",
    "from sklearn.feature_selection import VarianceThreshold\n",
    "\n",
    "# Importer une fonction de réduction de dimension\n",
    "from sklearn.decomposition import PCA\n",
    "\n",
    "# Importer une fonction qui nous permette de construire aléatoirement les ensembles \"Entraînement\" et \"Test\"\n",
    "from sklearn.model_selection import train_test_split\n",
    "\n",
    "# Importer le modèle de régression logistique de sklearn\n",
    "from sklearn import tree\n",
    "from sklearn.tree import DecisionTreeClassifier\n",
    "\n",
    "# Importer la fonction de validation croisée\n",
    "from sklearn.model_selection import StratifiedKFold, GridSearchCV\n",
    "\n",
    "# Importer la fonction permettant d'afficher le rapport de classification\n",
    "from sklearn.metrics import roc_auc_score\n",
    "\n",
    "np.random.seed(42)\n",
    "\n",
    "# -----------------------------------------------------------------------------\n",
    "# ÉTAPE 3 : importer et préparer le jeu de données \n",
    "# -----------------------------------------------------------------------------\n",
    "\n",
    "# Importons un ensemble de données\n",
    "data = pd.read_csv('../data/sim_data_signature_small.csv')\n",
    "data = data.dropna()\n",
    "\n",
    "# Noms des colonnes correspondant aux caractéristiques et à la cible\n",
    "features_cols = ['PSQ_SS', 'PHQ9TT', 'CEVQOTT', 'DAST10TT', 'AUDITTT', 'STAIYTT', 'AGE', 'SEXE', 'SES']\n",
    "target_col = 'WHODASTTB'\n",
    "\n",
    "# Données importées (X: caractéristiques, y: cible)\n",
    "X = data.loc[:, features_cols]\n",
    "y = data['WHODASTTB']\n",
    "\n",
    "# Séparation en données d'entraînement et en données de test\n",
    "X_train, X_test, y_train, y_test = train_test_split(X, y, test_size = 0.2)\n",
    "\n",
    "# Standatdisation des entrées\n",
    "scaler = StandardScaler()\n",
    "X_train = scaler.fit_transform(X_train)\n",
    "X_test = scaler.fit_transform(X_test)\n",
    "\n",
    "# On effectue la PCA\n",
    "pca = PCA(n_components=2)\n",
    "pca.fit(X_train)\n",
    "X_train_pca = pca.transform(X_train)\n",
    "X_test_pca = pca.transform(X_test)\n",
    "\n",
    "percent_variance = np.round(pca.explained_variance_ratio_* 100, decimals =2)\n",
    "pc_columns = ['PC1', 'PC2']\n",
    "plt.bar(x= range(1,3), height=percent_variance, tick_label=pc_columns)\n",
    "plt.ylabel('Percentate of Variance Explained')\n",
    "plt.xlabel('Principal Component')\n",
    "plt.title('PCA Scree Plot')\n",
    "plt.show()"
   ]
  },
  {
   "cell_type": "code",
   "execution_count": 29,
   "metadata": {},
   "outputs": [
    {
     "name": "stdout",
     "output_type": "stream",
     "text": [
      "\n",
      "Meilleurs hyperparamètres: \n",
      " {'max_depth': 2, 'min_samples_split': 2}\n",
      "\n",
      "Score = \n",
      " 0.6388129667884952\n"
     ]
    },
    {
     "data": {
      "text/plain": [
       "DecisionTreeClassifier(class_weight=None, criterion='gini', max_depth=2,\n",
       "                       max_features=None, max_leaf_nodes=None,\n",
       "                       min_impurity_decrease=0.0, min_impurity_split=None,\n",
       "                       min_samples_leaf=1, min_samples_split=2,\n",
       "                       min_weight_fraction_leaf=0.0, presort=False,\n",
       "                       random_state=None, splitter='best')"
      ]
     },
     "execution_count": 29,
     "metadata": {},
     "output_type": "execute_result"
    }
   ],
   "source": [
    "# -----------------------------------------------------------------------------\n",
    "# ÉTAPE 4 : définir et entraîner le modèle\n",
    "# -----------------------------------------------------------------------------\n",
    "\n",
    "# Définir le modèle\n",
    "model = DecisionTreeClassifier()\n",
    "\n",
    "# Définir les hyperparamètres\n",
    "hyperparams = {'max_depth':[1, 2, 4, 8, 12, 16], 'min_samples_split':[2, 4, 6, 8, 10, 12, 14, 16]}\n",
    "\n",
    "# Définir les plus de la validation croisée\n",
    "cv_folds = StratifiedKFold(n_splits=5, random_state=42)\n",
    "\n",
    "# Définir le type de score utilisé pour sélectionner les hyperparamètres dans la validation croisée\n",
    "scoring='roc_auc'\n",
    "\n",
    "# Réaliser la validation croisée avec grille de recherche pour les hyperparamètres.\n",
    "cv_valid = GridSearchCV(estimator=model, param_grid=hyperparams, cv=cv_folds, scoring=scoring, iid=False)\n",
    "cv_valid.fit(X_train_pca, y_train)\n",
    "best_params = cv_valid.best_params_\n",
    "best_score = cv_valid.best_score_\n",
    "model = cv_valid.best_estimator_\n",
    "print('\\nMeilleurs hyperparamètres: \\n', best_params)\n",
    "print('\\nScore = \\n', best_score)\n",
    "\n",
    "# Entraîner le modèle final avec toutes les données d'entraînement\n",
    "model.fit(X_train_pca,y_train)"
   ]
  },
  {
   "cell_type": "code",
   "execution_count": 30,
   "metadata": {},
   "outputs": [
    {
     "name": "stdout",
     "output_type": "stream",
     "text": [
      "\n",
      "Test AUC =  0.5997130559540889\n"
     ]
    }
   ],
   "source": [
    "# On teste l'algorithme final en prédisant de nouvelles données.\n",
    "y_pred = model.predict(X_test_pca)\n",
    "\n",
    "# On évalue les prédictions de l'algorithme final.\n",
    "auc = roc_auc_score(y_test, y_pred)\n",
    "\n",
    "# On affiche le résultat\n",
    "print('\\nTest AUC = ', auc)"
   ]
  },
  {
   "cell_type": "markdown",
   "metadata": {},
   "source": [
    "<img src=\"./img/R_0.svg\" alt=\"Drawing\" style=\"width: 2000px;\"/>"
   ]
  },
  {
   "attachments": {},
   "cell_type": "markdown",
   "metadata": {},
   "source": [
    "<img src=\"./img/R_1.svg\" alt=\"Drawing\" style=\"width: 2000px;\"/>"
   ]
  },
  {
   "cell_type": "markdown",
   "metadata": {},
   "source": [
    "<img src=\"./img/KM_1.svg\" alt=\"Drawing\" style=\"width: 2000px;\"/>"
   ]
  },
  {
   "cell_type": "markdown",
   "metadata": {},
   "source": [
    "<img src=\"./img/KM_2.svg\" alt=\"Drawing\" style=\"width: 2000px;\"/>"
   ]
  },
  {
   "cell_type": "markdown",
   "metadata": {},
   "source": [
    "<img src=\"./img/DM_1.svg\" alt=\"Drawing\" style=\"width: 2000px;\"/>"
   ]
  },
  {
   "cell_type": "markdown",
   "metadata": {},
   "source": [
    "<img src=\"./img/DM_2.svg\" alt=\"Drawing\" style=\"width: 2000px;\"/>"
   ]
  },
  {
   "cell_type": "markdown",
   "metadata": {},
   "source": [
    "<img src=\"./img/DB_1.svg\" alt=\"Drawing\" style=\"width: 2000px;\"/>"
   ]
  },
  {
   "cell_type": "markdown",
   "metadata": {},
   "source": [
    "<img src=\"./img/DB_2.svg\" alt=\"Drawing\" style=\"width: 2000px;\"/>"
   ]
  },
  {
   "cell_type": "markdown",
   "metadata": {},
   "source": [
    "<img src=\"./img/DB_3.svg\" alt=\"Drawing\" style=\"width: 2000px;\"/>"
   ]
  },
  {
   "cell_type": "markdown",
   "metadata": {},
   "source": [
    "<img src=\"./img/DB_4.svg\" alt=\"Drawing\" style=\"width: 2000px;\"/>"
   ]
  },
  {
   "cell_type": "markdown",
   "metadata": {},
   "source": [
    "<img src=\"./img/MG_1.svg\" alt=\"Drawing\" style=\"width: 2000px;\"/>"
   ]
  },
  {
   "cell_type": "markdown",
   "metadata": {},
   "source": [
    "<img src=\"./img/MG_2.svg\" alt=\"Drawing\" style=\"width: 2000px;\"/>"
   ]
  },
  {
   "cell_type": "markdown",
   "metadata": {},
   "source": [
    "<img src=\"./img/MG_3.svg\" alt=\"Drawing\" style=\"width: 2000px;\"/>"
   ]
  },
  {
   "cell_type": "markdown",
   "metadata": {},
   "source": [
    "<img src=\"./img/MG_4.svg\" alt=\"Drawing\" style=\"width: 2000px;\"/>"
   ]
  },
  {
   "cell_type": "markdown",
   "metadata": {},
   "source": [
    "<img src=\"./img/RH_1.svg\" alt=\"Drawing\" style=\"width: 2000px;\"/>"
   ]
  },
  {
   "cell_type": "markdown",
   "metadata": {},
   "source": [
    "<img src=\"./img/RH_2.svg\" alt=\"Drawing\" style=\"width: 2000px;\"/>"
   ]
  },
  {
   "cell_type": "markdown",
   "metadata": {},
   "source": [
    "<img src=\"./img/RH_3.svg\" alt=\"Drawing\" style=\"width: 2000px;\"/>"
   ]
  }
 ],
 "metadata": {
  "celltoolbar": "Slideshow",
  "kernelspec": {
   "display_name": "Python 3",
   "language": "python",
   "name": "python3"
  },
  "language_info": {
   "codemirror_mode": {
    "name": "ipython",
    "version": 3
   },
   "file_extension": ".py",
   "mimetype": "text/x-python",
   "name": "python",
   "nbconvert_exporter": "python",
   "pygments_lexer": "ipython3",
   "version": "3.7.4"
  }
 },
 "nbformat": 4,
 "nbformat_minor": 2
}
