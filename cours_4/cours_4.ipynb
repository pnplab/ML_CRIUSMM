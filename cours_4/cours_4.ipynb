{
 "cells": [
  {
   "cell_type": "markdown",
   "metadata": {},
   "source": [
    "<img src=\"./img/Cours_4.svg\" alt=\"Drawing\" style=\"width: 2000px;\"/>"
   ]
  },
  {
   "cell_type": "markdown",
   "metadata": {},
   "source": [
    "<img src=\"./img/RD_0.svg\" alt=\"Drawing\" style=\"width: 2000px;\"/>"
   ]
  },
  {
   "cell_type": "markdown",
   "metadata": {},
   "source": [
    "<img src=\"./img/CP_1.svg\" alt=\"Drawing\" style=\"width: 2000px;\"/>"
   ]
  },
  {
   "cell_type": "markdown",
   "metadata": {},
   "source": [
    "<img src=\"./img/CP_2.svg\" alt=\"Drawing\" style=\"width: 2000px;\"/>"
   ]
  },
  {
   "cell_type": "markdown",
   "metadata": {},
   "source": [
    "<img src=\"./img/CP_3.svg\" alt=\"Drawing\" style=\"width: 2000px;\"/>"
   ]
  },
  {
   "cell_type": "markdown",
   "metadata": {},
   "source": [
    "<img src=\"./img/CP_4.svg\" alt=\"Drawing\" style=\"width: 2000px;\"/>"
   ]
  },
  {
   "cell_type": "markdown",
   "metadata": {},
   "source": [
    "<img src=\"./img/CP_5.svg\" alt=\"Drawing\" style=\"width: 2000px;\"/>"
   ]
  },
  {
   "cell_type": "markdown",
   "metadata": {},
   "source": [
    "<img src=\"./img/CP_6.svg\" alt=\"Drawing\" style=\"width: 2000px;\"/>"
   ]
  },
  {
   "cell_type": "code",
   "execution_count": null,
   "metadata": {},
   "outputs": [],
   "source": [
    "import warnings\n",
    "warnings.filterwarnings(\"ignore\")\n",
    "warnings.filterwarnings(action='ignore',category=DeprecationWarning)\n",
    "warnings.filterwarnings(action='ignore',category=FutureWarning)\n",
    "\n",
    "# -----------------------------------------------------------------------------\n",
    "# ÉTAPE 1 : importer les librairies utiles\n",
    "# -----------------------------------------------------------------------------\n",
    "\n",
    "%matplotlib inline\n",
    "\n",
    "# Importer les librairies utiles pour l'analyse\n",
    "import pandas as pd\n",
    "import numpy as np\n",
    "import matplotlib.pyplot as plt\n",
    "\n",
    "# Importer les fonctions de prétraitement\n",
    "from sklearn.preprocessing import StandardScaler\n",
    "\n",
    "# Importer une fonction de réduction de dimension\n",
    "from sklearn.decomposition import PCA\n",
    "\n",
    "# Importons un ensemble de données\n",
    "data = pd.read_csv('../data/sim_data_signature_small.csv')\n",
    "data = data.dropna()\n",
    "\n",
    "\n",
    "features_cols = ['UPPSPNU', 'UPPSPPU', 'UPPSPPR', 'UPPSPPE', 'UPPSPSS', 'PHQ9TT', 'CEVQOTT', 'CEVQOTP', 'CEVQOTS', \\\n",
    "                'DAST10TT', 'AUDITTT', 'STAIYTT', 'BGHTTA', 'BGHTTB', 'BGHTTC', 'BGHTTD', 'AGE', 'SES']\n",
    "X = data.loc[:, features_cols]\n",
    "scaler = StandardScaler()\n",
    "X = scaler.fit_transform(X)\n",
    "\n",
    "n_components = 18\n",
    "pca = PCA(n_components=n_components)\n",
    "principalComponents = pca.fit_transform(X)\n",
    "principalDataframe = pd.DataFrame(data = principalComponents, columns = \\\n",
    "                                  ['PC1', 'PC2', 'PC3', 'PC4', 'PC5', 'PC6', 'PC7', 'PC8', 'PC9', \\\n",
    "                                   'PC10', 'PC11', 'PC12', 'PC13', 'PC14', 'PC15', 'PC16', 'PC17', 'PC18'])\n",
    "\n",
    "\n",
    "#print('\\nComposantes de la PCA : \\n\\n', pca.components_)\n",
    "print('\\nVariance expliquée par les composantes : \\n\\n', pca.explained_variance_)\n",
    "\n",
    "percent_variance = np.round(pca.explained_variance_ratio_* 100, decimals =2)\n",
    "pc_columns = ['PC1', 'PC2', 'PC3', 'PC4', 'PC5', 'PC6', 'PC7', 'PC8', 'PC9', 'PC10', \\\n",
    "              'PC11', 'PC12', 'PC13', 'PC14', 'PC15', 'PC16', 'PC17', 'PC18']\n",
    "plt.bar(x= range(1,n_components+1), height=percent_variance, tick_label=pc_columns)\n",
    "plt.ylabel('Percentate of Variance Explained')\n",
    "plt.xlabel('Principal Component')\n",
    "plt.title('PCA Scree Plot')\n",
    "plt.show()"
   ]
  },
  {
   "cell_type": "code",
   "execution_count": null,
   "metadata": {
    "scrolled": true
   },
   "outputs": [],
   "source": [
    "import warnings\n",
    "warnings.filterwarnings(\"ignore\")\n",
    "warnings.filterwarnings(action='ignore',category=DeprecationWarning)\n",
    "warnings.filterwarnings(action='ignore',category=FutureWarning)\n",
    "\n",
    "# -----------------------------------------------------------------------------\n",
    "# ÉTAPE 1 : importer les librairies utiles\n",
    "# -----------------------------------------------------------------------------\n",
    "\n",
    "# Importer les librairies utiles pour l'analyse\n",
    "import pandas as pd\n",
    "import numpy as np\n",
    "\n",
    "# -----------------------------------------------------------------------------\n",
    "# ÉTAPE 2 : importer les fonctions utiles\n",
    "# -----------------------------------------------------------------------------\n",
    "\n",
    "# Importer les fonctions de prétraitement\n",
    "from sklearn.preprocessing import StandardScaler\n",
    "\n",
    "# Importer une fonction de sélection de données\n",
    "from sklearn.feature_selection import VarianceThreshold\n",
    "\n",
    "# Importer une fonction de réduction de dimension\n",
    "from sklearn.decomposition import PCA\n",
    "\n",
    "# Importer une fonction qui nous permette de construire aléatoirement les ensembles \"Entraînement\" et \"Test\"\n",
    "from sklearn.model_selection import train_test_split\n",
    "\n",
    "# Importer le modèle de régression logistique de sklearn\n",
    "from sklearn import tree\n",
    "from sklearn.tree import DecisionTreeClassifier\n",
    "\n",
    "# Importer la fonction de validation croisée\n",
    "from sklearn.model_selection import StratifiedKFold, GridSearchCV\n",
    "\n",
    "# Importer la fonction permettant d'afficher le rapport de classification\n",
    "from sklearn.metrics import roc_auc_score\n",
    "\n",
    "np.random.seed(42)\n",
    "\n",
    "# -----------------------------------------------------------------------------\n",
    "# ÉTAPE 3 : importer et préparer le jeu de données \n",
    "# -----------------------------------------------------------------------------\n",
    "\n",
    "# Importons un ensemble de données\n",
    "data = pd.read_csv('../data/sim_data_signature_small.csv')\n",
    "data = data.dropna()\n",
    "\n",
    "# Noms des colonnes correspondant aux caractéristiques et à la cible\n",
    "features_cols = ['UPPSPNU', 'UPPSPPU', 'UPPSPPR', 'UPPSPPE', 'UPPSPSS', 'PHQ9TT', 'CEVQOTT', 'CEVQOTP', 'CEVQOTS', \\\n",
    "                'DAST10TT', 'AUDITTT', 'STAIYTT', 'BGHTTA', 'BGHTTB', 'BGHTTC', 'BGHTTD', 'AGE']\n",
    "target_col = 'WHODASTTB'\n",
    "\n",
    "# Données importées (X: caractéristiques, y: cible)\n",
    "X = data.loc[:, features_cols]\n",
    "y = data['WHODASTTB']\n",
    "\n",
    "# Séparation en données d'entraînement et en données de test\n",
    "X_train, X_test, y_train, y_test = train_test_split(X, y, test_size = 0.2)\n",
    "\n",
    "# Standatdisation des entrées\n",
    "scaler = StandardScaler()\n",
    "X_train = scaler.fit_transform(X_train)\n",
    "X_test = scaler.fit_transform(X_test)\n",
    "\n",
    "# On effectue la PCA\n",
    "n_components = 17\n",
    "pca = PCA(n_components=n_components)\n",
    "pca.fit(X_train)\n",
    "X_train_PCA = pca.transform(X_train)\n",
    "X_test_PCA = pca.transform(X_test)\n",
    "\n",
    "# -----------------------------------------------------------------------------\n",
    "# ÉTAPE 4 : définir et entraîner le modèle\n",
    "# -----------------------------------------------------------------------------\n",
    "\n",
    "# Définir le modèle\n",
    "model = DecisionTreeClassifier()\n",
    "\n",
    "# Définir les hyperparamètres\n",
    "hyperparams = {'max_depth':[1, 2, 4, 8, 12, 16], 'min_samples_split':[2, 4, 6, 8, 10, 12, 14, 16]}\n",
    "\n",
    "# Définir les plus de la validation croisée\n",
    "cv_folds = StratifiedKFold(n_splits=5, random_state=42)\n",
    "\n",
    "# Définir le type de score utilisé pour sélectionner les hyperparamètres dans la validation croisée\n",
    "scoring='roc_auc'\n",
    "\n",
    "X_train_final = X_train_PCA\n",
    "X_test_final = X_test_PCA\n",
    "#X_train_final = X_train\n",
    "#X_test_final = X_test\n",
    "\n",
    "# Réaliser la validation croisée avec grille de recherche pour les hyperparamètres.\n",
    "cv_valid = GridSearchCV(estimator=model, param_grid=hyperparams, cv=cv_folds, scoring=scoring, iid=False)\n",
    "cv_valid.fit(X_train_final, y_train)\n",
    "best_params = cv_valid.best_params_\n",
    "best_score = cv_valid.best_score_\n",
    "model = cv_valid.best_estimator_\n",
    "print('\\nMeilleurs hyperparamètres: \\n', best_params)\n",
    "print('\\nScore = \\n', best_score)\n",
    "\n",
    "# Entraîner le modèle final avec toutes les données d'entraînement\n",
    "model.fit(X_train_final, y_train)"
   ]
  },
  {
   "cell_type": "code",
   "execution_count": null,
   "metadata": {},
   "outputs": [],
   "source": [
    "# On teste l'algorithme final en prédisant de nouvelles données.\n",
    "y_pred = model.predict(X_test_final)\n",
    "\n",
    "# On évalue les prédictions de l'algorithme final.\n",
    "auc = roc_auc_score(y_test, y_pred)\n",
    "\n",
    "# On affiche le résultat\n",
    "print('\\nTest AUC = ', auc)"
   ]
  },
  {
   "cell_type": "markdown",
   "metadata": {},
   "source": [
    "<img src=\"./img/TS_1.svg\" alt=\"Drawing\" style=\"width: 2000px;\"/>"
   ]
  },
  {
   "cell_type": "markdown",
   "metadata": {},
   "source": [
    "<img src=\"./img/TS_2.svg\" alt=\"Drawing\" style=\"width: 2000px;\"/>"
   ]
  },
  {
   "cell_type": "markdown",
   "metadata": {},
   "source": [
    "<img src=\"./img/TS_3.svg\" alt=\"Drawing\" style=\"width: 2000px;\"/>"
   ]
  },
  {
   "cell_type": "code",
   "execution_count": null,
   "metadata": {},
   "outputs": [],
   "source": [
    "import warnings\n",
    "warnings.filterwarnings(\"ignore\")\n",
    "warnings.filterwarnings(action='ignore',category=DeprecationWarning)\n",
    "warnings.filterwarnings(action='ignore',category=FutureWarning)\n",
    "\n",
    "# -----------------------------------------------------------------------------\n",
    "# ÉTAPE 1 : importer les librairies utiles\n",
    "# -----------------------------------------------------------------------------\n",
    "\n",
    "%matplotlib inline\n",
    "\n",
    "# Importer les librairies utiles pour l'analyse\n",
    "import pandas as pd\n",
    "import numpy as np\n",
    "import matplotlib.pyplot as plt\n",
    "import seaborn as sns\n",
    "\n",
    "# Importer les fonctions de prétraitement\n",
    "from sklearn.preprocessing import StandardScaler\n",
    "\n",
    "# Importer une fonction de réduction de dimension\n",
    "from sklearn.decomposition import PCA\n",
    "from sklearn.manifold import TSNE\n",
    "\n",
    "# Importons un ensemble de données\n",
    "data = pd.read_csv('../data/sim_data_signature_small.csv')\n",
    "data = data.dropna()\n",
    "\n",
    "\n",
    "features_cols = ['UPPSPNU', 'UPPSPPU', 'UPPSPPR', 'UPPSPPE', 'UPPSPSS', 'PHQ9TT', 'CEVQOTT', 'CEVQOTP', 'CEVQOTS', \\\n",
    "                'DAST10TT', 'AUDITTT', 'STAIYTT', 'BGHTTA', 'BGHTTB', 'BGHTTC', 'BGHTTD', 'AGE', 'SES']\n",
    "\n",
    "X = data.loc[:, features_cols]\n",
    "scaler = StandardScaler()\n",
    "X = scaler.fit_transform(X)\n",
    "\n",
    "X_embedded = TSNE(n_components=2).fit_transform(X)\n",
    "\n",
    "print(X_embedded.shape)\n",
    "\n",
    "sns.set(rc={'figure.figsize':(11.7,8.27)})\n",
    "palette = sns.color_palette(\"bright\", 10)\n",
    "sns.scatterplot(X_embedded[:,0], X_embedded[:,1])"
   ]
  },
  {
   "cell_type": "markdown",
   "metadata": {},
   "source": [
    "<img src=\"./img/R_0.svg\" alt=\"Drawing\" style=\"width: 2000px;\"/>"
   ]
  },
  {
   "cell_type": "markdown",
   "metadata": {},
   "source": [
    "<img src=\"./img/KM_1.svg\" alt=\"Drawing\" style=\"width: 2000px;\"/>"
   ]
  },
  {
   "cell_type": "markdown",
   "metadata": {},
   "source": [
    "<img src=\"./img/KM_2.svg\" alt=\"Drawing\" style=\"width: 2000px;\"/>"
   ]
  },
  {
   "cell_type": "markdown",
   "metadata": {},
   "source": [
    "<img src=\"./img/DM_1.svg\" alt=\"Drawing\" style=\"width: 2000px;\"/>"
   ]
  },
  {
   "cell_type": "markdown",
   "metadata": {},
   "source": [
    "<img src=\"./img/DM_2.svg\" alt=\"Drawing\" style=\"width: 2000px;\"/>"
   ]
  },
  {
   "cell_type": "markdown",
   "metadata": {},
   "source": [
    "<img src=\"./img/DB_1.svg\" alt=\"Drawing\" style=\"width: 2000px;\"/>"
   ]
  },
  {
   "cell_type": "markdown",
   "metadata": {},
   "source": [
    "<img src=\"./img/DB_2.svg\" alt=\"Drawing\" style=\"width: 2000px;\"/>"
   ]
  },
  {
   "cell_type": "markdown",
   "metadata": {},
   "source": [
    "<img src=\"./img/DB_3.svg\" alt=\"Drawing\" style=\"width: 2000px;\"/>"
   ]
  },
  {
   "cell_type": "markdown",
   "metadata": {},
   "source": [
    "<img src=\"./img/DB_4.svg\" alt=\"Drawing\" style=\"width: 2000px;\"/>"
   ]
  },
  {
   "cell_type": "markdown",
   "metadata": {},
   "source": [
    "<img src=\"./img/MG_1.svg\" alt=\"Drawing\" style=\"width: 2000px;\"/>"
   ]
  },
  {
   "cell_type": "markdown",
   "metadata": {},
   "source": [
    "<img src=\"./img/MG_2.svg\" alt=\"Drawing\" style=\"width: 2000px;\"/>"
   ]
  },
  {
   "cell_type": "markdown",
   "metadata": {},
   "source": [
    "<img src=\"./img/MG_3.svg\" alt=\"Drawing\" style=\"width: 2000px;\"/>"
   ]
  },
  {
   "cell_type": "markdown",
   "metadata": {},
   "source": [
    "<img src=\"./img/MG_4.svg\" alt=\"Drawing\" style=\"width: 2000px;\"/>"
   ]
  },
  {
   "cell_type": "markdown",
   "metadata": {},
   "source": [
    "<img src=\"./img/RH_1.svg\" alt=\"Drawing\" style=\"width: 2000px;\"/>"
   ]
  },
  {
   "cell_type": "markdown",
   "metadata": {},
   "source": [
    "<img src=\"./img/RH_2.svg\" alt=\"Drawing\" style=\"width: 2000px;\"/>"
   ]
  },
  {
   "cell_type": "markdown",
   "metadata": {},
   "source": [
    "<img src=\"./img/RH_3.svg\" alt=\"Drawing\" style=\"width: 2000px;\"/>"
   ]
  },
  {
   "cell_type": "markdown",
   "metadata": {},
   "source": [
    "<img src=\"./img/V_1.svg\" alt=\"Drawing\" style=\"width: 2000px;\"/>"
   ]
  },
  {
   "cell_type": "markdown",
   "metadata": {},
   "source": [
    "<img src=\"./img/V_2.svg\" alt=\"Drawing\" style=\"width: 2000px;\"/>"
   ]
  },
  {
   "cell_type": "markdown",
   "metadata": {},
   "source": [
    "<img src=\"./img/V_3.svg\" alt=\"Drawing\" style=\"width: 2000px;\"/>"
   ]
  },
  {
   "cell_type": "markdown",
   "metadata": {},
   "source": [
    "<img src=\"./img/V_4.svg\" alt=\"Drawing\" style=\"width: 2000px;\"/>"
   ]
  },
  {
   "cell_type": "markdown",
   "metadata": {},
   "source": [
    "<img src=\"./img/V_5.svg\" alt=\"Drawing\" style=\"width: 2000px;\"/>"
   ]
  },
  {
   "cell_type": "markdown",
   "metadata": {},
   "source": [
    "# 2.7. ENSEMBLE JOUET (SKLEARN)"
   ]
  },
  {
   "cell_type": "markdown",
   "metadata": {},
   "source": [
    "<img src=\"./img/Jouet.png\" alt=\"Drawing\" style=\"width: 2000px;\"/>"
   ]
  },
  {
   "cell_type": "markdown",
   "metadata": {},
   "source": [
    "# 2.8. BANQUE DE DONNÉES SIGNATURE (SIMULÉE)\n",
    "\n",
    "# ***2.8.1. KMEANS***"
   ]
  },
  {
   "cell_type": "code",
   "execution_count": 1,
   "metadata": {},
   "outputs": [
    {
     "name": "stdout",
     "output_type": "stream",
     "text": [
      "\n",
      "Silhouette :  0.1572357826862681\n",
      "\n",
      "ARI :  0.1263278515903249\n",
      "\n",
      "Matrice de contingence : \n",
      " [[48 24 93]\n",
      " [78 24 21]]\n"
     ]
    },
    {
     "data": {
      "text/plain": [
       "\"\\n# Graphiqe\\ntrue_markers = ['o','x']\\npred_colors = ['b','r']\\n\\nfig= plt.figure(figsize=(12,10))\\nax = fig.add_subplot(111)\\nfor i in range(X.shape[0]):\\n    ax.scatter(X_final[i,0],X_final[i,1], marker=true_markers[labels_true[i]-2], c=pred_colors[labels_pred[i]], s=100)\\n\\nlegend_elements = [Patch(facecolor='b', edgecolor='b', label='Pred 0'),\\n                   Patch(facecolor='r', edgecolor='r', label='Pred 1'),\\n                   Line2D([0], [0], marker='o', color='k', label='True 2', markerfacecolor='k', markersize=10),\\n                   Line2D([0], [0], marker='x', color='k', label='True 3', markerfacecolor='k', markersize=10)]\\nax.legend(handles=legend_elements)\\n\""
      ]
     },
     "execution_count": 1,
     "metadata": {},
     "output_type": "execute_result"
    },
    {
     "data": {
      "image/png": "[encoded data removed]",
      "text/plain": [
       "<Figure size 864x648 with 1 Axes>"
      ]
     },
     "metadata": {},
     "output_type": "display_data"
    }
   ],
   "source": [
    "import warnings\n",
    "warnings.filterwarnings(\"ignore\")\n",
    "warnings.filterwarnings(action='ignore',category=DeprecationWarning)\n",
    "warnings.filterwarnings(action='ignore',category=FutureWarning)\n",
    "\n",
    "# -----------------------------------------------------------------------------\n",
    "# ÉTAPE 1 : importer les librairies utiles\n",
    "# -----------------------------------------------------------------------------\n",
    "\n",
    "%matplotlib inline\n",
    "\n",
    "# Importer les librairies utiles pour l'analyse\n",
    "import pandas as pd\n",
    "import numpy as np\n",
    "import matplotlib.pyplot as plt\n",
    "import seaborn as sns\n",
    "\n",
    "# -----------------------------------------------------------------------------\n",
    "# ÉTAPE 2 : importer les fonctions utiles\n",
    "# -----------------------------------------------------------------------------\n",
    "\n",
    "# Importer les fonctions de prétraitement\n",
    "from sklearn.preprocessing import StandardScaler\n",
    "\n",
    "# Importer une fonction de réduction de dimension\n",
    "from sklearn.decomposition import PCA\n",
    "from sklearn.manifold import TSNE\n",
    "\n",
    "# Importer une fonction de regroupement\n",
    "from sklearn.cluster import KMeans\n",
    "\n",
    "# Importer des métriques permettant d'évaluer le algorithmes\n",
    "from sklearn import metrics\n",
    "\n",
    "from mpl_toolkits.mplot3d import Axes3D\n",
    "from matplotlib.lines import Line2D\n",
    "from matplotlib.patches import Patch\n",
    "\n",
    "# -----------------------------------------------------------------------------\n",
    "# ÉTAPE 3 : importer et préparer le jeu de données \n",
    "# -----------------------------------------------------------------------------\n",
    "\n",
    "\n",
    "# Importons un ensemble de données\n",
    "data = pd.read_csv('../data/sim_data_signature_small.csv')\n",
    "data = data[data.CIMDX != 1]\n",
    "data = data[data.CIMDX != 4]\n",
    "data = data[data.CIMDX != 5]\n",
    "data = data[data.CIMDX != 6]\n",
    "data = data.dropna()\n",
    "\n",
    "features_cols = ['AGE', 'UPPSPPU', 'SES', 'BGHTTD', 'CEVQOTP', 'PHQ9TT']\n",
    "#features_cols = ['AGE', 'UPPSPPU', 'SES']\n",
    "\n",
    "X = data.loc[:, features_cols]\n",
    "y = data['CIMDX'].astype(int)\n",
    "\n",
    "scaler = StandardScaler()\n",
    "X = scaler.fit_transform(X)\n",
    "\n",
    "# -----------------------------------------------------------------------------\n",
    "# ÉTAPE 4 : définir et entraîner le modèle\n",
    "# -----------------------------------------------------------------------------\n",
    "\n",
    "k = 3\n",
    "\n",
    "X_PCA = PCA(n_components=k).fit_transform(X)\n",
    "X_final = X_PCA\n",
    "model = KMeans(n_clusters=k, random_state=0)\n",
    "model.fit(X_final)\n",
    "\n",
    "labels_pred = model.labels_\n",
    "labels_true = np.array(y.astype(int))\n",
    "\n",
    "if np.max(labels_pred) > 0:\n",
    "    silhouette = metrics.silhouette_score(X, labels_pred)\n",
    "ARI = metrics.adjusted_rand_score(labels_true, labels_pred)\n",
    "\n",
    "print('\\nSilhouette : ', silhouette)\n",
    "print('\\nARI : ', ARI)\n",
    "print('\\nMatrice de contingence : \\n', metrics.cluster.contingency_matrix(labels_true, labels_pred))\n",
    "\n",
    "# tSNE\n",
    "X_embedded = TSNE(n_components=2).fit_transform(X_final)\n",
    "sns.set(rc={'figure.figsize':(12,9)})\n",
    "palette = sns.color_palette(\"dark\", k)\n",
    "sns.scatterplot(X_embedded[:,0], X_embedded[:,1], hue=labels_pred, style=labels_true, legend='full', palette=palette)\n",
    "\n",
    "\"\"\"\n",
    "# Graphiqe\n",
    "true_markers = ['o','x']\n",
    "pred_colors = ['b','r']\n",
    "\n",
    "fig= plt.figure(figsize=(12,10))\n",
    "ax = fig.add_subplot(111)\n",
    "for i in range(X.shape[0]):\n",
    "    ax.scatter(X_final[i,0],X_final[i,1], marker=true_markers[labels_true[i]-2], c=pred_colors[labels_pred[i]], s=100)\n",
    "\n",
    "legend_elements = [Patch(facecolor='b', edgecolor='b', label='Pred 0'),\n",
    "                   Patch(facecolor='r', edgecolor='r', label='Pred 1'),\n",
    "                   Line2D([0], [0], marker='o', color='k', label='True 2', markerfacecolor='k', markersize=10),\n",
    "                   Line2D([0], [0], marker='x', color='k', label='True 3', markerfacecolor='k', markersize=10)]\n",
    "ax.legend(handles=legend_elements)\n",
    "\"\"\""
   ]
  },
  {
   "cell_type": "markdown",
   "metadata": {},
   "source": [
    "# 2.8. BANQUE DE DONNÉES SIGNATURE (SIMULÉE)\n",
    "\n",
    "# ***2.8.2. MEAN SHIFT***"
   ]
  },
  {
   "cell_type": "code",
   "execution_count": null,
   "metadata": {},
   "outputs": [],
   "source": [
    "import warnings\n",
    "warnings.filterwarnings(\"ignore\")\n",
    "warnings.filterwarnings(action='ignore',category=DeprecationWarning)\n",
    "warnings.filterwarnings(action='ignore',category=FutureWarning)\n",
    "\n",
    "# -----------------------------------------------------------------------------\n",
    "# ÉTAPE 1 : importer les librairies utiles\n",
    "# -----------------------------------------------------------------------------\n",
    "\n",
    "%matplotlib inline\n",
    "\n",
    "# Importer les librairies utiles pour l'analyse\n",
    "import pandas as pd\n",
    "import numpy as np\n",
    "import matplotlib.pyplot as plt\n",
    "import seaborn as sns\n",
    "\n",
    "# -----------------------------------------------------------------------------\n",
    "# ÉTAPE 2 : importer les fonctions utiles\n",
    "# -----------------------------------------------------------------------------\n",
    "\n",
    "# Importer les fonctions de prétraitement\n",
    "from sklearn.preprocessing import StandardScaler\n",
    "\n",
    "# Importer une fonction de réduction de dimension\n",
    "from sklearn.decomposition import PCA\n",
    "from sklearn.manifold import TSNE\n",
    "\n",
    "# Importer une fonction de regroupement\n",
    "from sklearn.cluster import MeanShift, estimate_bandwidth\n",
    "\n",
    "from mpl_toolkits.mplot3d import Axes3D\n",
    "from matplotlib.lines import Line2D\n",
    "from matplotlib.patches import Patch\n",
    "\n",
    "# -----------------------------------------------------------------------------\n",
    "# ÉTAPE 3 : importer et préparer le jeu de données \n",
    "# -----------------------------------------------------------------------------\n",
    "\n",
    "# Importons un ensemble de données\n",
    "data = pd.read_csv('../data/sim_data_signature_small.csv')\n",
    "data = data[data.CIMDX != 1]\n",
    "data = data[data.CIMDX != 5]\n",
    "data = data[data.CIMDX != 6]\n",
    "data = data.dropna()\n",
    "\n",
    "features_cols = ['AGE', 'BGHTTA', 'PSQ_SS']\n",
    "\n",
    "X = data.loc[:, features_cols]\n",
    "y = data['CIMDX']\n",
    "\n",
    "scaler = StandardScaler()\n",
    "X = scaler.fit_transform(X)\n",
    "\n",
    "# -----------------------------------------------------------------------------\n",
    "# ÉTAPE 4 : définir et entraîner le modèle\n",
    "# -----------------------------------------------------------------------------\n",
    "\n",
    "# Importons un ensemble de données\n",
    "data = pd.read_csv('../data/sim_data_signature_small.csv')\n",
    "data = data[data.CIMDX != 1]\n",
    "data = data[data.CIMDX != 4]\n",
    "data = data[data.CIMDX != 5]\n",
    "data = data[data.CIMDX != 6]\n",
    "data = data.dropna()\n",
    "\n",
    "features_cols = ['AGE', 'UPPSPPU', 'SES', 'BGHTTD', 'CEVQOTP', 'PHQ9TT']\n",
    "#features_cols = ['AGE', 'UPPSPPU', 'SES']\n",
    "\n",
    "X = data.loc[:, features_cols]\n",
    "y = data['CIMDX'].astype(int)\n",
    "\n",
    "scaler = StandardScaler()\n",
    "X = scaler.fit_transform(X)\n",
    "\n",
    "# -----------------------------------------------------------------------------\n",
    "# ÉTAPE 4 : définir et entraîner le modèle\n",
    "# -----------------------------------------------------------------------------\n",
    "\n",
    "X_PCA = PCA(n_components=2).fit_transform(X)\n",
    "\n",
    "X_final = X_PCA\n",
    "#X_final = X\n",
    "\n",
    "bandwidth = estimate_bandwidth(X_final, quantile=0.3)\n",
    "\n",
    "model = MeanShift(bandwidth=bandwidth, cluster_all=True)\n",
    "model.fit(X_final)\n",
    "\n",
    "labels_pred = (model.labels_).astype(int)\n",
    "labels_true = np.array(y.astype(int))\n",
    "\n",
    "if np.max(labels_pred) > 0:\n",
    "    silhouette = metrics.silhouette_score(X, labels_pred)\n",
    "ARI = metrics.adjusted_rand_score(labels_true, labels_pred)\n",
    "\n",
    "print('\\nSilhouette : ', silhouette)\n",
    "print('\\nARI : ', ARI)\n",
    "print('\\nMatrice de contingence : \\n', metrics.cluster.contingency_matrix(labels_true, labels_pred))\n",
    "\n",
    "# tSNE\n",
    "X_embedded = TSNE(n_components=2).fit_transform(X_final)\n",
    "sns.set(rc={'figure.figsize':(12,9)})\n",
    "palette = sns.color_palette(\"dark\", np.size(np.unique(labels_pred)))\n",
    "sns.scatterplot(X_embedded[:,0], X_embedded[:,1], hue=labels_pred, style=labels_true, legend='full', palette=palette)\n",
    "\n",
    "\"\"\"\n",
    "# Graphiqe\n",
    "true_markers = ['o','x']\n",
    "pred_colors = ['b','r']\n",
    "\n",
    "fig= plt.figure(figsize=(12,10))\n",
    "ax = fig.add_subplot(111)\n",
    "for i in range(X.shape[0]):\n",
    "    ax.scatter(X_final[i,0],X_final[i,1], marker=true_markers[labels_true[i]-2], c=pred_colors[labels_pred[i]], s=100)\n",
    "\n",
    "legend_elements = [Patch(facecolor='b', edgecolor='b', label='Pred 0'),\n",
    "                   Patch(facecolor='r', edgecolor='r', label='Pred 1'),\n",
    "                   Line2D([0], [0], marker='o', color='k', label='True 2', markerfacecolor='k', markersize=10),\n",
    "                   Line2D([0], [0], marker='x', color='k', label='True 3', markerfacecolor='k', markersize=10)]\n",
    "ax.legend(handles=legend_elements)\n",
    "\"\"\""
   ]
  },
  {
   "cell_type": "markdown",
   "metadata": {},
   "source": [
    "# 2.8. BANQUE DE DONNÉES SIGNATURE (SIMULÉE)\n",
    "\n",
    "# ***2.8.3. DBSCAN***"
   ]
  },
  {
   "cell_type": "code",
   "execution_count": null,
   "metadata": {
    "scrolled": true
   },
   "outputs": [],
   "source": [
    "import warnings\n",
    "warnings.filterwarnings(\"ignore\")\n",
    "warnings.filterwarnings(action='ignore',category=DeprecationWarning)\n",
    "warnings.filterwarnings(action='ignore',category=FutureWarning)\n",
    "\n",
    "# -----------------------------------------------------------------------------\n",
    "# ÉTAPE 1 : importer les librairies utiles\n",
    "# -----------------------------------------------------------------------------\n",
    "\n",
    "%matplotlib inline\n",
    "\n",
    "# Importer les librairies utiles pour l'analyse\n",
    "import pandas as pd\n",
    "import numpy as np\n",
    "import matplotlib.pyplot as plt\n",
    "import seaborn as sns\n",
    "\n",
    "# -----------------------------------------------------------------------------\n",
    "# ÉTAPE 2 : importer les fonctions utiles\n",
    "# -----------------------------------------------------------------------------\n",
    "\n",
    "# Importer les fonctions de prétraitement\n",
    "from sklearn.preprocessing import StandardScaler\n",
    "\n",
    "# Importer une fonction de réduction de dimension\n",
    "from sklearn.decomposition import PCA\n",
    "from sklearn.manifold import TSNE\n",
    "\n",
    "# Importer une fonction de regroupement\n",
    "from sklearn.mixture import GaussianMixture\n",
    "\n",
    "# -----------------------------------------------------------------------------\n",
    "# ÉTAPE 3 : importer et préparer le jeu de données \n",
    "# -----------------------------------------------------------------------------\n",
    "\n",
    "# Importons un ensemble de données\n",
    "data = pd.read_csv('../data/sim_data_signature_small.csv')\n",
    "data = data[data.CIMDX != 1]\n",
    "data = data[data.CIMDX != 4]\n",
    "data = data[data.CIMDX != 5]\n",
    "data = data[data.CIMDX != 6]\n",
    "data = data.dropna()\n",
    "\n",
    "features_cols = ['AGE', 'UPPSPPU', 'SES', 'BGHTTD', 'CEVQOTP', 'PHQ9TT']\n",
    "#features_cols = ['AGE', 'UPPSPPU', 'SES']\n",
    "\n",
    "X = data.loc[:, features_cols]\n",
    "y = data['CIMDX'].astype(int)\n",
    "\n",
    "scaler = StandardScaler()\n",
    "X = scaler.fit_transform(X)\n",
    "\n",
    "# -----------------------------------------------------------------------------\n",
    "# ÉTAPE 4 : définir et entraîner le modèle\n",
    "# -----------------------------------------------------------------------------\n",
    "\n",
    "k = 3\n",
    "\n",
    "X_PCA = PCA(n_components=2).fit_transform(X)\n",
    "\n",
    "X_final = X_PCA\n",
    "#X_final = X\n",
    "\n",
    "model = GaussianMixture(n_components=k, max_iter=1000, init_params='kmeans')\n",
    "model.fit(X_final)\n",
    "\n",
    "labels_pred = model.predict(X_final)\n",
    "labels_true = np.array(y.astype(int))\n",
    "\n",
    "if np.max(labels_pred) > 0:\n",
    "    silhouette = metrics.silhouette_score(X, labels_pred)\n",
    "ARI = metrics.adjusted_rand_score(labels_true, labels_pred)\n",
    "\n",
    "print('\\nSilhouette : ', silhouette)\n",
    "print('\\nARI : ', ARI)\n",
    "print('\\nMatrice de contingence : \\n', metrics.cluster.contingency_matrix(labels_true, labels_pred))\n",
    "\n",
    "# tSNE\n",
    "X_embedded = TSNE(n_components=2).fit_transform(X_final)\n",
    "sns.set(rc={'figure.figsize':(12,9)})\n",
    "palette = sns.color_palette(\"dark\", np.size(np.unique(labels_pred)))\n",
    "sns.scatterplot(X_embedded[:,0], X_embedded[:,1], hue=labels_pred, style=labels_true, legend='full', palette=palette)\n",
    "\n",
    "\n",
    "\"\"\"\n",
    "# Graphiqe\n",
    "true_markers = ['o','x']\n",
    "pred_colors = ['b','r']\n",
    "\n",
    "fig= plt.figure(figsize=(12,10))\n",
    "ax = fig.add_subplot(111)\n",
    "for i in range(X.shape[0]):\n",
    "    ax.scatter(X_final[i,0],X_final[i,1], marker=true_markers[labels_true[i]-2], c=pred_colors[labels_pred[i]], s=100)\n",
    "\n",
    "legend_elements = [Patch(facecolor='b', edgecolor='b', label='Pred 0'),\n",
    "                   Patch(facecolor='r', edgecolor='r', label='Pred 1'),\n",
    "                   Line2D([0], [0], marker='o', color='k', label='True 2', markerfacecolor='k', markersize=10),\n",
    "                   Line2D([0], [0], marker='x', color='k', label='True 3', markerfacecolor='k', markersize=10)]\n",
    "ax.legend(handles=legend_elements)\n",
    "\"\"\""
   ]
  },
  {
   "cell_type": "markdown",
   "metadata": {},
   "source": [
    "# 2.8. BANQUE DE DONNÉES SIGNATURE (SIMULÉE)\n",
    "\n",
    "# ***2.8.4. GAUSSIAN MIXTURE***"
   ]
  },
  {
   "cell_type": "code",
   "execution_count": null,
   "metadata": {},
   "outputs": [],
   "source": [
    "import warnings\n",
    "warnings.filterwarnings(\"ignore\")\n",
    "warnings.filterwarnings(action='ignore',category=DeprecationWarning)\n",
    "warnings.filterwarnings(action='ignore',category=FutureWarning)\n",
    "\n",
    "# -----------------------------------------------------------------------------\n",
    "# ÉTAPE 1 : importer les librairies utiles\n",
    "# -----------------------------------------------------------------------------\n",
    "\n",
    "%matplotlib inline\n",
    "\n",
    "# Importer les librairies utiles pour l'analyse\n",
    "import pandas as pd\n",
    "import numpy as np\n",
    "import matplotlib.pyplot as plt\n",
    "import seaborn as sns\n",
    "\n",
    "# -----------------------------------------------------------------------------\n",
    "# ÉTAPE 2 : importer les fonctions utiles\n",
    "# -----------------------------------------------------------------------------\n",
    "\n",
    "# Importer les fonctions de prétraitement\n",
    "from sklearn.preprocessing import StandardScaler\n",
    "\n",
    "# Importer une fonction de réduction de dimension\n",
    "from sklearn.decomposition import PCA\n",
    "from sklearn.manifold import TSNE\n",
    "\n",
    "# Importer une fonction de regroupement\n",
    "from sklearn.cluster import DBSCAN\n",
    "\n",
    "from mpl_toolkits.mplot3d import Axes3D\n",
    "from matplotlib.lines import Line2D\n",
    "from matplotlib.patches import Patch\n",
    "\n",
    "from sklearn import metrics\n",
    "\n",
    "# -----------------------------------------------------------------------------\n",
    "# ÉTAPE 3 : importer et préparer le jeu de données \n",
    "# -----------------------------------------------------------------------------\n",
    "\n",
    "# Importons un ensemble de données\n",
    "data = pd.read_csv('../data/sim_data_signature_small.csv')\n",
    "data = data[data.CIMDX != 1]\n",
    "data = data[data.CIMDX != 4]\n",
    "data = data[data.CIMDX != 5]\n",
    "data = data[data.CIMDX != 6]\n",
    "data = data.dropna()\n",
    "\n",
    "features_cols = ['AGE', 'UPPSPPU', 'SES', 'BGHTTD', 'CEVQOTP', 'PHQ9TT']\n",
    "#features_cols = ['AGE', 'UPPSPPU', 'SES']\n",
    "\n",
    "X = data.loc[:, features_cols]\n",
    "y = data['CIMDX'].astype(int)\n",
    "\n",
    "scaler = StandardScaler()\n",
    "X = scaler.fit_transform(X)\n",
    "\n",
    "# -----------------------------------------------------------------------------\n",
    "# ÉTAPE 4 : définir et entraîner le modèle\n",
    "# -----------------------------------------------------------------------------\n",
    "\n",
    "X_PCA = PCA(n_components=2).fit_transform(X)\n",
    "\n",
    "X_final = X_PCA\n",
    "#X_final = X\n",
    "\n",
    "model = DBSCAN(eps=0.5, min_samples=5)\n",
    "model.fit(X_final)\n",
    "\n",
    "labels_pred = model.labels_\n",
    "labels_true = np.array(y.astype(int))\n",
    "\n",
    "if np.max(labels_pred) > 0:\n",
    "    silhouette = metrics.silhouette_score(X_final, labels_pred)\n",
    "ARI = metrics.adjusted_rand_score(labels_true, labels_pred)\n",
    "\n",
    "print('\\nSilhouette : ', silhouette)\n",
    "print('\\nARI : ', ARI)\n",
    "print('\\nMatrice de contingence : \\n', metrics.cluster.contingency_matrix(labels_true, labels_pred))\n",
    "\n",
    "# tSNE\n",
    "X_embedded = TSNE(n_components=2).fit_transform(X_final)\n",
    "sns.set(rc={'figure.figsize':(12,9)})\n",
    "palette = sns.color_palette(\"dark\", np.size(np.unique(labels_pred)))\n",
    "sns.scatterplot(X_embedded[:,0], X_embedded[:,1], hue=labels_pred, style=labels_true, legend='full', palette=palette)\n",
    "\n",
    "\"\"\"\n",
    "# Graphiqe\n",
    "true_markers = ['o','x']\n",
    "pred_colors = ['b','r']\n",
    "\n",
    "fig= plt.figure(figsize=(12,10))\n",
    "ax = fig.add_subplot(111)\n",
    "for i in range(X.shape[0]):\n",
    "    ax.scatter(X_final[i,0],X_final[i,1], marker=true_markers[labels_true[i]-2], c=pred_colors[labels_pred[i]], s=100)\n",
    "\n",
    "legend_elements = [Patch(facecolor='b', edgecolor='b', label='Pred 0'),\n",
    "                   Patch(facecolor='r', edgecolor='r', label='Pred 1'),\n",
    "                   Line2D([0], [0], marker='o', color='k', label='True 2', markerfacecolor='k', markersize=10),\n",
    "                   Line2D([0], [0], marker='x', color='k', label='True 3', markerfacecolor='k', markersize=10)]\n",
    "ax.legend(handles=legend_elements)\n",
    "\"\"\""
   ]
  },
  {
   "cell_type": "markdown",
   "metadata": {},
   "source": [
    "# 2.8. BANQUE DE DONNÉES SIGNATURE (SIMULÉE)\n",
    "\n",
    "# ***2.8.5. AGGLOMERATIVE***"
   ]
  },
  {
   "cell_type": "code",
   "execution_count": null,
   "metadata": {
    "scrolled": false
   },
   "outputs": [],
   "source": [
    "import warnings\n",
    "warnings.filterwarnings(\"ignore\")\n",
    "warnings.filterwarnings(action='ignore',category=DeprecationWarning)\n",
    "warnings.filterwarnings(action='ignore',category=FutureWarning)\n",
    "\n",
    "# -----------------------------------------------------------------------------\n",
    "# ÉTAPE 1 : importer les librairies utiles\n",
    "# -----------------------------------------------------------------------------\n",
    "\n",
    "%matplotlib inline\n",
    "\n",
    "# Importer les librairies utiles pour l'analyse\n",
    "import pandas as pd\n",
    "import numpy as np\n",
    "import matplotlib.pyplot as plt\n",
    "import seaborn as sns\n",
    "\n",
    "# -----------------------------------------------------------------------------\n",
    "# ÉTAPE 2 : importer les fonctions utiles\n",
    "# -----------------------------------------------------------------------------\n",
    "\n",
    "# Importer les fonctions de prétraitement\n",
    "from sklearn.preprocessing import StandardScaler\n",
    "from sklearn.preprocessing import MinMaxScaler\n",
    "\n",
    "# Importer une fonction de réduction de dimension\n",
    "from sklearn.decomposition import PCA\n",
    "from sklearn.manifold import TSNE\n",
    "\n",
    "# Importer une fonction de regroupement\n",
    "from sklearn.cluster import AgglomerativeClustering\n",
    "from sklearn.neighbors import kneighbors_graph\n",
    "\n",
    "# Importer les métriques\n",
    "from sklearn import metrics\n",
    "\n",
    "# -----------------------------------------------------------------------------\n",
    "# ÉTAPE 3 : importer et préparer le jeu de données \n",
    "# -----------------------------------------------------------------------------\n",
    "\n",
    "# Importons un ensemble de données\n",
    "data = pd.read_csv('../data/sim_data_signature_small.csv')\n",
    "data = data[data.CIMDX != 1]\n",
    "data = data[data.CIMDX != 4]\n",
    "data = data[data.CIMDX != 5]\n",
    "data = data[data.CIMDX != 6]\n",
    "data = data.dropna()\n",
    "\n",
    "features_cols = ['AGE', 'UPPSPPU', 'SES', 'BGHTTD', 'CEVQOTP', 'PHQ9TT']\n",
    "#features_cols = ['AGE', 'UPPSPPU', 'SES']\n",
    "\n",
    "X = data.loc[:, features_cols]\n",
    "y = data['CIMDX'].astype(int)\n",
    "\n",
    "scaler = StandardScaler()\n",
    "X = scaler.fit_transform(X)\n",
    "\n",
    "# -----------------------------------------------------------------------------\n",
    "# ÉTAPE 4 : définir et entraîner le modèle\n",
    "# -----------------------------------------------------------------------------\n",
    "\n",
    "k = 2\n",
    "\n",
    "X_PCA = PCA(n_components=2).fit_transform(X)\n",
    "\n",
    "X_final = X_PCA\n",
    "#X_final = X\n",
    "model = AgglomerativeClustering(linkage='complete', affinity='cosine', n_clusters=k)\n",
    "model.fit(X_final)\n",
    "\n",
    "labels_pred = model.labels_\n",
    "labels_true = np.array(y.astype(int))\n",
    "\n",
    "if np.max(labels_pred) > 0:\n",
    "    silhouette = metrics.silhouette_score(X_final, labels_pred)\n",
    "ARI = metrics.adjusted_rand_score(labels_true, labels_pred)\n",
    "\n",
    "print('\\nSilhouette : ', silhouette)\n",
    "print('\\nARI : ', ARI)\n",
    "print('\\nMatrice de contingence : \\n', metrics.cluster.contingency_matrix(labels_true, labels_pred))\n",
    "\n",
    "# tSNE\n",
    "X_embedded = TSNE(n_components=2).fit_transform(X_final)\n",
    "sns.set(rc={'figure.figsize':(12,9)})\n",
    "palette = sns.color_palette(\"dark\", np.size(np.unique(labels_pred)))\n",
    "sns.scatterplot(X_embedded[:,0], X_embedded[:,1], hue=labels_pred, style=labels_true, legend='full', palette=palette)\n",
    "\n",
    "\n",
    "\n",
    "# Graphiqe\n",
    "true_markers = ['o','x']\n",
    "pred_colors = ['b','r']\n",
    "\n",
    "fig= plt.figure(figsize=(12,10))\n",
    "ax = fig.add_subplot(111)\n",
    "for i in range(X.shape[0]):\n",
    "    ax.scatter(X_final[i,0],X_final[i,1], marker=true_markers[labels_true[i]-2], c=pred_colors[labels_pred[i]], s=100)\n",
    "\n",
    "legend_elements = [Patch(facecolor='b', edgecolor='b', label='Pred 0'),\n",
    "                   Patch(facecolor='r', edgecolor='r', label='Pred 1'),\n",
    "                   Line2D([0], [0], marker='o', color='k', label='True 2', markerfacecolor='k', markersize=10),\n",
    "                   Line2D([0], [0], marker='x', color='k', label='True 3', markerfacecolor='k', markersize=10)]\n",
    "ax.legend(handles=legend_elements)\n"
   ]
  },
  {
   "cell_type": "markdown",
   "metadata": {},
   "source": [
    "<img src=\"./img/ME_1.svg\" alt=\"Drawing\" style=\"width: 2000px;\"/>"
   ]
  }
 ],
 "metadata": {
  "celltoolbar": "Slideshow",
  "kernelspec": {
   "display_name": "Python 3",
   "language": "python",
   "name": "python3"
  },
  "language_info": {
   "codemirror_mode": {
    "name": "ipython",
    "version": 3
   },
   "file_extension": ".py",
   "mimetype": "text/x-python",
   "name": "python",
   "nbconvert_exporter": "python",
   "pygments_lexer": "ipython3",
   "version": "3.7.4"
  }
 },
 "nbformat": 4,
 "nbformat_minor": 2
}
