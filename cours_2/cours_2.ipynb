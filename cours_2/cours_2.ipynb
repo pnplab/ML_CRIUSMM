{
 "cells": [
  {
   "cell_type": "markdown",
   "metadata": {
    "slideshow": {
     "slide_type": "slide"
    }
   },
   "source": [
    "Plan du cours"
   ]
  },
  {
   "cell_type": "markdown",
   "metadata": {
    "slideshow": {
     "slide_type": "slide"
    }
   },
   "source": [
    " <img src=\"./img/AS_vs_ANS.svg\" alt=\"Drawing\" style=\"width: 2000px;\"/>"
   ]
  },
  {
   "cell_type": "markdown",
   "metadata": {
    "slideshow": {
     "slide_type": "subslide"
    }
   },
   "source": [
    " <img src=\"./img/AS_vs_ANS_txt_1.svg\" alt=\"Drawing\" style=\"width: 2000px;\"/>"
   ]
  },
  {
   "cell_type": "markdown",
   "metadata": {
    "slideshow": {
     "slide_type": "subslide"
    }
   },
   "source": [
    " <img src=\"./img/AS_vs_ANS_txt_2.svg\" alt=\"Drawing\" style=\"width: 2000px;\"/>"
   ]
  },
  {
   "cell_type": "markdown",
   "metadata": {
    "slideshow": {
     "slide_type": "subslide"
    }
   },
   "source": [
    " <img src=\"./img/AS_vs_ANS_txt_3.svg\" alt=\"Drawing\" style=\"width: 2000px;\"/>"
   ]
  },
  {
   "cell_type": "markdown",
   "metadata": {
    "slideshow": {
     "slide_type": "subslide"
    }
   },
   "source": [
    " <img src=\"./img/AS_vs_ANS_txt_4.svg\" alt=\"Drawing\" style=\"width: 2000px;\"/>"
   ]
  },
  {
   "cell_type": "markdown",
   "metadata": {
    "slideshow": {
     "slide_type": "slide"
    }
   },
   "source": [
    " <img src=\"./img/AS_1.svg\" alt=\"Drawing\" style=\"width: 2000px;\"/>"
   ]
  },
  {
   "cell_type": "markdown",
   "metadata": {
    "slideshow": {
     "slide_type": "subslide"
    }
   },
   "source": [
    " <img src=\"./img/AS_1_txt_1.svg\" alt=\"Drawing\" style=\"width: 2000px;\"/>"
   ]
  },
  {
   "cell_type": "markdown",
   "metadata": {
    "slideshow": {
     "slide_type": "slide"
    }
   },
   "source": [
    " <img src=\"./img/AS_2.svg\" alt=\"Drawing\" style=\"width: 2000px;\"/>"
   ]
  },
  {
   "cell_type": "markdown",
   "metadata": {
    "slideshow": {
     "slide_type": "subslide"
    }
   },
   "source": [
    " <img src=\"./img/AS_2_txt_1.svg\" alt=\"Drawing\" style=\"width: 2000px;\"/>"
   ]
  },
  {
   "cell_type": "markdown",
   "metadata": {
    "slideshow": {
     "slide_type": "subslide"
    }
   },
   "source": [
    " <img src=\"./img/AS_2_txt_2.svg\" alt=\"Drawing\" style=\"width: 2000px;\"/>"
   ]
  },
  {
   "cell_type": "markdown",
   "metadata": {
    "slideshow": {
     "slide_type": "slide"
    }
   },
   "source": [
    " <img src=\"./img/AS_3.svg\" alt=\"Drawing\" style=\"width: 2000px;\"/>"
   ]
  },
  {
   "cell_type": "markdown",
   "metadata": {
    "slideshow": {
     "slide_type": "subslide"
    }
   },
   "source": [
    " <img src=\"./img/AS_3_txt_1.svg\" alt=\"Drawing\" style=\"width: 2000px;\"/>"
   ]
  },
  {
   "cell_type": "markdown",
   "metadata": {
    "slideshow": {
     "slide_type": "subslide"
    }
   },
   "source": [
    " <img src=\"./img/AS_3_txt_2.svg\" alt=\"Drawing\" style=\"width: 2000px;\"/>"
   ]
  },
  {
   "cell_type": "markdown",
   "metadata": {
    "slideshow": {
     "slide_type": "slide"
    }
   },
   "source": [
    " <img src=\"./img/AS_4.svg\" alt=\"Drawing\" style=\"width: 2000px;\"/>"
   ]
  },
  {
   "cell_type": "markdown",
   "metadata": {
    "slideshow": {
     "slide_type": "subslide"
    }
   },
   "source": [
    " <img src=\"./img/AS_4_txt_1.svg\" alt=\"Drawing\" style=\"width: 2000px;\"/>"
   ]
  },
  {
   "cell_type": "markdown",
   "metadata": {
    "slideshow": {
     "slide_type": "subslide"
    }
   },
   "source": [
    " <img src=\"./img/AS_4_txt_2.svg\" alt=\"Drawing\" style=\"width: 2000px;\"/>"
   ]
  },
  {
   "cell_type": "markdown",
   "metadata": {
    "slideshow": {
     "slide_type": "slide"
    }
   },
   "source": [
    " <img src=\"./img/cours_2_titre.svg\" alt=\"Drawing\" style=\"width: 2000px;\"/>"
   ]
  },
  {
   "cell_type": "markdown",
   "metadata": {
    "slideshow": {
     "slide_type": "slide"
    }
   },
   "source": [
    " <img src=\"./img/R_titre.svg\" alt=\"Drawing\" style=\"width: 2000px;\"/>"
   ]
  },
  {
   "cell_type": "markdown",
   "metadata": {
    "slideshow": {
     "slide_type": "subslide"
    }
   },
   "source": [
    " <img src=\"./img/R_1.svg\" alt=\"Drawing\" style=\"width: 2000px;\"/>"
   ]
  },
  {
   "cell_type": "markdown",
   "metadata": {},
   "source": [
    " <img src=\"./img/R_2.svg\" alt=\"Drawing\" style=\"width: 2000px;\"/>"
   ]
  },
  {
   "cell_type": "markdown",
   "metadata": {
    "slideshow": {
     "slide_type": "subslide"
    }
   },
   "source": [
    " <img src=\"./img/R_3.svg\" alt=\"Drawing\" style=\"width: 2000px;\"/>"
   ]
  },
  {
   "cell_type": "markdown",
   "metadata": {
    "slideshow": {
     "slide_type": "subslide"
    }
   },
   "source": [
    " <img src=\"./img/R_4.svg\" alt=\"Drawing\" style=\"width: 2000px;\"/>"
   ]
  },
  {
   "cell_type": "markdown",
   "metadata": {
    "slideshow": {
     "slide_type": "subslide"
    }
   },
   "source": [
    " <img src=\"./img/R_5.svg\" alt=\"Drawing\" style=\"width: 2000px;\"/>"
   ]
  },
  {
   "cell_type": "markdown",
   "metadata": {
    "slideshow": {
     "slide_type": "subslide"
    }
   },
   "source": [
    " <img src=\"./img/R_6.svg\" alt=\"Drawing\" style=\"width: 2000px;\"/>"
   ]
  },
  {
   "cell_type": "markdown",
   "metadata": {
    "slideshow": {
     "slide_type": "subslide"
    }
   },
   "source": [
    " <img src=\"./img/R_7.svg\" alt=\"Drawing\" style=\"width: 2000px;\"/>"
   ]
  },
  {
   "cell_type": "markdown",
   "metadata": {
    "slideshow": {
     "slide_type": "subslide"
    }
   },
   "source": [
    " <img src=\"./img/R_8.svg\" alt=\"Drawing\" style=\"width: 2000px;\"/>"
   ]
  },
  {
   "cell_type": "markdown",
   "metadata": {
    "slideshow": {
     "slide_type": "subslide"
    }
   },
   "source": [
    " <img src=\"./img/R_9.svg\" alt=\"Drawing\" style=\"width: 2000px;\"/>"
   ]
  },
  {
   "cell_type": "markdown",
   "metadata": {
    "slideshow": {
     "slide_type": "subslide"
    }
   },
   "source": [
    " <img src=\"./img/R_10.svg\" alt=\"Drawing\" style=\"width: 2000px;\"/>"
   ]
  },
  {
   "cell_type": "markdown",
   "metadata": {
    "slideshow": {
     "slide_type": "subslide"
    }
   },
   "source": [
    " <img src=\"./img/R_11.svg\" alt=\"Drawing\" style=\"width: 2000px;\"/>"
   ]
  },
  {
   "cell_type": "markdown",
   "metadata": {
    "slideshow": {
     "slide_type": "subslide"
    }
   },
   "source": [
    " <img src=\"./img/R_12.svg\" alt=\"Drawing\" style=\"width: 2000px;\"/>"
   ]
  },
  {
   "cell_type": "markdown",
   "metadata": {
    "slideshow": {
     "slide_type": "subslide"
    }
   },
   "source": [
    " <img src=\"./img/R_13.svg\" alt=\"Drawing\" style=\"width: 2000px;\"/>"
   ]
  },
  {
   "cell_type": "markdown",
   "metadata": {
    "slideshow": {
     "slide_type": "subslide"
    }
   },
   "source": [
    " <img src=\"./img/R_14.svg\" alt=\"Drawing\" style=\"width: 2000px;\"/>"
   ]
  },
  {
   "cell_type": "markdown",
   "metadata": {
    "slideshow": {
     "slide_type": "subslide"
    }
   },
   "source": [
    " <img src=\"./img/R_15.svg\" alt=\"Drawing\" style=\"width: 2000px;\"/>"
   ]
  },
  {
   "cell_type": "markdown",
   "metadata": {
    "slideshow": {
     "slide_type": "subslide"
    }
   },
   "source": [
    " <img src=\"./img/R_16.svg\" alt=\"Drawing\" style=\"width: 2000px;\"/>"
   ]
  },
  {
   "cell_type": "markdown",
   "metadata": {
    "slideshow": {
     "slide_type": "subslide"
    }
   },
   "source": [
    " <img src=\"./img/R_17.svg\" alt=\"Drawing\" style=\"width: 2000px;\"/>"
   ]
  },
  {
   "cell_type": "markdown",
   "metadata": {
    "slideshow": {
     "slide_type": "subslide"
    }
   },
   "source": [
    " <img src=\"./img/R_18.svg\" alt=\"Drawing\" style=\"width: 2000px;\"/>"
   ]
  },
  {
   "cell_type": "markdown",
   "metadata": {
    "slideshow": {
     "slide_type": "subslide"
    }
   },
   "source": [
    " <img src=\"./img/R_19.svg\" alt=\"Drawing\" style=\"width: 2000px;\"/>"
   ]
  },
  {
   "cell_type": "markdown",
   "metadata": {
    "slideshow": {
     "slide_type": "subslide"
    }
   },
   "source": [
    " <img src=\"./img/R_20.svg\" alt=\"Drawing\" style=\"width: 2000px;\"/>"
   ]
  },
  {
   "cell_type": "markdown",
   "metadata": {
    "slideshow": {
     "slide_type": "subslide"
    }
   },
   "source": [
    " <img src=\"./img/R_21.svg\" alt=\"Drawing\" style=\"width: 2000px;\"/>"
   ]
  },
  {
   "cell_type": "markdown",
   "metadata": {
    "slideshow": {
     "slide_type": "subslide"
    }
   },
   "source": [
    " <img src=\"./img/R_22.svg\" alt=\"Drawing\" style=\"width: 2000px;\"/>"
   ]
  },
  {
   "cell_type": "markdown",
   "metadata": {
    "slideshow": {
     "slide_type": "subslide"
    }
   },
   "source": [
    " <img src=\"./img/R_23.svg\" alt=\"Drawing\" style=\"width: 2000px;\"/>"
   ]
  },
  {
   "cell_type": "markdown",
   "metadata": {
    "slideshow": {
     "slide_type": "subslide"
    }
   },
   "source": [
    " <img src=\"./img/R_24.svg\" alt=\"Drawing\" style=\"width: 2000px;\"/>"
   ]
  },
  {
   "cell_type": "markdown",
   "metadata": {
    "slideshow": {
     "slide_type": "subslide"
    }
   },
   "source": [
    " <img src=\"./img/R_25.svg\" alt=\"Drawing\" style=\"width: 2000px;\"/>"
   ]
  },
  {
   "cell_type": "markdown",
   "metadata": {
    "slideshow": {
     "slide_type": "subslide"
    }
   },
   "source": [
    " <img src=\"./img/R_26.svg\" alt=\"Drawing\" style=\"width: 2000px;\"/>"
   ]
  },
  {
   "cell_type": "markdown",
   "metadata": {
    "slideshow": {
     "slide_type": "subslide"
    }
   },
   "source": [
    " <img src=\"./img/R_27.svg\" alt=\"Drawing\" style=\"width: 2000px;\"/>"
   ]
  },
  {
   "cell_type": "markdown",
   "metadata": {
    "slideshow": {
     "slide_type": "subslide"
    }
   },
   "source": [
    " <img src=\"./img/R_28.svg\" alt=\"Drawing\" style=\"width: 2000px;\"/>"
   ]
  },
  {
   "cell_type": "markdown",
   "metadata": {
    "slideshow": {
     "slide_type": "subslide"
    }
   },
   "source": [
    " <img src=\"./img/R_29.svg\" alt=\"Drawing\" style=\"width: 2000px;\"/>"
   ]
  },
  {
   "cell_type": "markdown",
   "metadata": {
    "slideshow": {
     "slide_type": "subslide"
    }
   },
   "source": [
    " <img src=\"./img/R_30.svg\" alt=\"Drawing\" style=\"width: 2000px;\"/>"
   ]
  },
  {
   "cell_type": "markdown",
   "metadata": {
    "slideshow": {
     "slide_type": "subslide"
    }
   },
   "source": [
    " <img src=\"./img/R_31.svg\" alt=\"Drawing\" style=\"width: 2000px;\"/>"
   ]
  },
  {
   "cell_type": "markdown",
   "metadata": {
    "slideshow": {
     "slide_type": "subslide"
    }
   },
   "source": [
    "Validation croisée (titre)"
   ]
  },
  {
   "cell_type": "markdown",
   "metadata": {},
   "source": [
    "# 2. Méthodes de validation\n",
    "\n",
    "Si nous avions accès à (presque) toute la population pour réaliser nos analyses, les méthodes de validation seraient inutiles. Notre échantillon d'entraînement serait très bien généralisable à n'importe quel autre échantillon tiré au hasard d'une même population.\n",
    "\n",
    "Cependant, on n'a jamais en pratique une telle taille d'échantillon.\n",
    "\n",
    "Les méthode de validation sont donc extrêmement importantes afin d'évaluer la capacité des modèles estimés à prédire les futures données qui leur seront soumises!\n",
    "\n",
    "Concrètement, on souhaite minimiser le biais (associé au sous-apprentissage), tout en minimisant la variance (associé au surapprentissagge).\n",
    "* Minimiser le biais ET la variance est ce qui permet de minimiser l'erreur de prédiction sur de nouvelles données!\n",
    "\n",
    "## 2.1. Trois ensembles de données distincts\n",
    "\n",
    "La méthode la plus simple pour s'assurer d'optimiser la capacité de généralisation de notre modèle est de travailler avec trois ensembles de données:\n",
    "1. Un ensemble d'entraînement.\n",
    "2. Un ensemble de validation.\n",
    "3. Un ensemble de test.\n",
    "\n",
    "Les ensembles d'entrainement et de validation travaillent main dans la main pour trouver le meilleur compromis biais-variance.\n",
    "- Pour obtenir un modèle qui apprenne suffisamment (qui évite le sous-apprentissage) tout en n'apprenant pas trop (qui évite le surapprentissage).\n",
    "\n",
    "1. L'ensemble d'entraînement est utilisé pour estimer les paramètres du modèle.\n",
    "2. L'ensemble de validation va évaluer la capacité de généralisation du modèle.\n",
    "  - Aucune estimation des paramètres n'est alors réalisée.\n",
    "\n",
    "On va généralement itérer entre les étapes 1 et 2, en faisant varier différents **hyperparamètres**.\n",
    "- Un hyperparamètre est un paramètre dont la valeur est fixée avant le début de l'apprentissage.\n",
    "- Un hyperparamètre est généralement associé à la forme du modèle ou à la procédure d'apprentissage.\n",
    "\n",
    "Exemple : \n",
    "- On pourrait faire une régression linéaire multiple en utilisant trois modèles différents:\n",
    "  - un modèle d'ordre 1 (linéaire);\n",
    "  - un modèle d'ordre 2 (quadratique);\n",
    "  - un modèle d'ordre 3 (cuubique).\n",
    "- On estime les paramètres de chacun des trois modèles à l'aide du même ensemble d'entraînement.\n",
    "- On vérifie ensuite quel modèle fait les meilleures prédictions à l'aide de l'ensemble de validation.\n",
    "  - Le meilleur modèle sur l'ensemble de validation est notre modèle final.\n",
    "  \n",
    "Problème: l'évaluation de la capacité de généralisation de notre modèle est réalisée à l'aide d'un ensemble de données (l'ensemble de validation) qui a servi à la sélection du modèle... \n",
    "- L'ensemble de validation est en conflit d'intérêt!\n",
    "\n",
    "Solution: l'évaluation finale de la capacité de généralisation de notre modèle est réalisée à l'aide d'un troisième ensemble de données, soit l'ensemble de test!\n",
    "\n",
    "Note: il est très important que l'ordre des participants dans l'échantillon global soit rendu aléatoire avant de procéder à la division en trois sous-ensembles!\n",
    "- Sinon, la variance d'un échantillon à l'autre sera plus grande et la capacité de généralisation en sera réduite.\n",
    "\n",
    "Une difficulté est qu'on ne souhaite généralement pas diminuer la représentativité de notre ensemble d'entraînement en diminuant sa taille... or, ici, on doit diviser notre échantillon en trois sous-ensembles (entraînement, validation, test)!\n",
    "\n",
    "Une manière de conserver ces trois étapes cruciales (entraînement, validation, test), tout en utilisant une portion plus importante de données pour l'estimation des paramètres est une méthode qu'on appelle **validation croisée**."
   ]
  },
  {
   "cell_type": "markdown",
   "metadata": {},
   "source": [
    "## 2.1. Validation croisée (\"Cross-validation\") \n",
    "L'objectif principal de la validation croisée est de réaliser les trois étapes que nous venons de voir (entraînement, validation, test) en divisant notre échantillon en seulement deux sous-ensembles, plutôt que trois:\n",
    "1. Un ensemble \"entraînement + validation\".\n",
    "2. Un ensemble de test."
   ]
  },
  {
   "cell_type": "markdown",
   "metadata": {},
   "source": [
    "### 2.1.1. Validation croisée \"k-fold\"\n",
    "\n",
    "L'idée derrière la validation croisée est d'utiliser...:\n",
    "- **Toutes** les données de l'ensemble 1 pour l'entraînement... et...\n",
    "- **Toutes** les données de l'ensemble 1 pour la validation!\n",
    "\n",
    "Pour expliquer la méthode, prenons directement un exemple. Considérons qu'on a un échantillon de 100 données.\n",
    "1. D'abord, mettons de  20 données pour l'ensemble test.\n",
    "  - Il nous reste 80 données pour l'ensemble \"entraînement + validation\".\n",
    "2. Divisons l'ensemble \"entraînement + validation\" en 5 sous-groupes (appelons-les A, B, C, D, E).\n",
    "  - On a 16 données par sous-groupe.\n",
    "3. On va alors estimer à cinq reprises les paramètres de notre modèle.\n",
    "  - Première fois: entraînement = A + B + C + D; validation = E. \n",
    "  - Deuxième fois: entraînement = A + B + C + E; validation = D. \n",
    "  - Troisième fois: entraînement = A + B + D + E; validation = C. \n",
    "  - Quatrième fois: entraînement = A + C + D + E; validation = B. \n",
    "  - Cinquième fois: entraînement = B + C + D + E; validation = A. \n",
    "    - L'erreur de validation est alors la moyenne de erreurs (au carré) pour les cinq itérations.\n",
    "4. On peut alors répéter l'étape 3 pour différents hyperparamètres afin de sélectionner un modèle.\n",
    "5. Une fois qu'un modèle final est sélectionné, il est entraîné cette fois avec l'ensemble des données de l'ensemble \"entraînement + validation\" et sa capacité de généralisation est évaluée à l'aide de l'ensemble test.\n",
    "\n",
    "La méthode utilise généralement k = 5 ou k = 10 plis (\"folds\").\n",
    "- Il a été supporté empiriquement que ces valeurs permettent généralement de limiter le biais la variance."
   ]
  },
  {
   "cell_type": "markdown",
   "metadata": {
    "slideshow": {
     "slide_type": "slide"
    }
   },
   "source": [
    "### 2.1.2. Validation croisée k = n (\"leave one out\").\n",
    "\n",
    "Dans le cas où le nombre de données disponible est vraiment très faible, le cas particulier k = 1 peut être utilisé, puisqu'il permet de maximiser le nombre de données disponible pour chaque itération de l'entraînement.\n",
    "\n",
    "Cependant, comme tous les sous-groupes de l'échantillon sont alors très similaires (chacun possède n-1 observations), le modèle obtenu risque d'être très représentatif de cet échantillon, mais de se généraliser plutôt mal à d'autres échantillons.\n",
    "- On augmente la variance des modèles qui seraient obtenus à l'aide de différents échantillons!"
   ]
  },
  {
   "cell_type": "markdown",
   "metadata": {
    "slideshow": {
     "slide_type": "slide"
    }
   },
   "source": [
    "### 2.1.3. Validation croisée hiérarchique (\"nested\")\n",
    "\n",
    "Afin de maximiser encore plus le nombre"
   ]
  },
  {
   "cell_type": "markdown",
   "metadata": {},
   "source": [
    "### 2.1.4. Le cas où on n'évalue qu'un seul ensemble d'hyperparamètres\n",
    "\n",
    "Dans la discussion que nous avons eu jusqu'ici sur la validation, on a considéré que différents ensembles d'hyperparamètres étaient évalués et comparés, de manière à sélectionner celui qui se généralise le mieu.\n",
    "- Lorsque c'est bien le cas, l'ensemble de validation est absolument \n",
    "\n",
    "Or, dans le cas où"
   ]
  },
  {
   "cell_type": "markdown",
   "metadata": {},
   "source": []
  },
  {
   "cell_type": "markdown",
   "metadata": {},
   "source": [
    "# 3. Apprentissage supervisé : régression\n",
    "\n",
    "Régression linéaire dans la population :\n",
    "$$Y = \\beta_0 + \\beta_1 X_1 + \\beta_2 X_2 + ... +  \\beta_p X_p + \\epsilon$$\n",
    "\n",
    "Régression linéaire estimée dans l'échantillon :\n",
    "$$Y = \\hat{\\beta_0} + \\hat{\\beta_1}X_1 + \\hat{\\beta_2}X_2 + ... + \\hat{\\beta_p}X_p + \\epsilon$$\n",
    "\n",
    "En statistique inférentielles classiques, on cherche à minimiser l'erreur de prédiction dans l'échantillon.\n",
    "- L'objectif est de déterminer quels prédicteurs ($X_1, X_2, ...$) contribuent à expliquer la variance dans la variable prédite ($Y$).\n",
    "  - La fonction de coût correspond généralement au carré moyen de l'erreur (*Mean Squared Error*, MSE) donnée par: \n",
    "  $$MSE = \\frac{1}{N-1} \\sum_{i=1}^{N} (Y_i - \\hat{Y})^2$$\n",
    "\n",
    "En apprenntissage machine, on cherche à minimiser l'erreur de prédiction dans l'ensemble de données \"test\".\n",
    "- L'objectif est de prédire correctement les valeurs $Y$ pour des nouvelles observations ($X_1, X_2, ...$).\n",
    "  - Si on utilise simplement la même fonction de coût, on risque un surapprentissage...\n",
    "  \n",
    "**Voyons l'application de la méthode \"saveur vanille\"**"
   ]
  },
  {
   "cell_type": "markdown",
   "metadata": {},
   "source": [
    "## 3.1. Régression linéaire simple"
   ]
  },
  {
   "cell_type": "markdown",
   "metadata": {},
   "source": [
    "### ÉTAPE 1 :  importer les librairies utiles"
   ]
  },
  {
   "cell_type": "code",
   "execution_count": 84,
   "metadata": {},
   "outputs": [],
   "source": [
    "# -----------------------------------------------------------------------------\n",
    "# ÉTAPE 1 : importer les librairies utiles\n",
    "# -----------------------------------------------------------------------------\n",
    "\n",
    "# Importer les librairies utiles\n",
    "import numpy as np\n",
    "import matplotlib.pyplot as plt\n",
    "import pandas as pd\n",
    "import mglearn"
   ]
  },
  {
   "cell_type": "markdown",
   "metadata": {},
   "source": [
    "### ÉTAPE 2 : importer les fonctions utiles"
   ]
  },
  {
   "cell_type": "code",
   "execution_count": 63,
   "metadata": {},
   "outputs": [],
   "source": [
    "# -----------------------------------------------------------------------------\n",
    "# ÉTAPE 2 : importer les fonctions utiles\n",
    "# -----------------------------------------------------------------------------\n",
    "\n",
    "# Importer une fonction qui nous permette de construire aléatoirement les ensembles \"Entraînement\" et \"Test\"\n",
    "from sklearn.model_selection import train_test_split\n",
    "\n",
    "# Importer le modèle de régression linéaire de sklearn\n",
    "from sklearn.linear_model import LinearRegression"
   ]
  },
  {
   "cell_type": "markdown",
   "metadata": {},
   "source": [
    "### ÉTAPE 3 : importer (ici on construit) et préparer le jeu de données "
   ]
  },
  {
   "cell_type": "code",
   "execution_count": 68,
   "metadata": {},
   "outputs": [],
   "source": [
    "# -----------------------------------------------------------------------------\n",
    "# ÉTAPE 3 : importer et préparer le jeu de données \n",
    "# -----------------------------------------------------------------------------\n",
    "\n",
    "# Créons un échantillon de données\n",
    "X, y = mglearn.datasets.make_wave(n_samples=60)\n",
    "\n",
    "# Séparons aléatoirement nos données en deux sous-ensembles \"Entraînement\" et \"Test\"\n",
    "X_train, X_test, y_train, y_test = train_test_split(X, y, random_state=42)"
   ]
  },
  {
   "cell_type": "markdown",
   "metadata": {},
   "source": [
    "### ÉTAPE 4 : Entraîner le modèle (ensemble \"Entraînement\")"
   ]
  },
  {
   "cell_type": "code",
   "execution_count": 69,
   "metadata": {},
   "outputs": [
    {
     "name": "stdout",
     "output_type": "stream",
     "text": [
      "w[0]: 0.393906  b: -0.031804\n",
      "lr.coef_: [0.39390555]\n",
      "lr.intercept_: -0.031804343026759746\n"
     ]
    },
    {
     "data": {
      "image/png": "[encoded data removed]",
      "text/plain": [
       "<Figure size 576x576 with 1 Axes>"
      ]
     },
     "metadata": {
      "needs_background": "light"
     },
     "output_type": "display_data"
    }
   ],
   "source": [
    "# -----------------------------------------------------------------------------\n",
    "# ÉTAPE 4 : entraîner le modèle (ensemble \"Entraînement\")\n",
    "# -----------------------------------------------------------------------------\n",
    "\n",
    "# Entraînons notre modèle\n",
    "lr = LinearRegression().fit(X_train, y_train)\n",
    "\n",
    "# Affichons le graphique incluant la droite de régession\n",
    "mglearn.plots.plot_linear_regression_wave()\n",
    "\n",
    "# Affichons les valeurs des coefficients\n",
    "print(\"lr.coef_: {}\".format(lr.coef_))\n",
    "print(\"lr.intercept_: {}\".format(lr.intercept_))"
   ]
  },
  {
   "cell_type": "markdown",
   "metadata": {},
   "source": [
    "### ÉTAPE 5 : vérifier la généralisabilité des résultats (ensemble \"Test\")"
   ]
  },
  {
   "cell_type": "code",
   "execution_count": 70,
   "metadata": {},
   "outputs": [
    {
     "name": "stdout",
     "output_type": "stream",
     "text": [
      "Training set score: 0.67\n",
      "Test set score: 0.66\n"
     ]
    }
   ],
   "source": [
    "# -----------------------------------------------------------------------------\n",
    "# ÉTAPE 5 : vérifier la généralisabilité des résultats (ensemble \"Test\")\n",
    "# -----------------------------------------------------------------------------\n",
    "\n",
    "# Affichons les tailles d'effet R-deux\n",
    "print(\"Training set score: {:.2f}\".format(lr.score(X_train, y_train)))\n",
    "print(\"Test set score: {:.2f}\".format(lr.score(X_test, y_test)))"
   ]
  },
  {
   "cell_type": "markdown",
   "metadata": {},
   "source": [
    "### CODE COMPLET (régression linéaire \"sans régularisation\")"
   ]
  },
  {
   "cell_type": "code",
   "execution_count": 71,
   "metadata": {},
   "outputs": [
    {
     "name": "stdout",
     "output_type": "stream",
     "text": [
      "w[0]: 0.393906  b: -0.031804\n",
      "lr.coef_: [0.39390555]\n",
      "lr.intercept_: -0.031804343026759746\n",
      "Training set score: 0.67\n",
      "Test set score: 0.66\n"
     ]
    },
    {
     "data": {
      "image/png": "[encoded data removed]",
      "text/plain": [
       "<Figure size 576x576 with 1 Axes>"
      ]
     },
     "metadata": {
      "needs_background": "light"
     },
     "output_type": "display_data"
    }
   ],
   "source": [
    "# -----------------------------------------------------------------------------\n",
    "# ÉTAPE 1 : importer les librairies utiles\n",
    "# -----------------------------------------------------------------------------\n",
    "\n",
    "# Importer les librairies utiles\n",
    "import numpy as np\n",
    "import matplotlib.pyplot as plt\n",
    "import pandas as pd\n",
    "import mglearn\n",
    "\n",
    "\n",
    "# -----------------------------------------------------------------------------\n",
    "# ÉTAPE 2 : importer les fonctions utiles\n",
    "# -----------------------------------------------------------------------------\n",
    "\n",
    "# Importer une fonction qui nous permette de construire aléatoirement les ensembles \"Entraînement\" et \"Test\"\n",
    "from sklearn.model_selection import train_test_split\n",
    "\n",
    "# Importer le modèle de régression linéaire de sklearn\n",
    "from sklearn.linear_model import LinearRegression\n",
    "\n",
    "\n",
    "# -----------------------------------------------------------------------------\n",
    "# ÉTAPE 3 : importer et préparer le jeu de données \n",
    "# -----------------------------------------------------------------------------\n",
    "\n",
    "# Créons un échantillon de données\n",
    "X, y = mglearn.datasets.make_wave(n_samples=60)\n",
    "\n",
    "# Séparons aléatoirement nos données en deux sous-ensembles \"Entraînement\" et \"Test\"\n",
    "X_train, X_test, y_train, y_test = train_test_split(X, y, random_state=42)\n",
    "\n",
    "\n",
    "# -----------------------------------------------------------------------------\n",
    "# ÉTAPE 4 : entraîner le modèle (ensemble \"Entraînement\")\n",
    "# -----------------------------------------------------------------------------\n",
    "\n",
    "# Entraînons notre modèle\n",
    "lr = LinearRegression().fit(X_train, y_train)\n",
    "\n",
    "# Affichons le graphique incluant la droite de régession\n",
    "mglearn.plots.plot_linear_regression_wave()\n",
    "\n",
    "# Affichons les valeurs des coefficients\n",
    "print(\"lr.coef_: {}\".format(lr.coef_))\n",
    "print(\"lr.intercept_: {}\".format(lr.intercept_))\n",
    "\n",
    "\n",
    "# -----------------------------------------------------------------------------\n",
    "# ÉTAPE 5 : vérifier la généralisabilité des résultats (ensemble \"Test\")\n",
    "# -----------------------------------------------------------------------------\n",
    "\n",
    "# Affichons les tailles d'effet R-deux\n",
    "print(\"Training set score: {:.2f}\".format(lr.score(X_train, y_train)))\n",
    "print(\"Test set score: {:.2f}\".format(lr.score(X_test, y_test)))"
   ]
  },
  {
   "cell_type": "markdown",
   "metadata": {},
   "source": [
    "### Discussion de la régression linéaire simple\n",
    "\n",
    "- Notre modèle n'a pas une très performance à l'entraînement.\n",
    "  - Ce qui représente un problème de sous-apprentissage, liée à un biais important.\n",
    "  \n",
    "\n",
    "- Toutefois, notre modèle généralise très bien cette performance à l'ensemble test!\n",
    "  - Pas de problème lié à la variabilité du modèle!\n",
    "  \n",
    "\n",
    "- Comment pourrions-nous améliorer l'apprentissage?\n",
    "  1. Ajouter des données!\n",
    "  2. Complexifier le modèle! (toutefois ici, comme on a créé un jeu de données, il n'existe aucun autre prédicteur possible)."
   ]
  },
  {
   "cell_type": "markdown",
   "metadata": {},
   "source": [
    "### Option 1 : Ajouter des données (passons de 60 à 600 !)"
   ]
  },
  {
   "cell_type": "code",
   "execution_count": 82,
   "metadata": {},
   "outputs": [
    {
     "name": "stdout",
     "output_type": "stream",
     "text": [
      "w[0]: 0.393906  b: -0.031804\n",
      "lr.coef_: [0.45053442]\n",
      "lr.intercept_: 0.06878142557298995\n",
      "Training set score: 0.63\n",
      "Test set score: 0.63\n"
     ]
    },
    {
     "data": {
      "image/png": "[encoded data removed]",
      "text/plain": [
       "<Figure size 576x576 with 1 Axes>"
      ]
     },
     "metadata": {
      "needs_background": "light"
     },
     "output_type": "display_data"
    }
   ],
   "source": [
    "# -----------------------------------------------------------------------------\n",
    "# ÉTAPE 1 : importer les librairies utiles\n",
    "# -----------------------------------------------------------------------------\n",
    "\n",
    "# Importer les librairies utiles\n",
    "import numpy as np\n",
    "import matplotlib.pyplot as plt\n",
    "import pandas as pd\n",
    "import mglearn\n",
    "\n",
    "\n",
    "# -----------------------------------------------------------------------------\n",
    "# ÉTAPE 2 : importer les fonctions utiles\n",
    "# -----------------------------------------------------------------------------\n",
    "\n",
    "# Importer une fonction qui nous permette de construire aléatoirement les ensembles \"Entraînement\" et \"Test\"\n",
    "from sklearn.model_selection import train_test_split\n",
    "\n",
    "# Importer le modèle de régression linéaire de sklearn\n",
    "from sklearn.linear_model import LinearRegression\n",
    "\n",
    "\n",
    "# -----------------------------------------------------------------------------\n",
    "# ÉTAPE 3 : importer et préparer le jeu de données \n",
    "# -----------------------------------------------------------------------------\n",
    "\n",
    "# Créons un échantillon de données\n",
    "# ================================================== Modification ============================================\n",
    "# X, y = mglearn.datasets.make_wave(n_samples=60)\n",
    "X, y = mglearn.datasets.make_wave(n_samples=600)\n",
    "# ============================================================================================================\n",
    "\n",
    "# Séparons aléatoirement nos données en deux sous-ensembles \"Entraînement\" et \"Test\"\n",
    "X_train, X_test, y_train, y_test = train_test_split(X, y, random_state=42)\n",
    "\n",
    "\n",
    "# -----------------------------------------------------------------------------\n",
    "# ÉTAPE 4 : entraîner le modèle (ensemble \"Entraînement\")\n",
    "# -----------------------------------------------------------------------------\n",
    "\n",
    "# Entraînons notre modèle\n",
    "lr = LinearRegression().fit(X_train, y_train)\n",
    "\n",
    "# Affichons le graphique incluant la droite de régession\n",
    "mglearn.plots.plot_linear_regression_wave()\n",
    "\n",
    "# Affichons les valeurs des coefficients\n",
    "print(\"lr.coef_: {}\".format(lr.coef_))\n",
    "print(\"lr.intercept_: {}\".format(lr.intercept_))\n",
    "\n",
    "\n",
    "# -----------------------------------------------------------------------------\n",
    "# ÉTAPE 5 : vérifier la généralisabilité des résultats (ensemble \"Test\")\n",
    "# -----------------------------------------------------------------------------\n",
    "\n",
    "# Affichons les tailles d'effet R-deux\n",
    "print(\"Training set score: {:.2f}\".format(lr.score(X_train, y_train)))\n",
    "print(\"Test set score: {:.2f}\".format(lr.score(X_test, y_test)))"
   ]
  },
  {
   "cell_type": "markdown",
   "metadata": {},
   "source": [
    "- On note qu'augmenter les donnes n'a pas ici un effet important.\n",
    "  - On pourrait alors tenter une régression utilisant un modèle plus complexe!\n",
    "  \n",
    "\n",
    "- **Pour présenter l'impact de modèles plus complexes, utilisons un jeu de données différent.**\n",
    "  - Utilisons le \"Boston Housing dataset\":\n",
    "    - Taille de l'échantillon : 506 observatons multivariées.\n",
    "    - Nombre de variables : 105."
   ]
  },
  {
   "cell_type": "markdown",
   "metadata": {},
   "source": [
    "## 3.2. Régression linéaire multiple\n",
    "\n",
    "La seule différence ici est qu'on importe un jeu de données comportant plusieurs prédicteurs,\n",
    "plutôt qu'un seul."
   ]
  },
  {
   "cell_type": "code",
   "execution_count": 36,
   "metadata": {},
   "outputs": [
    {
     "name": "stdout",
     "output_type": "stream",
     "text": [
      "lr.coef_: [-4.12710947e+02 -5.22432068e+01 -1.31898815e+02 -1.20041365e+01\n",
      " -1.55107129e+01  2.87163342e+01  5.47040992e+01 -4.95346659e+01\n",
      "  2.65823927e+01  3.70620316e+01 -1.18281674e+01 -1.80581965e+01\n",
      " -1.95246830e+01  1.22025403e+01  2.98078144e+03  1.50084257e+03\n",
      "  1.14187325e+02 -1.69700520e+01  4.09613691e+01 -2.42636646e+01\n",
      "  5.76157466e+01  1.27812142e+03 -2.23986944e+03  2.22825472e+02\n",
      " -2.18201083e+00  4.29960320e+01 -1.33981515e+01 -1.93893485e+01\n",
      " -2.57541277e+00 -8.10130128e+01  9.66019367e+00  4.91423718e+00\n",
      " -8.12114800e-01 -7.64694179e+00  3.37837099e+01 -1.14464390e+01\n",
      "  6.85083979e+01 -1.73753604e+01  4.28128204e+01  1.13988209e+00\n",
      " -7.72696840e-01  5.68255921e+01  1.42875996e+01  5.39551110e+01\n",
      " -3.21709644e+01  1.92709675e+01 -1.38852338e+01  6.06343266e+01\n",
      " -1.23153942e+01 -1.20041365e+01 -1.77243899e+01 -3.39868183e+01\n",
      "  7.08999816e+00 -9.22538241e+00  1.71980268e+01 -1.27718431e+01\n",
      " -1.19727581e+01  5.73871915e+01 -1.75331865e+01  4.10103194e+00\n",
      "  2.93666477e+01 -1.76611772e+01  7.84049424e+01 -3.19098015e+01\n",
      "  4.81752461e+01 -3.95344813e+01  5.22959055e+00  2.19982410e+01\n",
      "  2.56483934e+01 -4.99982035e+01  2.91457545e+01  8.94267456e+00\n",
      " -7.16599297e+01 -2.28147862e+01  8.40660981e+00 -5.37905422e+00\n",
      "  1.20137322e+00 -5.20877186e+00  4.11452351e+01 -3.78250760e+01\n",
      " -2.67163851e+00 -2.55217108e+01 -3.33982030e+01  4.62272693e+01\n",
      " -2.41509169e+01 -1.77532970e+01 -1.39723701e+01 -2.35522208e+01\n",
      "  3.68353800e+01 -9.46890859e+01  1.44302810e+02 -1.51158659e+01\n",
      " -1.49513436e+01 -2.87729579e+01 -3.17673192e+01  2.49551594e+01\n",
      " -1.84384534e+01  3.65073948e+00  1.73101122e+00  3.53617137e+01\n",
      "  1.19553429e+01  6.77025947e-01  2.73452009e+00  3.03720012e+01]\n",
      "lr.intercept_: 30.934563673640866\n",
      "Training set score: 0.95\n",
      "Test set score: 0.61\n"
     ]
    }
   ],
   "source": [
    "# -----------------------------------------------------------------------------\n",
    "# ÉTAPE 1 : importer les librairies utiles\n",
    "# -----------------------------------------------------------------------------\n",
    "\n",
    "# Importer les librairies utiles\n",
    "import numpy as np\n",
    "import matplotlib.pyplot as plt\n",
    "import pandas as pd\n",
    "import mglearn\n",
    "\n",
    "\n",
    "# -----------------------------------------------------------------------------\n",
    "# ÉTAPE 2 : importer les fonctions utiles\n",
    "# -----------------------------------------------------------------------------\n",
    "\n",
    "# Importer une fonction qui nous permette de construire aléatoirement les ensembles \"Entraînement\" et \"Test\"\n",
    "from sklearn.model_selection import train_test_split\n",
    "\n",
    "# Importer le modèle de régression linéaire de sklearn\n",
    "from sklearn.linear_model import LinearRegression\n",
    "\n",
    "\n",
    "# -----------------------------------------------------------------------------\n",
    "# ÉTAPE 3 : importer et préparer le jeu de données \n",
    "# -----------------------------------------------------------------------------\n",
    "\n",
    "# On importe un jeu de données comportant 105 prédicteurs\n",
    "# ================================================== Modification ============================================\n",
    "# X, y = mglearn.datasets.make_wave(n_samples=60)\n",
    "X, y = mglearn.datasets.load_extended_boston()\n",
    "# ============================================================================================================\n",
    "\n",
    "# Séparons aléatoirement nos données en deux sous-ensembles \"Entraînement\" et \"Test\"\n",
    "X_train, X_test, y_train, y_test = train_test_split(X, y, random_state=0)\n",
    "\n",
    "\n",
    "# -----------------------------------------------------------------------------\n",
    "# ÉTAPE 4 : entraîner le modèle (ensemble \"Entraînement\")\n",
    "# -----------------------------------------------------------------------------\n",
    "\n",
    "# Entraînons notre modèle\n",
    "lr = LinearRegression().fit(X_train, y_train)\n",
    "\n",
    "# ================================================== Modification ============================================\n",
    "# On retire la courbe de régression linéaire simple\n",
    "\n",
    "# Affichons le graphique incluant la droite de régession\n",
    "# mglearn.plots.plot_linear_regression_wave()\n",
    "# ============================================================================================================\n",
    "\n",
    "# Affichons les valeurs des coefficients\n",
    "print(\"lr.coef_: {}\".format(lr.coef_))\n",
    "print(\"lr.intercept_: {}\".format(lr.intercept_))\n",
    "\n",
    "\n",
    "# -----------------------------------------------------------------------------\n",
    "# ÉTAPE 5 : vérifier la généralisabilité des résultats (ensemble \"Test\")\n",
    "# -----------------------------------------------------------------------------\n",
    "\n",
    "# Affichons les tailles d'effet R-deux\n",
    "print(\"Training set score: {:.2f}\".format(lr.score(X_train, y_train)))\n",
    "print(\"Test set score: {:.2f}\".format(lr.score(X_test, y_test)))"
   ]
  },
  {
   "cell_type": "markdown",
   "metadata": {},
   "source": [
    "### Discussion de la régression linéaire multiple\n",
    "\n",
    "- Notre modèle a pas une très bonne performance à l'entraînement!\n",
    "  - Pas de problème lié au biais!\n",
    "  - Pas de problème de sous-apprentissage!\n",
    "  \n",
    "\n",
    "- Toutefois, notre modèle ne généralise pas très bien cette performance à l'ensemble test.\n",
    "  - Problème lié à la variabilité du modèle.\n",
    "  - Problème de surapprentissage.\n",
    "  \n",
    "\n",
    "- Comment pourrions-nous améliorer l'apprentissage?\n",
    "  1. Ajouter des données! (toutefois ici, nous n'en avons pas d'autre)\n",
    "  2. Complexifier le modèle! (toutefois ici, nous n'avons pas d'autre prédicteur).\n",
    "    - On pourrait augmenter l'ordre du modèle (pas limité à seulement linéaire).\n",
    "  3. On pourrait utiliser de la régularisation!\n",
    "  \n",
    "- En régression, on utilise généralement deux types de régularisation:\n",
    "  1. Régularisation L1 (Lasso)\n",
    "  2. Régularisation L2 (Ridge)"
   ]
  },
  {
   "cell_type": "markdown",
   "metadata": {},
   "source": [
    "## 3.4. Régression linéaire multiple (Ridge)\n",
    "\n",
    "..."
   ]
  },
  {
   "cell_type": "markdown",
   "metadata": {},
   "source": [
    "### Modifications Ridge\n",
    "\n",
    "Le code demeure très similaire. On applique des changements à seulement deux étapes.\n",
    "\n",
    "- ÉTAPE 1 : importation des librairies utiles\n",
    "  - Inchangée\n",
    "  \n",
    "- ÉTAPE 2 : importation des fonctions utiles\n",
    "  - On importe la fonction \"Ridge\" plutôt que la fontion \"linearRegression\".\n",
    "  \n",
    "- ÉTAPE 3 : importation et préparation du jeu de données\n",
    "  - Inchangée\n",
    "\n",
    "- ÉTAPE 4 : entraînement du modèle\n",
    "  - On utilise maintenant la régularisation \"Ridge\" plutôt que la régression linéaire \"vanille\".\n",
    "  - On calcule la taille d'efet de la phase \"entraînement\" pour le modèle utilisant la régression \"Ridge\".\n",
    "  \n",
    "- ÉTAPE 5 : vérification de la généralisabilité du modèle\n",
    "  - On calcule la taille d'effet de la phase \"test\" pour le modèle utilisant la régression \"Ridge\"."
   ]
  },
  {
   "cell_type": "markdown",
   "metadata": {},
   "source": [
    "### ÉTAPE 2 (modifications Ridge)"
   ]
  },
  {
   "cell_type": "code",
   "execution_count": null,
   "metadata": {},
   "outputs": [],
   "source": [
    "# -----------------------------------------------------------------------------\n",
    "# ÉTAPE 2 : importer les fonctions utiles\n",
    "# -----------------------------------------------------------------------------\n",
    "\n",
    "# Importer une fonction qui nous permette de construire aléatoirement les ensembles \"Entraînement\" et \"Test\"\n",
    "from sklearn.model_selection import train_test_split\n",
    "\n",
    "# Importer le modèle de régression linéaire de sklearn\n",
    "# ================================================== Modification ============================================\n",
    "# from sklearn.linear_model import LinearRegression\n",
    "from sklearn.linear_model import Ridge\n",
    "# ============================================================================================================"
   ]
  },
  {
   "cell_type": "markdown",
   "metadata": {},
   "source": [
    "### ÉTAPE 4 (modifications Ridge)"
   ]
  },
  {
   "cell_type": "code",
   "execution_count": null,
   "metadata": {},
   "outputs": [],
   "source": [
    "# -----------------------------------------------------------------------------\n",
    "# ÉTAPE 4 : entraîner le modèle (ensemble \"Entraînement\")\n",
    "# -----------------------------------------------------------------------------\n",
    "\n",
    "# Entraînons notre modèle\n",
    "# ================================================== Modification ============================================\n",
    "# lr = LinearRegression().fit(X_train, y_train)\n",
    "ridge = Ridge().fit(X_train, y_train)\n",
    "# ============================================================================================================\n",
    "\n",
    "# Affichons les valeurs des coefficients\n",
    "# ================================================== Modification ============================================\n",
    "# print(\"lr.coef_: {}\".format(lr.coef_))\n",
    "print(\"ridge.coef_: {}\".format(ridge.coef_))\n",
    "\n",
    "# print(\"lr.intercept_: {}\".format(lr.intercept_))\n",
    "print(\"ridge.intercept_: {}\".format(ridge.intercept_))\n",
    "# ============================================================================================================"
   ]
  },
  {
   "cell_type": "markdown",
   "metadata": {},
   "source": [
    "### ÉTAPE 5 (modifications Ridge)"
   ]
  },
  {
   "cell_type": "code",
   "execution_count": null,
   "metadata": {},
   "outputs": [],
   "source": [
    "# -----------------------------------------------------------------------------\n",
    "# ÉTAPE 5 : vérifier la généralisabilité des résultats (ensemble \"Test\")\n",
    "# -----------------------------------------------------------------------------\n",
    "\n",
    "# Affichons les tailles d'effet R-deux\n",
    "# ================================================== Modification ============================================\n",
    "# print(\"Training set score: {:.2f}\".format(lr.score(X_train, y_train)))\n",
    "print(\"Training set score: {:.2f}\".format(ridge.score(X_train, y_train)))\n",
    "\n",
    "# print(\"Test set score: {:.2f}\".format(lr.score(X_test, y_test)))\n",
    "print(\"Test set score: {:.2f}\".format(ridge.score(X_test, y_test)))\n",
    "# ============================================================================================================"
   ]
  },
  {
   "cell_type": "markdown",
   "metadata": {},
   "source": [
    "### CODE COMPLET (Ridge)"
   ]
  },
  {
   "cell_type": "code",
   "execution_count": 30,
   "metadata": {},
   "outputs": [
    {
     "name": "stdout",
     "output_type": "stream",
     "text": [
      "ridge.coef_: [-1.41368408e+00 -1.55661895e+00 -1.46543409e+00 -1.26616071e-01\n",
      " -7.91193605e-02  8.33161023e+00  2.54975060e-01 -4.94145701e+00\n",
      "  3.89862268e+00 -1.05866058e+00 -1.58433734e+00  1.05103856e+00\n",
      " -4.01220799e+00  3.33720475e-01  3.64725471e-03 -8.49295793e-01\n",
      "  7.44989267e-01 -1.43106836e+00 -1.62981017e+00 -1.40486294e+00\n",
      " -4.47314366e-02 -1.74619880e+00 -1.46715888e+00 -1.33237111e+00\n",
      " -1.69154625e+00 -5.06179637e-01  2.62197591e+00 -2.09210002e+00\n",
      "  1.95074661e-01 -2.75469422e-01  5.11308202e+00 -1.67083739e+00\n",
      " -9.81863179e-02  6.34477127e-01 -6.10008281e-01  4.01805897e-02\n",
      " -1.27661999e+00 -2.91349679e+00  3.39544035e+00  7.91904036e-01\n",
      "  1.35260232e+00 -4.03661265e+00  2.32361734e+00 -3.36712926e+00\n",
      "  1.81279204e+00  3.01566897e+00 -1.89452070e+00 -2.50844073e-01\n",
      " -2.89543735e+00 -1.26616071e-01 -5.00217192e+00 -2.43951806e+00\n",
      "  2.85071846e+00 -8.57081177e-01  2.99141960e+00  2.34589755e+00\n",
      "  1.31207081e+00  1.71845119e+00 -2.59766697e+00 -1.32370675e+00\n",
      " -2.81242223e+00 -2.09117058e+00 -1.08428335e+00 -2.73843625e+00\n",
      " -1.61989753e+00 -2.80493280e+00  9.44641482e-01 -1.65363374e+00\n",
      "  1.66553558e+01 -1.10980551e+00  2.14188605e+00 -8.03855387e+00\n",
      " -8.59149928e+00 -7.54161099e+00  1.02924022e+01 -7.96425897e+00\n",
      "  7.68540742e-01 -1.85213002e+00  2.51497387e+00 -3.42074257e-01\n",
      " -1.79604278e+00 -2.93048162e-01 -4.78242379e+00  8.63283317e-01\n",
      "  4.22361423e-01 -1.41656695e+00 -2.12023113e-01 -5.08121369e+00\n",
      " -5.47247509e-01  1.53835390e+00  1.81348033e+00  1.97252021e+00\n",
      "  1.81849652e+00 -7.14338697e+00  1.10472533e+00  1.42242216e+00\n",
      " -1.31494020e+00 -6.77170441e+00  1.82204476e+00 -2.36112444e+00\n",
      "  4.34670572e-02  1.20886000e+00 -6.32599163e+00  1.03600231e+01]\n",
      "ridge.intercept_: 21.390525958609924\n",
      "Training set score: 0.89\n",
      "Test set score: 0.75\n"
     ]
    }
   ],
   "source": [
    "# -----------------------------------------------------------------------------\n",
    "# ÉTAPE 1 : importer les librairies utiles\n",
    "# -----------------------------------------------------------------------------\n",
    "\n",
    "# Importer les librairies utiles\n",
    "import numpy as np\n",
    "import matplotlib.pyplot as plt\n",
    "import pandas as pd\n",
    "import mglearn\n",
    "\n",
    "\n",
    "# -----------------------------------------------------------------------------\n",
    "# ÉTAPE 2 : importer les fonctions utiles\n",
    "# -----------------------------------------------------------------------------\n",
    "\n",
    "# Importer une fonction qui nous permette de construire aléatoirement les ensembles \"Entraînement\" et \"Test\"\n",
    "from sklearn.model_selection import train_test_split\n",
    "\n",
    "# Importer le modèle de régression linéaire de sklearn\n",
    "from sklearn.linear_model import Ridge\n",
    "\n",
    "\n",
    "# -----------------------------------------------------------------------------\n",
    "# ÉTAPE 3 : importer et préparer le jeu de données \n",
    "# -----------------------------------------------------------------------------\n",
    "\n",
    "# Importons l'échantillon de données \"Boston Housing dataset\"\n",
    "X, y = mglearn.datasets.load_extended_boston()\n",
    "\n",
    "# Séparons aléatoirement nos données en deux sous-ensembles \"Entraînement\" et \"Test\"\n",
    "X_train, X_test, y_train, y_test = train_test_split(X, y, random_state=0)\n",
    "\n",
    "\n",
    "# -----------------------------------------------------------------------------\n",
    "# ÉTAPE 4 : entraîner le modèle (ensemble \"Entraînement\")\n",
    "# -----------------------------------------------------------------------------\n",
    "\n",
    "# Entraînons notre modèle\n",
    "ridge = Ridge().fit(X_train, y_train)\n",
    "\n",
    "# Affichons les valeurs des coefficients\n",
    "print(\"ridge.coef_: {}\".format(ridge.coef_))\n",
    "print(\"ridge.intercept_: {}\".format(ridge.intercept_))\n",
    "\n",
    "\n",
    "# -----------------------------------------------------------------------------\n",
    "# ÉTAPE 5 : vérifier la généralisabilité des résultats (ensemble \"Test\")\n",
    "# -----------------------------------------------------------------------------\n",
    "\n",
    "# Affichons les tailles d'effet R-deux\n",
    "print(\"Training set score: {:.2f}\".format(ridge.score(X_train, y_train)))\n",
    "print(\"Test set score: {:.2f}\".format(ridge.score(X_test, y_test)))"
   ]
  },
  {
   "cell_type": "markdown",
   "metadata": {},
   "source": [
    "### Discussion Ridge\n",
    "\n",
    "- On a augmenté le biais légèrement et on a diminué la variance de manière importante.\n",
    "\n",
    "\n",
    "- on a donc diminué le surapprentissage et amélioré la généralisation!\n",
    "  - C'est ce qui nous importe le plus!\n",
    "  \n",
    "  \n",
    "- On a toutefois utilisé l'hyperparamètre **alpha** associé à la régression Ridge.\n",
    "  - Plus la valeur de **alpha** est élevée, plus on cherche à diminuer la taille des pararmètres.\n",
    "  \n",
    "\n",
    "- On pourrait utiliser la validation croisée pour trouver une meilleure valeur pour l'hyperparamètre alpha et garder un ensemble test pour évaluer la capacité de généralisation finale."
   ]
  },
  {
   "cell_type": "markdown",
   "metadata": {},
   "source": [
    "### ÉTAPE 2 (modifications pour Ridge avec validation croisée)\n"
   ]
  },
  {
   "cell_type": "code",
   "execution_count": null,
   "metadata": {},
   "outputs": [],
   "source": [
    "# -----------------------------------------------------------------------------\n",
    "# ÉTAPE 2 : importer les fonctions utiles\n",
    "# -----------------------------------------------------------------------------\n",
    "\n",
    "# Importer une fonction qui nous permette de construire aléatoirement les ensembles \"Entraînement\" et \"Test\"\n",
    "from sklearn.model_selection import train_test_split\n",
    "\n",
    "# Importer le modèle de régression linéaire de sklearn\n",
    "from sklearn.linear_model import Ridge\n",
    "\n",
    "# ================================================== Modification ============================================\n",
    "# Importer la fonction de validation croisée\n",
    "from sklearn.model_selection import cross_val_score\n",
    "# ============================================================================================================"
   ]
  },
  {
   "cell_type": "markdown",
   "metadata": {},
   "source": [
    "### ÉTAPE 4 (modifications pour Ridge avec validation croisée)"
   ]
  },
  {
   "cell_type": "code",
   "execution_count": 24,
   "metadata": {},
   "outputs": [
    {
     "name": "stdout",
     "output_type": "stream",
     "text": [
      "Accuracy: 0.85 (+/- 0.19)\n",
      "Accuracy: 0.82 (+/- 0.15)\n",
      "Accuracy: 0.74 (+/- 0.12)\n"
     ]
    }
   ],
   "source": [
    "# -----------------------------------------------------------------------------\n",
    "# ÉTAPE 4 : entraîner le modèle (ensemble \"Entraînement\")\n",
    "# -----------------------------------------------------------------------------\n",
    "\n",
    "# Entraînons notre modèle\n",
    "ridge_01 = Ridge(alpha=0.1).fit(X_train, y_train)\n",
    "ridge_1 = Ridge(alpha=1).fit(X_train, y_train)\n",
    "ridge_10 = Ridge(alpha=10).fit(X_train, y_train)\n",
    "\n",
    "# ================================================== Modification ============================================\n",
    "# Faisons trois itérations d'une validation croisée à 5 \"folds\"\n",
    "scores_01 = cross_val_score(ridge_01, X_train, y_train, cv=5)  # alpha=0.1\n",
    "scores_1 = cross_val_score(ridge_1, X_train, y_train, cv=5)  # alpha=1\n",
    "scores_10 = cross_val_score(ridge_10, X_train, y_train, cv=5)  # alpha=10\n",
    "\n",
    "# Affichons les performances pour chaque alpha\n",
    "print(\"Accuracy: %0.2f (+/- %0.2f)\" % (scores_01.mean(), scores_01.std() * 2))\n",
    "print(\"Accuracy: %0.2f (+/- %0.2f)\" % (scores_1.mean(), scores_1.std() * 2))\n",
    "print(\"Accuracy: %0.2f (+/- %0.2f)\" % (scores_10.mean(), scores_10.std() * 2))\n",
    "# ============================================================================================================\n",
    "\n",
    "# Affichons les valeurs des coefficients\n",
    "print(\"lr.coef_: {}\".format(lr.coef_))\n",
    "print(\"lr.intercept_: {}\".format(lr.intercept_))"
   ]
  },
  {
   "cell_type": "markdown",
   "metadata": {},
   "source": [
    "### ÉTAPE 5 (modifications pour Ridge avec validation croisée)"
   ]
  },
  {
   "cell_type": "code",
   "execution_count": null,
   "metadata": {},
   "outputs": [],
   "source": [
    "# -----------------------------------------------------------------------------\n",
    "# ÉTAPE 5 : vérifier la généralisabilité des résultats (ensemble \"Test\")\n",
    "# -----------------------------------------------------------------------------\n",
    "\n",
    "# ================================================== Modification ============================================\n",
    "# Sélectionner le modèle ayant l'alpha le plus performant sur l'ensemble de validation \n",
    "ridge = ridge_01\n",
    "# ============================================================================================================\n",
    "\n",
    "# Affichons les tailles d'effet R-deux\n",
    "print(\"Training set score: {:.2f}\".format(ridge.score(X_train, y_train)))\n",
    "print(\"Test set score: {:.2f}\".format(ridge.score(X_test, y_test)))"
   ]
  },
  {
   "cell_type": "markdown",
   "metadata": {},
   "source": [
    "### CODE COMPLET (Ridge avec validation croisée)"
   ]
  },
  {
   "cell_type": "code",
   "execution_count": 59,
   "metadata": {},
   "outputs": [
    {
     "name": "stdout",
     "output_type": "stream",
     "text": [
      "scores_001: Accuracy: 0.84 (+/- 0.19)\n",
      "scores_01:  Accuracy: 0.85 (+/- 0.19)\n",
      "scores_1:   Accuracy: 0.82 (+/- 0.15)\n",
      "scores_10:  Accuracy: 0.74 (+/- 0.12)\n",
      "scores_100: Accuracy: 0.54 (+/- 0.12)\n"
     ]
    }
   ],
   "source": [
    "# -----------------------------------------------------------------------------\n",
    "# ÉTAPE 1 : importer les librairies utiles\n",
    "# -----------------------------------------------------------------------------\n",
    "\n",
    "# Importer les librairies utiles\n",
    "import numpy as np\n",
    "import matplotlib.pyplot as plt\n",
    "import pandas as pd\n",
    "import mglearn\n",
    "\n",
    "\n",
    "# -----------------------------------------------------------------------------\n",
    "# ÉTAPE 2 : importer les fonctions utiles\n",
    "# -----------------------------------------------------------------------------\n",
    "\n",
    "# Importer une fonction qui nous permette de construire aléatoirement les ensembles \"Entraînement\" et \"Test\"\n",
    "from sklearn.model_selection import train_test_split\n",
    "\n",
    "# Importer le modèle de régression linéaire de sklearn\n",
    "from sklearn.linear_model import Ridge\n",
    "\n",
    "# Importer la fonction de validation croisée\n",
    "from sklearn.model_selection import cross_val_score\n",
    "\n",
    "\n",
    "# -----------------------------------------------------------------------------\n",
    "# ÉTAPE 3 : importer et préparer le jeu de données \n",
    "# -----------------------------------------------------------------------------\n",
    "\n",
    "# Importons l'échantillon de données \"Boston Housing dataset\"\n",
    "X, y = mglearn.datasets.load_extended_boston()\n",
    "\n",
    "# Séparons aléatoirement nos données en deux sous-ensembles \"Entraînement\" et \"Test\"\n",
    "X_train, X_test, y_train, y_test = train_test_split(X, y, random_state=0)\n",
    "\n",
    "\n",
    "# -----------------------------------------------------------------------------\n",
    "# ÉTAPE 4 : entraîner le modèle (ensemble \"Entraînement\")\n",
    "# -----------------------------------------------------------------------------\n",
    "\n",
    "# Entraînons notre modèle\n",
    "ridge_001 = Ridge(alpha=0.01).fit(X_train, y_train)\n",
    "ridge_01 = Ridge(alpha=0.1).fit(X_train, y_train)\n",
    "ridge_1 = Ridge(alpha=1).fit(X_train, y_train)\n",
    "ridge_10 = Ridge(alpha=10).fit(X_train, y_train)\n",
    "ridge_100 = Ridge(alpha=100).fit(X_train, y_train)\n",
    "\n",
    "# Faisons trois itérations d'une validation croisée à 5 \"folds\"\n",
    "scores_001 = cross_val_score(ridge_001, X_train, y_train, cv=5)  # alpha=0.01\n",
    "scores_01 = cross_val_score(ridge_01, X_train, y_train, cv=5)  # alpha=0.1\n",
    "scores_1 = cross_val_score(ridge_1, X_train, y_train, cv=5)  # alpha=1\n",
    "scores_10 = cross_val_score(ridge_10, X_train, y_train, cv=5)  # alpha=10\n",
    "scores_100 = cross_val_score(ridge_100, X_train, y_train, cv=5)  # alpha=100\n",
    "\n",
    "# Affichons les performances pour chaque alpha\n",
    "print(\"scores_001: Accuracy: %0.2f (+/- %0.2f)\" % (scores_001.mean(), scores_01.std() * 2))\n",
    "print(\"scores_01:  Accuracy: %0.2f (+/- %0.2f)\" % (scores_01.mean(), scores_01.std() * 2))\n",
    "print(\"scores_1:   Accuracy: %0.2f (+/- %0.2f)\" % (scores_1.mean(), scores_1.std() * 2))\n",
    "print(\"scores_10:  Accuracy: %0.2f (+/- %0.2f)\" % (scores_10.mean(), scores_10.std() * 2))\n",
    "print(\"scores_100: Accuracy: %0.2f (+/- %0.2f)\" % (scores_100.mean(), scores_10.std() * 2))"
   ]
  },
  {
   "cell_type": "code",
   "execution_count": 60,
   "metadata": {},
   "outputs": [
    {
     "name": "stdout",
     "output_type": "stream",
     "text": [
      "Training set score: 0.93\n",
      "Test set score: 0.77\n",
      "ridge.coef_: [-2.33300720e+00 -5.44192850e+00 -6.12865463e+00 -7.78524693e-01\n",
      "  1.29152995e+00  1.90222839e+01  4.35864731e+00 -1.11911067e+01\n",
      "  9.55539672e+00 -7.48671406e-01 -5.33307088e-01  6.23384946e+00\n",
      " -2.72886731e+00  5.86117121e+00  2.28233711e-02 -9.01608311e-01\n",
      "  4.66756441e+00 -3.37983354e+00  1.31611460e+00 -3.48895554e+00\n",
      "  4.41536215e-01 -3.51941085e+00 -2.52222659e+00 -2.69562070e+00\n",
      "  2.44649480e-01 -1.02306604e+00  3.04223584e+00 -2.68804128e+00\n",
      "  4.28396019e+00 -2.94109311e+00  8.70934702e+00 -3.13683472e+00\n",
      " -2.91608183e-01  2.17487375e+00  3.62658111e+00  2.30047840e+00\n",
      " -2.83789461e+00 -6.17207969e+00  7.94858912e+00  1.65631996e+00\n",
      "  8.72779643e+00  1.08042552e+00  5.72208008e+00 -4.76401068e+00\n",
      "  5.07461001e+00  8.01603635e+00 -8.44254041e+00 -6.44526450e-01\n",
      " -1.42288399e+01 -7.78524693e-01 -1.38982595e+01 -1.59298479e+01\n",
      "  6.42600904e+00 -1.85273659e+00  6.37949850e+00  4.03122648e+00\n",
      " -9.48053011e-01  1.11134392e+01 -6.97597662e+00 -6.71608608e-01\n",
      " -2.57821560e+00 -6.75682968e+00 -6.64502320e-01 -6.51766291e+00\n",
      " -1.39428124e+00 -5.01222387e+00  4.95142754e-01  4.28518263e+00\n",
      "  2.07929059e+01 -8.25633566e+00  4.23355958e+00 -1.42148213e+01\n",
      " -1.50040331e+01 -1.81482746e+01  1.29863847e+01 -7.81521793e+00\n",
      "  4.17140075e-02  2.98000026e+00  1.11635112e+01 -3.15698906e+00\n",
      " -3.38217977e-02 -4.16581719e+00 -1.16026109e+01  1.06340583e+01\n",
      "  3.69989958e+00  2.57472915e+00 -4.90940106e-01 -1.25359509e+01\n",
      "  4.66411178e+00 -4.68023584e+00  4.82063467e+00  3.90895995e+00\n",
      " -2.35620652e+00 -1.28782370e+01 -7.79203331e-01  8.56450892e+00\n",
      " -2.85003291e+00 -1.34581797e+01  3.82432768e+00 -5.59661786e-01\n",
      "  4.94747863e+00  2.66776499e+00 -6.90762636e+00  2.42585962e+01]\n",
      "ridge.intercept_: 11.119688524319404\n"
     ]
    }
   ],
   "source": [
    "# -----------------------------------------------------------------------------\n",
    "# ÉTAPE 5 : vérifier la généralisabilité des résultats (ensemble \"Test\")\n",
    "# -----------------------------------------------------------------------------\n",
    "\n",
    "# Sélectionner le modèle ayant l'alpha le plus performant sur l'ensemble de validation \n",
    "ridge = ridge_01\n",
    "\n",
    "# Affichons les tailles d'effet R-deux\n",
    "print(\"Training set score: {:.2f}\".format(ridge.score(X_train, y_train)))\n",
    "print(\"Test set score: {:.2f}\".format(ridge.score(X_test, y_test)))\n",
    "\n",
    "# Affichons les valeurs des coefficients\n",
    "print(\"ridge.coef_: {}\".format(ridge.coef_))\n",
    "print(\"ridge.intercept_: {}\".format(ridge.intercept_))"
   ]
  },
  {
   "cell_type": "code",
   "execution_count": 61,
   "metadata": {},
   "outputs": [
    {
     "data": {
      "text/plain": [
       "<matplotlib.legend.Legend at 0xc6451d0>"
      ]
     },
     "execution_count": 61,
     "metadata": {},
     "output_type": "execute_result"
    },
    {
     "data": {
      "image/png": "[encoded data removed]",
      "text/plain": [
       "<Figure size 432x288 with 1 Axes>"
      ]
     },
     "metadata": {
      "needs_background": "light"
     },
     "output_type": "display_data"
    }
   ],
   "source": [
    "plt.plot(ridge_1.coef_, 's', label=\"Ridge alpha=1\")\n",
    "plt.plot(ridge_10.coef_, '^', label=\"Ridge alpha=10\")\n",
    "plt.plot(ridge_01.coef_, 'v', label=\"Ridge alpha=0.1\")\n",
    "plt.plot(lr.coef_, 'o', label=\"LinearRegression\")\n",
    "plt.xlabel(\"Coefficient index\")\n",
    "plt.ylabel(\"Coefficient magnitude\")\n",
    "plt.hlines(0, 0, len(lr.coef_))\n",
    "plt.ylim(-25, 25)\n",
    "plt.legend()"
   ]
  },
  {
   "cell_type": "markdown",
   "metadata": {},
   "source": [
    "## 3.5. Régression linéaire multiple (Lasso)\n",
    "..."
   ]
  },
  {
   "cell_type": "code",
   "execution_count": 67,
   "metadata": {},
   "outputs": [],
   "source": [
    "# -----------------------------------------------------------------------------\n",
    "# ÉTAPE 2 : importer les fonctions utiles\n",
    "# -----------------------------------------------------------------------------\n",
    "\n",
    "# Importer une fonction qui nous permette de construire aléatoirement les ensembles \"Entraînement\" et \"Test\"\n",
    "from sklearn.model_selection import train_test_split\n",
    "\n",
    "# Importer le modèle de régression linéaire de sklearn\n",
    "from sklearn.linear_model import Lasso\n",
    "\n",
    "# Importer la fonction de validation croisée\n",
    "from sklearn.model_selection import cross_val_score"
   ]
  },
  {
   "cell_type": "markdown",
   "metadata": {},
   "source": [
    "### ÉTAPE 2 (modifications pour Lasso avec validation croisée)"
   ]
  },
  {
   "cell_type": "code",
   "execution_count": 68,
   "metadata": {},
   "outputs": [],
   "source": [
    "# -----------------------------------------------------------------------------\n",
    "# ÉTAPE 2 : importer les fonctions utiles\n",
    "# -----------------------------------------------------------------------------\n",
    "\n",
    "# Importer une fonction qui nous permette de construire aléatoirement les ensembles \"Entraînement\" et \"Test\"\n",
    "from sklearn.model_selection import train_test_split\n",
    "\n",
    "# ================================================== Modification ============================================\n",
    "# Importer le modèle de régression linéaire de sklearn\n",
    "# from sklearn.linear_model import Ridge\n",
    "from sklearn.linear_model import Lasso  # On change \"Ridge\" pour \"Lasso\" \n",
    "# ============================================================================================================\n",
    "\n",
    "# Importer la fonction de validation croisée\n",
    "from sklearn.model_selection import cross_val_score"
   ]
  },
  {
   "cell_type": "markdown",
   "metadata": {},
   "source": [
    "### ÉTAPE 4 (modifications pour Lasso avec validation croisée)"
   ]
  },
  {
   "cell_type": "code",
   "execution_count": 69,
   "metadata": {},
   "outputs": [
    {
     "name": "stdout",
     "output_type": "stream",
     "text": [
      "scores_001: Accuracy: 0.80 (+/- 0.27)\n",
      "scores_01:  Accuracy: 0.72 (+/- 0.20)\n",
      "scores_1:   Accuracy: 0.28 (+/- 0.11)\n",
      "scores_10:  Accuracy: -0.03 (+/- 0.05)\n",
      "scores_100: Accuracy: -0.03 (+/- 0.05)\n"
     ]
    }
   ],
   "source": [
    "# -----------------------------------------------------------------------------\n",
    "# ÉTAPE 4 : entraîner le modèle (ensemble \"Entraînement\")\n",
    "# -----------------------------------------------------------------------------\n",
    "\n",
    "# ================================================== Modification ============================================\n",
    "\n",
    "# On change l'utilisation de la fonction \"Ridge\" pour \"Lasso\"\n",
    "\n",
    "# Entraînons notre modèle\n",
    "lasso_001 = Lasso(alpha=0.01, max_iter=100000).fit(X_train, y_train)\n",
    "lasso_01 = Lasso(alpha=0.1).fit(X_train, y_train)\n",
    "lasso_1 = Lasso(alpha=1).fit(X_train, y_train)\n",
    "lasso_10 = Lasso(alpha=10).fit(X_train, y_train)\n",
    "lasso_100 = Lasso(alpha=100).fit(X_train, y_train)\n",
    "\n",
    "# Faisons trois itérations d'une validation croisée à 5 \"folds\"\n",
    "scores_001 = cross_val_score(lasso_001, X_train, y_train, cv=5)  # alpha=0.01\n",
    "scores_01 = cross_val_score(lasso_01, X_train, y_train, cv=5)  # alpha=0.1\n",
    "scores_1 = cross_val_score(lasso_1, X_train, y_train, cv=5)  # alpha=1\n",
    "scores_10 = cross_val_score(lasso_10, X_train, y_train, cv=5)  # alpha=10\n",
    "scores_100 = cross_val_score(lasso_100, X_train, y_train, cv=5)  # alpha=100\n",
    "# ============================================================================================================\n",
    "\n",
    "# Affichons les performances pour chaque alpha\n",
    "print(\"scores_001: Accuracy: %0.2f (+/- %0.2f)\" % (scores_001.mean(), scores_001.std() * 2))\n",
    "print(\"scores_01:  Accuracy: %0.2f (+/- %0.2f)\" % (scores_01.mean(), scores_01.std() * 2))\n",
    "print(\"scores_1:   Accuracy: %0.2f (+/- %0.2f)\" % (scores_1.mean(), scores_1.std() * 2))\n",
    "print(\"scores_10:  Accuracy: %0.2f (+/- %0.2f)\" % (scores_10.mean(), scores_10.std() * 2))\n",
    "print(\"scores_100: Accuracy: %0.2f (+/- %0.2f)\" % (scores_100.mean(), scores_10.std() * 2))"
   ]
  },
  {
   "cell_type": "code",
   "execution_count": 70,
   "metadata": {},
   "outputs": [
    {
     "name": "stdout",
     "output_type": "stream",
     "text": [
      "scores_001: Accuracy: 0.80 (+/- 0.27)\n",
      "scores_01:  Accuracy: 0.72 (+/- 0.20)\n",
      "scores_1:   Accuracy: 0.28 (+/- 0.11)\n",
      "scores_10:  Accuracy: -0.03 (+/- 0.05)\n",
      "scores_100: Accuracy: -0.03 (+/- 0.05)\n"
     ]
    }
   ],
   "source": [
    "# -----------------------------------------------------------------------------\n",
    "# ÉTAPE 1 : importer les librairies utiles\n",
    "# -----------------------------------------------------------------------------\n",
    "\n",
    "# Importer les librairies utiles\n",
    "import numpy as np\n",
    "import matplotlib.pyplot as plt\n",
    "import pandas as pd\n",
    "import mglearn\n",
    "\n",
    "\n",
    "# -----------------------------------------------------------------------------\n",
    "# ÉTAPE 2 : importer les fonctions utiles\n",
    "# -----------------------------------------------------------------------------\n",
    "\n",
    "# Importer une fonction qui nous permette de construire aléatoirement les ensembles \"Entraînement\" et \"Test\"\n",
    "from sklearn.model_selection import train_test_split\n",
    "\n",
    "# Importer le modèle de régression linéaire de sklearn\n",
    "from sklearn.linear_model import Lasso\n",
    "\n",
    "# Importer la fonction de validation croisée\n",
    "from sklearn.model_selection import cross_val_score\n",
    "\n",
    "\n",
    "# -----------------------------------------------------------------------------\n",
    "# ÉTAPE 3 : importer et préparer le jeu de données \n",
    "# -----------------------------------------------------------------------------\n",
    "\n",
    "# Importons l'échantillon de données \"Boston Housing dataset\"\n",
    "X, y = mglearn.datasets.load_extended_boston()\n",
    "\n",
    "# Séparons aléatoirement nos données en deux sous-ensembles \"Entraînement\" et \"Test\"\n",
    "X_train, X_test, y_train, y_test = train_test_split(X, y, random_state=0)\n",
    "\n",
    "\n",
    "# -----------------------------------------------------------------------------\n",
    "# ÉTAPE 4 : entraîner le modèle (ensemble \"Entraînement\")\n",
    "# -----------------------------------------------------------------------------\n",
    "\n",
    "# Entraînons notre modèle\n",
    "lasso_001 = Lasso(alpha=0.01, max_iter=100000).fit(X_train, y_train)\n",
    "lasso_01 = Lasso(alpha=0.1).fit(X_train, y_train)\n",
    "lasso_1 = Lasso(alpha=1).fit(X_train, y_train)\n",
    "lasso_10 = Lasso(alpha=10).fit(X_train, y_train)\n",
    "lasso_100 = Lasso(alpha=100).fit(X_train, y_train)\n",
    "\n",
    "\n",
    "# Faisons trois itérations d'une validation croisée à 5 \"folds\"\n",
    "scores_001 = cross_val_score(lasso_001, X_train, y_train, cv=5)  # alpha=0.01\n",
    "scores_01 = cross_val_score(lasso_01, X_train, y_train, cv=5)  # alpha=0.1\n",
    "scores_1 = cross_val_score(lasso_1, X_train, y_train, cv=5)  # alpha=1\n",
    "scores_10 = cross_val_score(lasso_10, X_train, y_train, cv=5)  # alpha=10\n",
    "scores_100 = cross_val_score(lasso_100, X_train, y_train, cv=5)  # alpha=100\n",
    "\n",
    "# Affichons les performances pour chaque alpha\n",
    "print(\"scores_001: Accuracy: %0.2f (+/- %0.2f)\" % (scores_001.mean(), scores_001.std() * 2))\n",
    "print(\"scores_01:  Accuracy: %0.2f (+/- %0.2f)\" % (scores_01.mean(), scores_01.std() * 2))\n",
    "print(\"scores_1:   Accuracy: %0.2f (+/- %0.2f)\" % (scores_1.mean(), scores_1.std() * 2))\n",
    "print(\"scores_10:  Accuracy: %0.2f (+/- %0.2f)\" % (scores_10.mean(), scores_10.std() * 2))\n",
    "print(\"scores_100: Accuracy: %0.2f (+/- %0.2f)\" % (scores_100.mean(), scores_10.std() * 2))"
   ]
  },
  {
   "cell_type": "code",
   "execution_count": 71,
   "metadata": {},
   "outputs": [
    {
     "name": "stdout",
     "output_type": "stream",
     "text": [
      "Training set score: 0.90\n",
      "Test set score: 0.77\n",
      "ridge.coef_: [ -0.          -0.          -0.           0.          -0.\n",
      "   0.          -0.          -1.43260465  10.94771183   0.\n",
      "   0.           0.          -0.39260971  -0.          -0.\n",
      "  -0.           0.          -0.          -0.          -0.\n",
      "  -0.          -8.75628457  -0.          -0.          -0.\n",
      "  -0.           2.10027365  -0.           0.          -0.\n",
      "   0.          -0.           0.           0.          -0.\n",
      "   0.          -0.          -0.           0.           0.\n",
      "   0.          -0.           0.          -3.96958293   0.\n",
      "   6.61845793  -0.          -0.          -0.           0.\n",
      "  -4.42086828  -2.10371434   3.79607992  -0.           4.38591262\n",
      "   0.           0.           0.1795777   -0.          -1.1614282\n",
      "  -4.33485764  -0.          -0.          -2.13549022  -0.\n",
      "  -1.85967636  -0.          -0.          29.81957225  -2.05624806\n",
      "   0.         -11.98034348 -11.14870694 -11.67147204  12.974385\n",
      " -10.93053676  -0.          -0.           3.441574     0.\n",
      "  -0.          -0.          -8.56750394   0.           0.\n",
      "  -0.           0.          -7.26115293  -0.           0.\n",
      "   0.94254631   0.           0.          -7.62603559   1.65255854\n",
      "   0.           0.         -17.39462971   0.           0.\n",
      "  -0.           0.34404124  -8.24645566  17.5606721 ]\n",
      "ridge.intercept_: 20.47637168564115\n"
     ]
    }
   ],
   "source": [
    "# -----------------------------------------------------------------------------\n",
    "# ÉTAPE 5 : vérifier la généralisabilité des résultats (ensemble \"Test\")\n",
    "# -----------------------------------------------------------------------------\n",
    "\n",
    "# Sélectionner le modèle ayant l'alpha le plus performant sur l'ensemble de validation \n",
    "lasso = lasso_001\n",
    "\n",
    "# Affichons les tailles d'effet R-deux\n",
    "print(\"Training set score: {:.2f}\".format(lasso.score(X_train, y_train)))\n",
    "print(\"Test set score: {:.2f}\".format(lasso.score(X_test, y_test)))\n",
    "\n",
    "# Affichons les valeurs des coefficients\n",
    "print(\"ridge.coef_: {}\".format(lasso.coef_))\n",
    "print(\"ridge.intercept_: {}\".format(lasso.intercept_))"
   ]
  },
  {
   "cell_type": "code",
   "execution_count": 72,
   "metadata": {},
   "outputs": [
    {
     "data": {
      "text/plain": [
       "Text(0, 0.5, 'Coefficient magnitude')"
      ]
     },
     "execution_count": 72,
     "metadata": {},
     "output_type": "execute_result"
    },
    {
     "data": {
      "image/png": "[encoded data removed]",
      "text/plain": [
       "<Figure size 432x288 with 1 Axes>"
      ]
     },
     "metadata": {
      "needs_background": "light"
     },
     "output_type": "display_data"
    }
   ],
   "source": [
    "plt.plot(lasso_001.coef_, 's', label=\"Lasso alpha=1\")\n",
    "plt.plot(ridge_01.coef_, '^', label=\"Lasso alpha=0.01\")\n",
    "plt.legend(ncol=2, loc=(0, 1.05))\n",
    "plt.ylim(-25, 25)\n",
    "plt.xlabel(\"Coefficient index\")\n",
    "plt.ylabel(\"Coefficient magnitude\")"
   ]
  },
  {
   "cell_type": "markdown",
   "metadata": {},
   "source": [
    "## 3.6. Régression linéaire multiple (ElasticNet)\n",
    "\n",
    "...\n"
   ]
  },
  {
   "cell_type": "markdown",
   "metadata": {
    "slideshow": {
     "slide_type": "-"
    }
   },
   "source": [
    "# 4. Apprentissage supervisé: classification\n",
    "\n",
    "- Un type d'analyse souvent réalisé en statistiques inférentielles classiques cherche à rejeter l'hypothèse nulle selon laquelle deux groupes d'individus proviennent de la même population en ce qui a trait à une ou plusieurs variables.\n",
    "  - Le chercheur tente alors de supporter une hypotèse alternative selon laquelle les individus peuvent être séparés en deux groupes à l'aide d'une ou plusieurs variable (ex. test t, ANOVA).\n",
    "  - La conclusion de l'analyse sera appliquée au niveau des **groupes** d'inidividus.\n",
    "  - La généralisation des résultats dépendra du respect des postulats et de la gestion des données manquantes/extrêmes/influentes.\n",
    "  \n",
    "  \n",
    "- En apprentissage machine, on tentera plutôt de prédire auquel des groupes appartiendra un individu futur en fonction de mesures sur une ou plusieurs variables.\n",
    "  - La conclusion de l'analyse est applicable au niveau des **individus**.\n",
    "  - La généralisation des résultats sera évaluée à l'aide d'un ensemble \"test\"."
   ]
  },
  {
   "cell_type": "markdown",
   "metadata": {},
   "source": [
    "## 4.1. Régression logistique\n",
    "\n",
    "\n",
    "- On peut réutiliser la régression linéaire présentée à la section 3 pour solutionner un problème de classification.\n",
    "\n",
    "\n",
    "- Cependant, la valeur prédite n'est pas la somme des valeurs pondérées des prédicteurs.\n",
    "  - Plutôt, on applique une fonction en sortie qui estime si la valeur prédite est positive ou négative.\n",
    "  - Si la valeur est positive, alors on classe l'observation dans la classe A.\n",
    "  - Si la valeur est négative, alors on classe l'observation dans la classe B.\n",
    "  \n",
    "$$\\hat{Y} = \\hat{\\beta_0} + \\hat{\\beta_1}X_1 + \\hat{\\beta_2}X_2 + ... + \\hat{\\beta_p}X_p > 0$$\n",
    "\n",
    "\n",
    "- Ainsi, la régression correspond ici à la **frontière** entre les classes."
   ]
  },
  {
   "cell_type": "markdown",
   "metadata": {},
   "source": [
    "### ÉTAPE 1: importer les librairies utiles"
   ]
  },
  {
   "cell_type": "code",
   "execution_count": 57,
   "metadata": {},
   "outputs": [],
   "source": [
    "# -----------------------------------------------------------------------------\n",
    "# ÉTAPE 1 : importer les librairies utiles\n",
    "# -----------------------------------------------------------------------------\n",
    "\n",
    "# Importer les librairies utiles\n",
    "import numpy as np\n",
    "import pandas as pd\n",
    "import matplotlib.pyplot as plt"
   ]
  },
  {
   "cell_type": "markdown",
   "metadata": {},
   "source": [
    "### ÉTAPE 2: importer les fonctions utiles"
   ]
  },
  {
   "cell_type": "code",
   "execution_count": 58,
   "metadata": {},
   "outputs": [],
   "source": [
    "# -----------------------------------------------------------------------------\n",
    "# ÉTAPE 2 : importer les fonctions utiles\n",
    "# -----------------------------------------------------------------------------\n",
    "\n",
    "# Importer une fonction permettant d'importer un jeu de données sur le cancer\n",
    "from sklearn.datasets import load_breast_cancer\n",
    "\n",
    "# Importer une fonction qui nous permette de construire aléatoirement les ensembles \"Entraînement\" et \"Test\"\n",
    "from sklearn.model_selection import train_test_split\n",
    "\n",
    "# Importer le modèle de régression logistique de sklearn\n",
    "from sklearn.linear_model import LogisticRegression\n",
    "\n",
    "# Importer la fonction de validation croisée\n",
    "from sklearn.model_selection import cross_val_score\n",
    "\n",
    "# Importer la fonction permettant d'afficher le rapport de classification\n",
    "from sklearn.metrics import classification_report\n",
    "from sklearn.metrics import confusion_matrix"
   ]
  },
  {
   "cell_type": "markdown",
   "metadata": {},
   "source": [
    "### ÉTAPE 3:  importer et préparer le jeu de données"
   ]
  },
  {
   "cell_type": "code",
   "execution_count": 59,
   "metadata": {},
   "outputs": [],
   "source": [
    "# -----------------------------------------------------------------------------\n",
    "# ÉTAPE 3 : importer et préparer le jeu de données \n",
    "# -----------------------------------------------------------------------------\n",
    "\n",
    "# Importer le jeux de données d'entraînement et de test.\n",
    "cancer = load_breast_cancer()\n",
    "\n",
    "# Séparons aléatoirement nos données en deus sous-ensembles \"Entraînement\" et \"Test\".\n",
    "X_train, X_test, y_train, y_test = train_test_split(cancer.data, cancer.target, stratify=cancer.target, random_state=42)"
   ]
  },
  {
   "cell_type": "markdown",
   "metadata": {},
   "source": [
    "### ÉTAPE 4: définir et entraîner le modèle"
   ]
  },
  {
   "cell_type": "code",
   "execution_count": 76,
   "metadata": {},
   "outputs": [
    {
     "name": "stdout",
     "output_type": "stream",
     "text": [
      "Training set score: 0.958\n"
     ]
    }
   ],
   "source": [
    "# -----------------------------------------------------------------------------\n",
    "# ÉTAPE 4 : définir et entraîner le modèle\n",
    "# -----------------------------------------------------------------------------\n",
    "\n",
    "# Définir le modèle\n",
    "logreg=LogisticRegression(solver='lbfgs', max_iter=100000)\n",
    "\n",
    "# Entraîner le modèle\n",
    "logreg.fit(X_train, y_train)\n",
    "\n",
    "print(\"Training set score: {:.3f}\".format(logreg.score(X_train, y_train)))"
   ]
  },
  {
   "cell_type": "markdown",
   "metadata": {},
   "source": [
    "### ÉTAPE 5: vérifier la généralisabilité des résultats"
   ]
  },
  {
   "cell_type": "code",
   "execution_count": 75,
   "metadata": {},
   "outputs": [
    {
     "name": "stdout",
     "output_type": "stream",
     "text": [
      "Training set score: 0.958\n",
      "Test set score: 0.958\n",
      "Confusion matrix: \n",
      "\n",
      " [[48  5]\n",
      " [ 1 89]] \n",
      "\n",
      "\n",
      "Classification report: \n",
      "\n",
      "               precision    recall  f1-score   support\n",
      "\n",
      "           0       0.98      0.91      0.94        53\n",
      "           1       0.95      0.99      0.97        90\n",
      "\n",
      "    accuracy                           0.96       143\n",
      "   macro avg       0.96      0.95      0.95       143\n",
      "weighted avg       0.96      0.96      0.96       143\n",
      "\n"
     ]
    }
   ],
   "source": [
    "# -----------------------------------------------------------------------------\n",
    "# ÉTAPE 5 : vérifier la généralisabilité des résultats (ensemble \"Test\")\n",
    "# -----------------------------------------------------------------------------\n",
    "print(\"Test set score: {:.3f}\".format(logreg.score(X_test, y_test)))\n",
    "\n",
    "\n",
    "y_pred = logreg.predict(X_test)\n",
    "cfm = confusion_matrix(y_test, y_pred)\n",
    "\n",
    "print('Confusion matrix: \\n\\n', cfm, '\\n\\n')\n",
    "print('Classification report: \\n\\n', classification_report(y_test, y_pred))"
   ]
  },
  {
   "cell_type": "markdown",
   "metadata": {},
   "source": [
    "### Limites de la régression logistique\n",
    "\n",
    "- Les paramètres du modèle sont instables si:\n",
    "  - Si les classes sont relativement bien séparées;\n",
    "  - Si N est petit.\n",
    "  \n",
    "  \n",
    "- Si on a plus de deux classes, on doit faire une série de régression logistiques, car autant de frontières que de classes.\n",
    "  - Chaque chaque frontière sépare une classe du reste des classes.\n",
    "  \n",
    "- Néanmoins, quand on a suffisamment de données, la régression logistique est une méthode efficace et rapide pour les cas où on a seulement une décision binaire à faire."
   ]
  },
  {
   "cell_type": "markdown",
   "metadata": {},
   "source": [
    "## 4.2. Analyse discriminante linéaire\n",
    "\n",
    "- L'analyse discriminante linéaire permet de pallier les limites de la régression logistique.\n",
    "\n",
    "- Elle a pour objectif de:\n",
    "  - Maximiser la différence entre les centroïdes des classes.\n",
    "  - Minimiser la variabilité à l'intérieur des classes.\n",
    "\n",
    "\n",
    "- Critère à minimiser:\n",
    "$$\\frac{\\mu_1 -\\mu_2}{s_1^2 + s_2^2}$$\n",
    "\n",
    "\n",
    "- L'analyse trouve d'abord un premier axe sur lequel projeter les observations.\n",
    "  - L'axe qui minimise le critère précédant.\n",
    "  \n",
    "\n",
    "- L'analyse trouve ensuite le deuxième axe minimisant le même critère... etc."
   ]
  },
  {
   "cell_type": "markdown",
   "metadata": {},
   "source": [
    "### ÉTAPE 1: importer les librairies utiles"
   ]
  },
  {
   "cell_type": "code",
   "execution_count": 1,
   "metadata": {},
   "outputs": [],
   "source": [
    "# -----------------------------------------------------------------------------\n",
    "# ÉTAPE 1 : importer les librairies utiles\n",
    "# -----------------------------------------------------------------------------\n",
    "\n",
    "# Importer les librairies utiles\n",
    "import numpy as np\n",
    "import pandas as pd\n",
    "import matplotlib.pyplot as plt"
   ]
  },
  {
   "cell_type": "markdown",
   "metadata": {},
   "source": [
    "### ÉTAPE 2: importer les fonctions utiles"
   ]
  },
  {
   "cell_type": "code",
   "execution_count": 2,
   "metadata": {},
   "outputs": [],
   "source": [
    "# -----------------------------------------------------------------------------\n",
    "# ÉTAPE 2 : importer les fonctions utiles\n",
    "# -----------------------------------------------------------------------------\n",
    "\n",
    "# Importer une fonction permettant d'importer un jeu de données sur le cancer\n",
    "from sklearn.datasets import load_breast_cancer\n",
    "\n",
    "# Importer une fonction qui nous permette de construire aléatoirement les ensembles \"Entraînement\" et \"Test\"\n",
    "from sklearn.model_selection import train_test_split\n",
    "\n",
    "# Importer le modèle de régression logistique de sklearn\n",
    "from sklearn.discriminant_analysis import LinearDiscriminantAnalysis\n",
    "\n",
    "# Importer la fonction de validation croisée\n",
    "from sklearn.model_selection import cross_val_score\n",
    "\n",
    "# Importer la fonction permettant d'afficher le rapport de classification\n",
    "from sklearn.metrics import classification_report\n",
    "from sklearn.metrics import confusion_matrix"
   ]
  },
  {
   "cell_type": "markdown",
   "metadata": {},
   "source": [
    "### ÉTAPE 3: importer et préparer le jeu de données"
   ]
  },
  {
   "cell_type": "code",
   "execution_count": 3,
   "metadata": {},
   "outputs": [],
   "source": [
    "# -----------------------------------------------------------------------------\n",
    "# ÉTAPE 3 : importer et préparer le jeu de données \n",
    "# -----------------------------------------------------------------------------\n",
    "\n",
    "# Importer le jeux de données d'entraînement et de test.\n",
    "cancer = load_breast_cancer()\n",
    "\n",
    "# Séparons aléatoirement nos données en deus sous-ensembles \"Entraînement\" et \"Test\".\n",
    "X_train, X_test, y_train, y_test = train_test_split(cancer.data, cancer.target, stratify=cancer.target, random_state=42)"
   ]
  },
  {
   "cell_type": "markdown",
   "metadata": {},
   "source": [
    "### ÉTAPE 4: définir et entraîner le modèle"
   ]
  },
  {
   "cell_type": "code",
   "execution_count": 7,
   "metadata": {},
   "outputs": [],
   "source": [
    "# -----------------------------------------------------------------------------\n",
    "# ÉTAPE 4 : définir et entraîner le modèle\n",
    "# -----------------------------------------------------------------------------\n",
    "\n",
    "# Définir le modèle\n",
    "lda= LinearDiscriminantAnalysis(n_components=1)\n",
    "\n",
    "# Entraîner le modèle\n",
    "lda_model = lda.fit(X_train, y_train)"
   ]
  },
  {
   "cell_type": "markdown",
   "metadata": {},
   "source": [
    "### ÉTAPE 5: vérifier la généralisabilité des résultats"
   ]
  },
  {
   "cell_type": "code",
   "execution_count": 9,
   "metadata": {},
   "outputs": [
    {
     "name": "stdout",
     "output_type": "stream",
     "text": [
      "Test set score: 0.951\n",
      "Confusion matrix: \n",
      "\n",
      " [[47  6]\n",
      " [ 1 89]] \n",
      "\n",
      "\n",
      "Classification report: \n",
      "\n",
      "               precision    recall  f1-score   support\n",
      "\n",
      "           0       0.98      0.89      0.93        53\n",
      "           1       0.94      0.99      0.96        90\n",
      "\n",
      "    accuracy                           0.95       143\n",
      "   macro avg       0.96      0.94      0.95       143\n",
      "weighted avg       0.95      0.95      0.95       143\n",
      "\n"
     ]
    }
   ],
   "source": [
    "# -----------------------------------------------------------------------------\n",
    "# ÉTAPE 5 : vérifier la généralisabilité des résultats (ensemble \"Test\")\n",
    "# -----------------------------------------------------------------------------\n",
    "print(\"Test set score: {:.3f}\".format(lda.score(X_test, y_test)))\n",
    "\n",
    "y_pred = lda_model.predict(X_test)\n",
    "\n",
    "cfm = confusion_matrix(y_test, y_pred)\n",
    "\n",
    "print('Confusion matrix: \\n\\n', cfm, '\\n\\n')\n",
    "print('Classification report: \\n\\n', classification_report(y_test, y_pred))"
   ]
  }
 ],
 "metadata": {
  "celltoolbar": "Slideshow",
  "kernelspec": {
   "display_name": "Python 3",
   "language": "python",
   "name": "python3"
  },
  "language_info": {
   "codemirror_mode": {
    "name": "ipython",
    "version": 3
   },
   "file_extension": ".py",
   "mimetype": "text/x-python",
   "name": "python",
   "nbconvert_exporter": "python",
   "pygments_lexer": "ipython3",
   "version": "3.7.4"
  }
 },
 "nbformat": 4,
 "nbformat_minor": 2
}
